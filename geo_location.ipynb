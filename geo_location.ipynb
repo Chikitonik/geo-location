{
  "cells": [
    {
      "cell_type": "markdown",
      "metadata": {
        "id": "uWRAmI4KSQSp"
      },
      "source": [
        "# Выбор локации для скважины"
      ]
    },
    {
      "cell_type": "markdown",
      "metadata": {
        "id": "GEIvcDVmSQSv"
      },
      "source": [
        "Допустим, вы работаете в добывающей компании «ГлавРосГосНефть». Нужно решить, где бурить новую скважину.\n",
        "\n",
        "Вам предоставлены пробы нефти в трёх регионах: в каждом 10 000 месторождений, где измерили качество нефти и объём её запасов. Постройте модель машинного обучения, которая поможет определить регион, где добыча принесёт наибольшую прибыль. Проанализируйте возможную прибыль и риски техникой *Bootstrap.*\n",
        "\n",
        "Шаги для выбора локации:\n",
        "\n",
        "- В избранном регионе ищут месторождения, для каждого определяют значения признаков;\n",
        "- Строят модель и оценивают объём запасов;\n",
        "- Выбирают месторождения с самым высокими оценками значений. Количество месторождений зависит от бюджета компании и стоимости разработки одной скважины;\n",
        "- Прибыль равна суммарной прибыли отобранных месторождений."
      ]
    },
    {
      "cell_type": "markdown",
      "metadata": {
        "id": "PO8jDJAC62P-"
      },
      "source": [
        "Условия задачи:\n",
        "- Для обучения модели подходит только линейная регрессия (остальные — недостаточно предсказуемые).\n",
        "- При разведке региона исследуют 500 точек, из которых с помощью машинного обучения выбирают 200 лучших для разработки.\n",
        "- Бюджет на разработку скважин в регионе — 10 млрд рублей.\n",
        "- При нынешних ценах один баррель сырья приносит 450 рублей дохода. Доход с каждой единицы продукта составляет 450 тыс. рублей, поскольку объём указан в тысячах баррелей.\n",
        "- После оценки рисков нужно оставить лишь те регионы, в которых вероятность убытков меньше 2.5%. Среди них выбирают регион с наибольшей средней прибылью.\n",
        "\n",
        "Данные синтетические: детали контрактов и характеристики месторождений не разглашаются."
      ]
    },
    {
      "cell_type": "markdown",
      "metadata": {
        "id": "i9XE7bOmSQSw"
      },
      "source": [
        "## Загрузка и подготовка данных"
      ]
    },
    {
      "cell_type": "code",
      "execution_count": null,
      "metadata": {
        "id": "3d0JiLtBSQSx"
      },
      "outputs": [],
      "source": [
        "import pandas as pd\n",
        "import numpy as np\n",
        "# remove outliers\n",
        "from scipy import stats as st\n",
        "# plot\n",
        "import plotly.graph_objs as go\n",
        "from plotly.subplots import make_subplots\n",
        "# split\n",
        "from sklearn.model_selection import train_test_split\n",
        "# meodel\n",
        "from sklearn.linear_model import LinearRegression\n",
        "# metrics\n",
        "from sklearn.metrics import r2_score\n",
        "from sklearn.metrics import mean_absolute_error"
      ]
    },
    {
      "cell_type": "code",
      "execution_count": null,
      "metadata": {
        "colab": {
          "base_uri": "https://localhost:8080/"
        },
        "id": "1y1FS4OiSha5",
        "outputId": "6216e0a4-f822-421c-b07e-ca36eb2a0ab8"
      },
      "outputs": [
        {
          "name": "stdout",
          "output_type": "stream",
          "text": [
            "Drive already mounted at /content/gdrive; to attempt to forcibly remount, call drive.mount(\"/content/gdrive\", force_remount=True).\n"
          ]
        }
      ],
      "source": [
        "# for google colab:\n",
        "from google.colab import drive\n",
        "drive.mount('/content/gdrive')\n",
        "\n",
        "df_0 = pd.read_csv('gdrive/My Drive/Colab Notebooks/8-geo-location/data/geo_data_0.csv')#, sep='\\t')\n",
        "df_1 = pd.read_csv('gdrive/My Drive/Colab Notebooks/8-geo-location/data/geo_data_1.csv')#, sep='\\t')\n",
        "df_2 = pd.read_csv('gdrive/My Drive/Colab Notebooks/8-geo-location/data/geo_data_2.csv')#, sep='\\t')\n",
        "\n",
        "# for yandex jupiter:\n",
        "#df_0 = pd.read_csv('/datasets/geo_data_0.csv')\n",
        "#df_1 = pd.read_csv('/datasets/geo_data_1.csv')\n",
        "#df_2 = pd.read_csv('/datasets/geo_data_2.csv')"
      ]
    },
    {
      "cell_type": "markdown",
      "metadata": {
        "id": "mFU6cfoTTvUI"
      },
      "source": [
        "- `id` — уникальный идентификатор скважины;\n",
        "- `f0`, `f1`, `f2` — три признака точек (неважно, что они означают, но сами признаки значимы);\n",
        "-  `product` — объём запасов в скважине (тыс. баррелей)."
      ]
    },
    {
      "cell_type": "markdown",
      "metadata": {
        "id": "SHRef3ECUGGX"
      },
      "source": [
        "Условия задачи:\n",
        "- Для обучения модели подходит только линейная регрессия (остальные — недостаточно предсказуемые).\n",
        "- При разведке региона исследуют 500 точек, из которых с помощью машинного обучения выбирают 200 лучших для разработки.\n",
        "- Бюджет на разработку скважин в регионе — 10 млрд рублей.\n",
        "- При нынешних ценах один баррель сырья приносит 450 рублей дохода. Доход с каждой единицы продукта составляет 450 тыс. рублей, поскольку объём указан в тысячах баррелей.\n",
        "- После оценки рисков нужно оставить лишь те регионы, в которых вероятность убытков меньше 2.5%. Среди них выбирают регион с наибольшей средней прибылью."
      ]
    },
    {
      "cell_type": "code",
      "execution_count": null,
      "metadata": {
        "colab": {
          "base_uri": "https://localhost:8080/",
          "height": 143
        },
        "id": "PYFdmV8dSQSx",
        "outputId": "cbdf5763-614a-459b-f185-39ca6a630d0c"
      },
      "outputs": [
        {
          "data": {
            "text/html": [
              "\n",
              "  <div id=\"df-881efea6-6d3f-4512-9269-95a711423bb9\">\n",
              "    <div class=\"colab-df-container\">\n",
              "      <div>\n",
              "<style scoped>\n",
              "    .dataframe tbody tr th:only-of-type {\n",
              "        vertical-align: middle;\n",
              "    }\n",
              "\n",
              "    .dataframe tbody tr th {\n",
              "        vertical-align: top;\n",
              "    }\n",
              "\n",
              "    .dataframe thead th {\n",
              "        text-align: right;\n",
              "    }\n",
              "</style>\n",
              "<table border=\"1\" class=\"dataframe\">\n",
              "  <thead>\n",
              "    <tr style=\"text-align: right;\">\n",
              "      <th></th>\n",
              "      <th>id</th>\n",
              "      <th>f0</th>\n",
              "      <th>f1</th>\n",
              "      <th>f2</th>\n",
              "      <th>product</th>\n",
              "      <th>region</th>\n",
              "    </tr>\n",
              "  </thead>\n",
              "  <tbody>\n",
              "    <tr>\n",
              "      <th>0</th>\n",
              "      <td>txEyH</td>\n",
              "      <td>0.705745</td>\n",
              "      <td>-0.497823</td>\n",
              "      <td>1.221170</td>\n",
              "      <td>105.280062</td>\n",
              "      <td>geo_0</td>\n",
              "    </tr>\n",
              "    <tr>\n",
              "      <th>1</th>\n",
              "      <td>2acmU</td>\n",
              "      <td>1.334711</td>\n",
              "      <td>-0.340164</td>\n",
              "      <td>4.365080</td>\n",
              "      <td>73.037750</td>\n",
              "      <td>geo_0</td>\n",
              "    </tr>\n",
              "    <tr>\n",
              "      <th>2</th>\n",
              "      <td>409Wp</td>\n",
              "      <td>1.022732</td>\n",
              "      <td>0.151990</td>\n",
              "      <td>1.419926</td>\n",
              "      <td>85.265647</td>\n",
              "      <td>geo_0</td>\n",
              "    </tr>\n",
              "  </tbody>\n",
              "</table>\n",
              "</div>\n",
              "      <button class=\"colab-df-convert\" onclick=\"convertToInteractive('df-881efea6-6d3f-4512-9269-95a711423bb9')\"\n",
              "              title=\"Convert this dataframe to an interactive table.\"\n",
              "              style=\"display:none;\">\n",
              "        \n",
              "  <svg xmlns=\"http://www.w3.org/2000/svg\" height=\"24px\"viewBox=\"0 0 24 24\"\n",
              "       width=\"24px\">\n",
              "    <path d=\"M0 0h24v24H0V0z\" fill=\"none\"/>\n",
              "    <path d=\"M18.56 5.44l.94 2.06.94-2.06 2.06-.94-2.06-.94-.94-2.06-.94 2.06-2.06.94zm-11 1L8.5 8.5l.94-2.06 2.06-.94-2.06-.94L8.5 2.5l-.94 2.06-2.06.94zm10 10l.94 2.06.94-2.06 2.06-.94-2.06-.94-.94-2.06-.94 2.06-2.06.94z\"/><path d=\"M17.41 7.96l-1.37-1.37c-.4-.4-.92-.59-1.43-.59-.52 0-1.04.2-1.43.59L10.3 9.45l-7.72 7.72c-.78.78-.78 2.05 0 2.83L4 21.41c.39.39.9.59 1.41.59.51 0 1.02-.2 1.41-.59l7.78-7.78 2.81-2.81c.8-.78.8-2.07 0-2.86zM5.41 20L4 18.59l7.72-7.72 1.47 1.35L5.41 20z\"/>\n",
              "  </svg>\n",
              "      </button>\n",
              "      \n",
              "  <style>\n",
              "    .colab-df-container {\n",
              "      display:flex;\n",
              "      flex-wrap:wrap;\n",
              "      gap: 12px;\n",
              "    }\n",
              "\n",
              "    .colab-df-convert {\n",
              "      background-color: #E8F0FE;\n",
              "      border: none;\n",
              "      border-radius: 50%;\n",
              "      cursor: pointer;\n",
              "      display: none;\n",
              "      fill: #1967D2;\n",
              "      height: 32px;\n",
              "      padding: 0 0 0 0;\n",
              "      width: 32px;\n",
              "    }\n",
              "\n",
              "    .colab-df-convert:hover {\n",
              "      background-color: #E2EBFA;\n",
              "      box-shadow: 0px 1px 2px rgba(60, 64, 67, 0.3), 0px 1px 3px 1px rgba(60, 64, 67, 0.15);\n",
              "      fill: #174EA6;\n",
              "    }\n",
              "\n",
              "    [theme=dark] .colab-df-convert {\n",
              "      background-color: #3B4455;\n",
              "      fill: #D2E3FC;\n",
              "    }\n",
              "\n",
              "    [theme=dark] .colab-df-convert:hover {\n",
              "      background-color: #434B5C;\n",
              "      box-shadow: 0px 1px 3px 1px rgba(0, 0, 0, 0.15);\n",
              "      filter: drop-shadow(0px 1px 2px rgba(0, 0, 0, 0.3));\n",
              "      fill: #FFFFFF;\n",
              "    }\n",
              "  </style>\n",
              "\n",
              "      <script>\n",
              "        const buttonEl =\n",
              "          document.querySelector('#df-881efea6-6d3f-4512-9269-95a711423bb9 button.colab-df-convert');\n",
              "        buttonEl.style.display =\n",
              "          google.colab.kernel.accessAllowed ? 'block' : 'none';\n",
              "\n",
              "        async function convertToInteractive(key) {\n",
              "          const element = document.querySelector('#df-881efea6-6d3f-4512-9269-95a711423bb9');\n",
              "          const dataTable =\n",
              "            await google.colab.kernel.invokeFunction('convertToInteractive',\n",
              "                                                     [key], {});\n",
              "          if (!dataTable) return;\n",
              "\n",
              "          const docLinkHtml = 'Like what you see? Visit the ' +\n",
              "            '<a target=\"_blank\" href=https://colab.research.google.com/notebooks/data_table.ipynb>data table notebook</a>'\n",
              "            + ' to learn more about interactive tables.';\n",
              "          element.innerHTML = '';\n",
              "          dataTable['output_type'] = 'display_data';\n",
              "          await google.colab.output.renderOutput(dataTable, element);\n",
              "          const docLink = document.createElement('div');\n",
              "          docLink.innerHTML = docLinkHtml;\n",
              "          element.appendChild(docLink);\n",
              "        }\n",
              "      </script>\n",
              "    </div>\n",
              "  </div>\n",
              "  "
            ],
            "text/plain": [
              "      id        f0        f1        f2     product region\n",
              "0  txEyH  0.705745 -0.497823  1.221170  105.280062  geo_0\n",
              "1  2acmU  1.334711 -0.340164  4.365080   73.037750  geo_0\n",
              "2  409Wp  1.022732  0.151990  1.419926   85.265647  geo_0"
            ]
          },
          "execution_count": 3,
          "metadata": {},
          "output_type": "execute_result"
        }
      ],
      "source": [
        "df_0['region'] = 'geo_0'\n",
        "df_0.head(3)"
      ]
    },
    {
      "cell_type": "code",
      "execution_count": null,
      "metadata": {
        "colab": {
          "base_uri": "https://localhost:8080/",
          "height": 143
        },
        "id": "nroqGb7kTE8g",
        "outputId": "9196af76-5287-49d5-afb2-5a921d102c16"
      },
      "outputs": [
        {
          "data": {
            "text/html": [
              "\n",
              "  <div id=\"df-24e87372-2603-45d1-a8cf-a836f3fff03c\">\n",
              "    <div class=\"colab-df-container\">\n",
              "      <div>\n",
              "<style scoped>\n",
              "    .dataframe tbody tr th:only-of-type {\n",
              "        vertical-align: middle;\n",
              "    }\n",
              "\n",
              "    .dataframe tbody tr th {\n",
              "        vertical-align: top;\n",
              "    }\n",
              "\n",
              "    .dataframe thead th {\n",
              "        text-align: right;\n",
              "    }\n",
              "</style>\n",
              "<table border=\"1\" class=\"dataframe\">\n",
              "  <thead>\n",
              "    <tr style=\"text-align: right;\">\n",
              "      <th></th>\n",
              "      <th>id</th>\n",
              "      <th>f0</th>\n",
              "      <th>f1</th>\n",
              "      <th>f2</th>\n",
              "      <th>product</th>\n",
              "      <th>region</th>\n",
              "    </tr>\n",
              "  </thead>\n",
              "  <tbody>\n",
              "    <tr>\n",
              "      <th>0</th>\n",
              "      <td>kBEdx</td>\n",
              "      <td>-15.001348</td>\n",
              "      <td>-8.276000</td>\n",
              "      <td>-0.005876</td>\n",
              "      <td>3.179103</td>\n",
              "      <td>geo_1</td>\n",
              "    </tr>\n",
              "    <tr>\n",
              "      <th>1</th>\n",
              "      <td>62mP7</td>\n",
              "      <td>14.272088</td>\n",
              "      <td>-3.475083</td>\n",
              "      <td>0.999183</td>\n",
              "      <td>26.953261</td>\n",
              "      <td>geo_1</td>\n",
              "    </tr>\n",
              "    <tr>\n",
              "      <th>2</th>\n",
              "      <td>vyE1P</td>\n",
              "      <td>6.263187</td>\n",
              "      <td>-5.948386</td>\n",
              "      <td>5.001160</td>\n",
              "      <td>134.766305</td>\n",
              "      <td>geo_1</td>\n",
              "    </tr>\n",
              "  </tbody>\n",
              "</table>\n",
              "</div>\n",
              "      <button class=\"colab-df-convert\" onclick=\"convertToInteractive('df-24e87372-2603-45d1-a8cf-a836f3fff03c')\"\n",
              "              title=\"Convert this dataframe to an interactive table.\"\n",
              "              style=\"display:none;\">\n",
              "        \n",
              "  <svg xmlns=\"http://www.w3.org/2000/svg\" height=\"24px\"viewBox=\"0 0 24 24\"\n",
              "       width=\"24px\">\n",
              "    <path d=\"M0 0h24v24H0V0z\" fill=\"none\"/>\n",
              "    <path d=\"M18.56 5.44l.94 2.06.94-2.06 2.06-.94-2.06-.94-.94-2.06-.94 2.06-2.06.94zm-11 1L8.5 8.5l.94-2.06 2.06-.94-2.06-.94L8.5 2.5l-.94 2.06-2.06.94zm10 10l.94 2.06.94-2.06 2.06-.94-2.06-.94-.94-2.06-.94 2.06-2.06.94z\"/><path d=\"M17.41 7.96l-1.37-1.37c-.4-.4-.92-.59-1.43-.59-.52 0-1.04.2-1.43.59L10.3 9.45l-7.72 7.72c-.78.78-.78 2.05 0 2.83L4 21.41c.39.39.9.59 1.41.59.51 0 1.02-.2 1.41-.59l7.78-7.78 2.81-2.81c.8-.78.8-2.07 0-2.86zM5.41 20L4 18.59l7.72-7.72 1.47 1.35L5.41 20z\"/>\n",
              "  </svg>\n",
              "      </button>\n",
              "      \n",
              "  <style>\n",
              "    .colab-df-container {\n",
              "      display:flex;\n",
              "      flex-wrap:wrap;\n",
              "      gap: 12px;\n",
              "    }\n",
              "\n",
              "    .colab-df-convert {\n",
              "      background-color: #E8F0FE;\n",
              "      border: none;\n",
              "      border-radius: 50%;\n",
              "      cursor: pointer;\n",
              "      display: none;\n",
              "      fill: #1967D2;\n",
              "      height: 32px;\n",
              "      padding: 0 0 0 0;\n",
              "      width: 32px;\n",
              "    }\n",
              "\n",
              "    .colab-df-convert:hover {\n",
              "      background-color: #E2EBFA;\n",
              "      box-shadow: 0px 1px 2px rgba(60, 64, 67, 0.3), 0px 1px 3px 1px rgba(60, 64, 67, 0.15);\n",
              "      fill: #174EA6;\n",
              "    }\n",
              "\n",
              "    [theme=dark] .colab-df-convert {\n",
              "      background-color: #3B4455;\n",
              "      fill: #D2E3FC;\n",
              "    }\n",
              "\n",
              "    [theme=dark] .colab-df-convert:hover {\n",
              "      background-color: #434B5C;\n",
              "      box-shadow: 0px 1px 3px 1px rgba(0, 0, 0, 0.15);\n",
              "      filter: drop-shadow(0px 1px 2px rgba(0, 0, 0, 0.3));\n",
              "      fill: #FFFFFF;\n",
              "    }\n",
              "  </style>\n",
              "\n",
              "      <script>\n",
              "        const buttonEl =\n",
              "          document.querySelector('#df-24e87372-2603-45d1-a8cf-a836f3fff03c button.colab-df-convert');\n",
              "        buttonEl.style.display =\n",
              "          google.colab.kernel.accessAllowed ? 'block' : 'none';\n",
              "\n",
              "        async function convertToInteractive(key) {\n",
              "          const element = document.querySelector('#df-24e87372-2603-45d1-a8cf-a836f3fff03c');\n",
              "          const dataTable =\n",
              "            await google.colab.kernel.invokeFunction('convertToInteractive',\n",
              "                                                     [key], {});\n",
              "          if (!dataTable) return;\n",
              "\n",
              "          const docLinkHtml = 'Like what you see? Visit the ' +\n",
              "            '<a target=\"_blank\" href=https://colab.research.google.com/notebooks/data_table.ipynb>data table notebook</a>'\n",
              "            + ' to learn more about interactive tables.';\n",
              "          element.innerHTML = '';\n",
              "          dataTable['output_type'] = 'display_data';\n",
              "          await google.colab.output.renderOutput(dataTable, element);\n",
              "          const docLink = document.createElement('div');\n",
              "          docLink.innerHTML = docLinkHtml;\n",
              "          element.appendChild(docLink);\n",
              "        }\n",
              "      </script>\n",
              "    </div>\n",
              "  </div>\n",
              "  "
            ],
            "text/plain": [
              "      id         f0        f1        f2     product region\n",
              "0  kBEdx -15.001348 -8.276000 -0.005876    3.179103  geo_1\n",
              "1  62mP7  14.272088 -3.475083  0.999183   26.953261  geo_1\n",
              "2  vyE1P   6.263187 -5.948386  5.001160  134.766305  geo_1"
            ]
          },
          "execution_count": 4,
          "metadata": {},
          "output_type": "execute_result"
        }
      ],
      "source": [
        "df_1['region'] = 'geo_1'\n",
        "df_1.head(3)"
      ]
    },
    {
      "cell_type": "code",
      "execution_count": null,
      "metadata": {
        "colab": {
          "base_uri": "https://localhost:8080/",
          "height": 143
        },
        "id": "aCWeA-c9TJeo",
        "outputId": "5fbdd7b0-0134-4041-faf4-c02366e5fde7"
      },
      "outputs": [
        {
          "data": {
            "text/html": [
              "\n",
              "  <div id=\"df-b5b300dd-35df-4e8d-835a-a29c9bebf3c1\">\n",
              "    <div class=\"colab-df-container\">\n",
              "      <div>\n",
              "<style scoped>\n",
              "    .dataframe tbody tr th:only-of-type {\n",
              "        vertical-align: middle;\n",
              "    }\n",
              "\n",
              "    .dataframe tbody tr th {\n",
              "        vertical-align: top;\n",
              "    }\n",
              "\n",
              "    .dataframe thead th {\n",
              "        text-align: right;\n",
              "    }\n",
              "</style>\n",
              "<table border=\"1\" class=\"dataframe\">\n",
              "  <thead>\n",
              "    <tr style=\"text-align: right;\">\n",
              "      <th></th>\n",
              "      <th>id</th>\n",
              "      <th>f0</th>\n",
              "      <th>f1</th>\n",
              "      <th>f2</th>\n",
              "      <th>product</th>\n",
              "      <th>region</th>\n",
              "    </tr>\n",
              "  </thead>\n",
              "  <tbody>\n",
              "    <tr>\n",
              "      <th>0</th>\n",
              "      <td>fwXo0</td>\n",
              "      <td>-1.146987</td>\n",
              "      <td>0.963328</td>\n",
              "      <td>-0.828965</td>\n",
              "      <td>27.758673</td>\n",
              "      <td>geo_2</td>\n",
              "    </tr>\n",
              "    <tr>\n",
              "      <th>1</th>\n",
              "      <td>WJtFt</td>\n",
              "      <td>0.262778</td>\n",
              "      <td>0.269839</td>\n",
              "      <td>-2.530187</td>\n",
              "      <td>56.069697</td>\n",
              "      <td>geo_2</td>\n",
              "    </tr>\n",
              "    <tr>\n",
              "      <th>2</th>\n",
              "      <td>ovLUW</td>\n",
              "      <td>0.194587</td>\n",
              "      <td>0.289035</td>\n",
              "      <td>-5.586433</td>\n",
              "      <td>62.871910</td>\n",
              "      <td>geo_2</td>\n",
              "    </tr>\n",
              "  </tbody>\n",
              "</table>\n",
              "</div>\n",
              "      <button class=\"colab-df-convert\" onclick=\"convertToInteractive('df-b5b300dd-35df-4e8d-835a-a29c9bebf3c1')\"\n",
              "              title=\"Convert this dataframe to an interactive table.\"\n",
              "              style=\"display:none;\">\n",
              "        \n",
              "  <svg xmlns=\"http://www.w3.org/2000/svg\" height=\"24px\"viewBox=\"0 0 24 24\"\n",
              "       width=\"24px\">\n",
              "    <path d=\"M0 0h24v24H0V0z\" fill=\"none\"/>\n",
              "    <path d=\"M18.56 5.44l.94 2.06.94-2.06 2.06-.94-2.06-.94-.94-2.06-.94 2.06-2.06.94zm-11 1L8.5 8.5l.94-2.06 2.06-.94-2.06-.94L8.5 2.5l-.94 2.06-2.06.94zm10 10l.94 2.06.94-2.06 2.06-.94-2.06-.94-.94-2.06-.94 2.06-2.06.94z\"/><path d=\"M17.41 7.96l-1.37-1.37c-.4-.4-.92-.59-1.43-.59-.52 0-1.04.2-1.43.59L10.3 9.45l-7.72 7.72c-.78.78-.78 2.05 0 2.83L4 21.41c.39.39.9.59 1.41.59.51 0 1.02-.2 1.41-.59l7.78-7.78 2.81-2.81c.8-.78.8-2.07 0-2.86zM5.41 20L4 18.59l7.72-7.72 1.47 1.35L5.41 20z\"/>\n",
              "  </svg>\n",
              "      </button>\n",
              "      \n",
              "  <style>\n",
              "    .colab-df-container {\n",
              "      display:flex;\n",
              "      flex-wrap:wrap;\n",
              "      gap: 12px;\n",
              "    }\n",
              "\n",
              "    .colab-df-convert {\n",
              "      background-color: #E8F0FE;\n",
              "      border: none;\n",
              "      border-radius: 50%;\n",
              "      cursor: pointer;\n",
              "      display: none;\n",
              "      fill: #1967D2;\n",
              "      height: 32px;\n",
              "      padding: 0 0 0 0;\n",
              "      width: 32px;\n",
              "    }\n",
              "\n",
              "    .colab-df-convert:hover {\n",
              "      background-color: #E2EBFA;\n",
              "      box-shadow: 0px 1px 2px rgba(60, 64, 67, 0.3), 0px 1px 3px 1px rgba(60, 64, 67, 0.15);\n",
              "      fill: #174EA6;\n",
              "    }\n",
              "\n",
              "    [theme=dark] .colab-df-convert {\n",
              "      background-color: #3B4455;\n",
              "      fill: #D2E3FC;\n",
              "    }\n",
              "\n",
              "    [theme=dark] .colab-df-convert:hover {\n",
              "      background-color: #434B5C;\n",
              "      box-shadow: 0px 1px 3px 1px rgba(0, 0, 0, 0.15);\n",
              "      filter: drop-shadow(0px 1px 2px rgba(0, 0, 0, 0.3));\n",
              "      fill: #FFFFFF;\n",
              "    }\n",
              "  </style>\n",
              "\n",
              "      <script>\n",
              "        const buttonEl =\n",
              "          document.querySelector('#df-b5b300dd-35df-4e8d-835a-a29c9bebf3c1 button.colab-df-convert');\n",
              "        buttonEl.style.display =\n",
              "          google.colab.kernel.accessAllowed ? 'block' : 'none';\n",
              "\n",
              "        async function convertToInteractive(key) {\n",
              "          const element = document.querySelector('#df-b5b300dd-35df-4e8d-835a-a29c9bebf3c1');\n",
              "          const dataTable =\n",
              "            await google.colab.kernel.invokeFunction('convertToInteractive',\n",
              "                                                     [key], {});\n",
              "          if (!dataTable) return;\n",
              "\n",
              "          const docLinkHtml = 'Like what you see? Visit the ' +\n",
              "            '<a target=\"_blank\" href=https://colab.research.google.com/notebooks/data_table.ipynb>data table notebook</a>'\n",
              "            + ' to learn more about interactive tables.';\n",
              "          element.innerHTML = '';\n",
              "          dataTable['output_type'] = 'display_data';\n",
              "          await google.colab.output.renderOutput(dataTable, element);\n",
              "          const docLink = document.createElement('div');\n",
              "          docLink.innerHTML = docLinkHtml;\n",
              "          element.appendChild(docLink);\n",
              "        }\n",
              "      </script>\n",
              "    </div>\n",
              "  </div>\n",
              "  "
            ],
            "text/plain": [
              "      id        f0        f1        f2    product region\n",
              "0  fwXo0 -1.146987  0.963328 -0.828965  27.758673  geo_2\n",
              "1  WJtFt  0.262778  0.269839 -2.530187  56.069697  geo_2\n",
              "2  ovLUW  0.194587  0.289035 -5.586433  62.871910  geo_2"
            ]
          },
          "execution_count": 5,
          "metadata": {},
          "output_type": "execute_result"
        }
      ],
      "source": [
        "df_2['region'] = 'geo_2'\n",
        "df_2.head(3)"
      ]
    },
    {
      "cell_type": "code",
      "execution_count": null,
      "metadata": {
        "id": "wxCr6-lqUkCY"
      },
      "outputs": [],
      "source": [
        "df = pd.concat([df_0, df_1, df_2]).reset_index(drop=True)"
      ]
    },
    {
      "cell_type": "markdown",
      "metadata": {
        "id": "PmbHQp7593Uh"
      },
      "source": [
        "Анализ данных на наличие выбросов"
      ]
    },
    {
      "cell_type": "code",
      "execution_count": null,
      "metadata": {
        "id": "bdwZbecacABZ"
      },
      "outputs": [],
      "source": [
        "def df_plots(df, list_cols_names,\n",
        "                      title_text='Boxblot', kind='Box',\n",
        "                      rows=1, cols=1, height=500, width=800,\n",
        "                      y_for_Bar=''):\n",
        "  '''Function receives DataFrame data and list columns names,\n",
        "  when builds Boxblot or Histogram or Bar\n",
        "  - imports:\n",
        "  import plotly.graph_objs as go\n",
        "  from plotly.subplots import make_subplots'''\n",
        "\n",
        "  fig = make_subplots(rows=rows, cols=cols)\n",
        "  row = 1\n",
        "  col = 1\n",
        "  for col_name in list_cols_names:\n",
        "    if kind == 'Box':\n",
        "      fig.append_trace(go.Box(y=df[col_name], name=col_name), row, col)\n",
        "    elif kind == 'Histogram':\n",
        "      fig.append_trace(go.Histogram(y=df[col_name], name=col_name), row, col)\n",
        "    elif kind == 'Bar':\n",
        "      fig.append_trace(go.Bar(x=df[col_name],y=df[y_for_Bar],name=col_name), row, col)\n",
        "    col += 1\n",
        "    if col > cols:\n",
        "      col = 1\n",
        "      row +=1\n",
        "  \n",
        "  fig.update_layout(title_text=title_text, height=height, width=width)\n",
        "  fig.show()\n",
        "\n",
        "class myfunc:\n",
        "  '''Custom functions'''\n",
        "myfunc.df_plots =  df_plots"
      ]
    },
    {
      "cell_type": "code",
      "execution_count": null,
      "metadata": {
        "id": "hE4d3NzAgMwD"
      },
      "outputs": [],
      "source": [
        "myfunc.df_plots(df_0, ['f0','f1', 'f2', 'product'], df_0['region'][0],cols=4)\n",
        "myfunc.df_plots(df_0, ['f0','f1', 'f2', 'product'], df_0['region'][0], 'Histogram', cols=4)"
      ]
    },
    {
      "cell_type": "markdown",
      "source": [
        "![newplot.png](data:image/png;base64,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)"
      ],
      "metadata": {
        "id": "i6w4w17AQS3b"
      }
    },
    {
      "cell_type": "markdown",
      "source": [
        "![newplot (1).png](data:image/png;base64,iVBORw0KGgoAAAANSUhEUgAAAyAAAAH0CAYAAADFQEl4AAAAAXNSR0IArs4c6QAAIABJREFUeF7tvX2sHtWZ4HluDPa9NI7jOB0TQwTt6dZCVoGdrNjxbjIkyrLKLFbUEmnDKiPt0I6Hr9GKwRDLWAJpQOt4zdekpxcCcTzJSBMtMULbHZmeaDMzNKuRPLKaFvQKGGllBSljcLaNTUywgwlendep99atW2+dc+o5X1Xn538QrvP5e573+v3d51TV3Llz584p/kAAAhCAAAQgAAEIQAACEIhAYA4BiUCZKSAAAQhAAAIQgAAEIACBCQEEhESAAAQgAAEIQAACEIAABKIRQECioWYiCEAAAhCAAAQgAAEIQAABIQcgAAEIQAACEIAABCAAgWgEEJBoqJkIAhCAAAQgAAEIQAACEEBAyAEIQAACEIAABCAAAQhAIBoBBCQaaiaCAAQgAAEIQAACEIAABBAQcgACEIAABCAAAQhAAAIQiEYAAYmGmokgAAEIQAACEIAABCAAAQSEHIAABCAAAQhAAAIQgAAEohFAQKKhZiIIQAACEIAABCAAAQhAAAEhByAAAQhAAAIQgAAEIACBaAQQkGiomQgCEIAABCAAAQhAAAIQQEDIAQhAAAIQgAAEIAABCEAgGgEEJBpqJoIABCAAAQhAAAIQgAAEEBByAAIQgAAEIAABCEAAAhCIRgABiYaaiSAAAQhAAAIQgAAEIAABBIQcgAAEIAABCEAAAhCAAASiEUBAoqFmIghAAAIQgAAEIAABCEAAASEHIAABCEAAAhCAAAQgAIFoBBCQaKiZCAIQgAAEIAABCEAAAhBAQMgBCEAAAhCAAAQgAAEIQCAaAQQkGmomggAEIAABCEAAAhCAAAQQEHIAAhCAAAQgAAEIQAACEIhGAAGJhpqJIAABCEAAAhCAAAQgAAEEhByAAAQgAAEIQAACEIAABKIRQECioWYiCEAAAhCAAAQgAAEIQAABIQcgAAEIQAACEIAABCAAgWgEEJBoqJkIAhCAAAQgAAEIQAACEEBAyAEIQAACEIAABCAAAQhAIBoBBCQaaiaCAAQgAAEIQAACEIAABBAQcgACEIAABCAAAQhAAAIQiEYAAYmGmokgAAEIQAACEIAABCAAAQSEHIAABCAAAQhAAAIQgAAEohFAQKKhZiIIQAACEIAABCAAAQhAAAEhByAAAQhAAAIQgAAEIACBaAQQkGiomQgCEIAABCAAAQhAAAIQQEA858CJd06pO3c+rl557ch05Id2bFU33nCd55kYDgIQgAAEIAABCEAAAsMjgIB4jFklH9f+3avU9lu3TEY+8sZRdduOR9Ud/+gPkRCPrBkKAhCAAAQgAAEIQGCYBBAQj3F77vkX1YEfv6Ce2HO3Wrtm9XTkWX/vcWqGggAEIAABCEAAAhCAwCAIDEZA2o42feG/+az65alfLfvCf/jl19Utd+2ZBuDqqzYua1OvThw9dnzSdsP6deqpvfeojZdvcA7emTPvqwce2T/p9+C9W9X8/MrpGNV6vv/tneraa650HpsOEIAABCAAAQhAAAIQGAuBQQhIdYzpf/zvN02PNukAPPb0AXX4r19bIhf67/7i3x5aIhK6AvHkD/5syd+1SYFud//e/aqPKLQdv6qShGNYY/m4sA8IQAACEIAABCAAASmBQQiIloq3fnF8WWWhebSp+qK/e9c/XlJpaMpBlyy0SY0NZATEhhJtIAABCEAAAhCAAARKJ5C9gHR9sW8KSNe9FnWJOXrsbyc3hjdFRSdDW7XEJkkQEBtKtIEABCAAAQhAAAIQKJ1A9gLSdXypKRxaMr73w4MzY7r5+k2TKsrf/Kcjk3tE2o5a9b1fAwEp/aPE/iEAAQhAAAIQgAAEbAhkLyDVF/stX/3SssfYulRA6jBmHdWSVEC4Cd0m3WgDAQhAAAIQgAAEIFA6gewFpOuLfVNAbKsXIe4BqeSFx/CW/pFi/xCAAAQgAAEIQAACXQSyFxC9+DaxqP6u+Yjd6hhW83iVbv9//8e/mT5Fq+pff0u55ClYep28iJAPGwQgAAEIQAACEIAABLoJDEJA6hJSbecbX9+srrhsfeuL/5rvAdF92t7xUR3F8vEekGpdbe8r6fNYXxIXAhCAAAQgAAEIQAACYyQwGAFpgz/r8bxjDBR7ggAEIAABCEAAAhCAwBgIDEJAdKXiXz/3U/XNO/6n6RvGu24kH0Ng2AMEIAABCEAAAhCAAATGSGAwAqLf21EdldKBaDtS5TNAbUepZo1fPd53fn6lzyUwFgQgAAEIQAACEIAABEZHYBACMjrqbAgCEIAABCAAAQhAAAKFEkBACg0824YABCAAAQhAAAIQgEAKAghICurMCQEIQAACEIAABCAAgUIJICCFBp5tQwACEIAABCAAAQhAIAUBBCQFdeaEAAQgAAEIQAACEIBAoQQQkEIDz7YhAAEIQAACEIAABCCQggACkoI6c0IAAhCAAAQgAAEIQKBQAghIoYFn2xCAAAQgAAEIQAACEEhBAAFJQZ05IQABCEAAAhCAAAQgUCgBBKTQwLNtCEAAAhCAAAQgAAEIpCCAgKSgzpwQgAAEIAABCEAAAhAolAACUmjg2TYEIAABCEAAAhCAAARSEEBAUlBnTghAAAIQgAAEIAABCBRKAAEpNPBsGwIQgAAEIAABCEAAAikIICApqDMnBCAAAQhAAAIQgAAECiWAgBQaeLYNAQhAAAIQgAAEIACBFAQQkBTUmRMCEIAABCAAAQhAAAKFEkBACg0824YABCAAAQhAAAIQgEAKAghICurMCQEIQAACEIAABCAAgUIJICCFBp5tQwACEIAABCAAAQhAIAUBBCQFdeaEAAQgAAEIQAACEIBAoQQQkEIDz7YhAAEIQAACEIAABCCQggACkoI6c0IAAhCAAAQgAAEIQKBQAghIoYFn2xCAAAQgAAEIQAACEEhBAAFJQZ05IQABCEAAAhCAAAQgUCgBBKTQwLNtCEAAAhCAAAQgAAEIpCCAgKSgzpwQgAAEIAABCEAAAhAolAACUmjg2TYEIAABCEAAAhCAAARSEEBAUlBnTghAAAIQgAAEIAABCBRKAAEpNPBsGwIQgAAEIAABCEAAAikIICApqDMnBCAAAQhAAAIQgAAECiWAgBQaeLYNAQhAAAIQgAAEIACBFAQQkBTUmRMCEIAABCAAAQhAAAKFEkBACg0824YABCAAAQhAAAIQgEAKAghICurMCQEIQAACEIAABCAAgUIJICCFBp5tQwACEIAABCAAAQhAIAUBBCQFdeaEAAQgAAEIQAACEIBAoQQQkEIDz7YhAAEIQAACEIAABCCQggACkoI6c0IAAhCAAAQgAAEIQKBQAghIoYFn2xCAAAQgAAEIQAACEEhBAAFJQZ05IQABCEAAAhCAAAQgUCgBBKTQwLNtCEAAAhCAAAQgAAEIpCCAgKSgzpwQgAAEIAABCEAAAhAolAACUmjg2TYEIAABCEAAAhCAAARSEEBAUlBnTghAAAIQgAAEIAABCBRKAAEpNPBsGwIQgAAEIAABCEAAAikIICApqDMnBCAAAQhAAAIQgAAECiWAgHgI/NHjpz2MktcQF61aoVZeuEKdfPf9vBbmYTUrL/yIWr1woTr+y1+LR1t78Uq1sGqFeJw+A7x7+gP1y/fO9ukatM+6j65U757+jfr12d8EnafP4KsXLlBqbk6dypCbS16u+MicWr92vg8CL32OnTijfvPhOS9jxRpEM/vEmlVKr32If353zSp18ldn1dkPPky6/I9edKG6WH+OEvx5dlu4n3f/3f/2wbIdXTR/gVq5Ym7CPeafT318Qb114rQ6F/EjluJn49ycUpesXVBvvm33HWrDuoWYYWCuwAQQEA+AERAPECMO4fJFz7QsBGQ5IQTElDXt113yEgFxZ4yAuDNr64GA+OHYNQoC0k4HAQmfezFnQEA80EZAPECMOITLFz3TshAQBMSUI7bXXfISAbGlutgOAXFnVpKAmOi0VUhMffpeR0AQkL65M6R+CIiHaCEgHiBGHMLli55pWQgIAmLKEdvrLnmJgNhSRUDcSXX3GGsFpG3X139bcQTLdwLVxuMIVkC4AxgaAfEQJATEA8SIQ7h80TMtCwFBQEw5YnvdJS8REFuqCIg7KQSkIoCA+M6epeMhIGH55j46AuIhQgiIB4gRh3D5omdaFgKCgJhyxPa6S14iILZUERB3UghIGwGOYPnOpMnzQLgJ3T/WwYyIgHgIFQLiAWLEIVy+6JmWhYAgIKYcsb3ukpcIiC1VBMSdFAKCgPjOmvbxEJA4nHOdBQHxEBkExAPEiEO4fNEzLQsBQUBMOWJ73SUvERBbqgiIOykERBPQFQ8ew+s7e5aOh4CE5Zv76AiIMELb7jqrHnxg+fPDhcMm7857QOxCgIAgIHaZYm6VQkAee/qAuuKy9erGG66bLvDEO6fUnTsfV6+8dmT6dxvWr1NP7b1Hbbx8w+TveA+IOZ6+W/AeEKVCvgekGS8ExHcGLx8vVwH5879we4fVl69boS7+nfC8xjYDAiKMKAIiBJigu8sXPdPyEBAExJQjttdd8lJaAXnu+RfV/Xv3T5b20I6trQKy/fab1LXXXNm6fATENqr+2iEg8QSkut+DCoi//G0bKVcB+ae7zqp3f2W/93+++8LeAnLkjaPqth2PqqPHji/7WWy/gmG2RECEcdMCov+MrQpCBcQuMRAQBMQuU8ytYgpItZquCggCYo5ZzBYISDwB0XGlAhI+u0sXkDNn3lcPPLJfbfrcZ5b8Eqj+C6LN129SD967Vc3PrwwfkMgzICBC4AiIEGCC7i5f9EzLQ0AQEFOO2F53yUtpBcRGQKojWM3jV7ovFRDbqPprh4AgIP6yaflIqxcumDyW6tR753+pGuNP6QJSHXet/7Ln8Muvq8e+8yP1xJ671do1q5X+JZH+s/3WLTFCEnUOBESIGwERAkzQ3eWLnml5CAgCYsoR2+sueRlSQJrr1b+NO/DjF6b/ICIgthH12w4BCSMgXY/X5QiW3xxujlaygDTvtat+0fN//uQ/LLkvrykkYSMSd3QERMi7EhA9zJiOYXEEyy4xEBAExC5TzK1yFRD9D+Wub+1T37zjZm5CN4cxWAsEBAEJllxKKSogi3Rj3QPSrIC0HcnS94js2rNP7d65bfrzN2QexBwbARHSRkCEABN0d/miZ1peSgE5edMXpst778n/y7TUaNfXfXSlevf0b9Svz7o9SSTGAlP8I2u7L5e8jFkBQUBsIxi2HQISRkBMUbvhT+fUyV/FO5ak1/Opjy+ot06cVufOmVbn73qKn40lV0B05GYJyJavfmn6ABAExF+Oj26kuoDUNzf0aggVELtURUCogNhlirlVLgKiS/76T/UELH0E69BLry65EZJ7QMzx9N0CAUkjIDqOMd+CjoDM/uRsWLfg+2PVOh4VkCiYFRUQIWcERAgwQXeXL3qm5SEgCIgpR2yvu+SltAJSf8qKXl/9RvP6YyH1tauv2rjk/g/9dwiIbVT9tUNAEBB/2bR8JCogi0xSCYheQfPJhNwDEjLrBz72LAFp29aQqiJUQOwSMxcB0avN5RgWR7DscqfZKqaA9FvhYi8ERErQvT8CgoC4Z419DwQkDwHhKVj2OVt8SwRkeCng8kXPtDsEhAqIKUdsr7vkpbQCYrumWe0QEClB9/4ICALinjX2PRCQPAREr4L3gNjnbdEtXQSkAjWESggVELu0RkAQELtMMbdCQMyMJC20tH1izarJ8bEh/kFA4gkIb0KP8wkp/Sb0OJTznYV7QISx6SMgs6bMSUwQELvEyElAqhWnPorFESy73Gm2QkD6cbPthYDYkupu99GLLlQX65fWJfjz7LY4T6NCQOIEN1cB+fO/cHuC45evW6Eu/p04zMY0CwIijCYCIgSYoLvLFz3T8hAQKiCmHLG97pKXHMGypbrYDgFxZ9bWAwHxw7FrFB7D204n1lOwwkeYGTQBBESYBz4FxLSUmBUSKiCmaJy/joAgIHaZYm6FgJgZSVogIBJ6i30RED8cERClcq2AhI8wMyAgHnIAAfEAMfIQLl/0TEvLUUCqNac6isURLFPWtF93yUsqIO6MERB3Zm09EBA/HBEQBCR8JuU9AxUQYXxiCkh9qaGrIVRA7BIDAaECYpcp5lYIiJmRpAUCIqFHBcQPPbtROILVzokjWHb5M5RWCIgwUqkExGbZEklBQGwI53kEiwrI7NileNSkXSYphYDYkurXDgHpx63ZiwqIH45UQKiAhM+kvGdAQITxQUCEABN0d/miZ1pezhWQ5tpjHcniCJYpa9qvu+QlR7DcGSMg7szaepQgINW+r/+2UitXzKmTv4rz9K1qXiogVED8fFrzHgUBMcRHv5Xylrv2TFttvn6TevDerWp+fuXk73IWEFPqdVVIqICY6J2/joAs54SA2OVOsxUC0o+bbS8ExJZUdzsExA/HrlEQkLQCcubAfqcgr/oHX1Nzq9c49aExT8Ey5oB+I+WnL/2kuvaaK9WZM++rBx7Zry755Dq1/dYtCIiRXp4NXL7omXaAgCAgphyxve6Sl1RAbKkutkNA3Jm19ShJQOr7r94N4odi9ygISFoBeecbm9W5U+9Yh3rN9w72FpAjbxxVt+14VB09dlw9tGOruvGG66znHXpDKiCOEdRCcuilV6dVkCFXQGy2LrmPxGb8FG1cvuiZ1jckAWnbS4hjWVRATFnTft0lLxEQd8YIiDszBGSRAALiJ3/qo+T6GN5YAlL9UnvT5z6zTDy0mDz85DNq933b1No1q/3Dz2BEBMQxCI89fWDSYwwVEMetdzYfkqi4fNEzMUJAlhNCQExZg4D0IyTrhYDI+FW9qYD44dg1ChWQdjqxnoIVS0BOvHNK3bnzcbX99psmp2z0n+rvXnntiLr6qo3qiT13IyDhP3L5z6DvB3nsOz9akhBjr4DYRgUBsSXlr93Jm74gHowKiBihtwFcxJgKiDt2BMSdWVuPkgSEm9D95MysUUqugNRFQ/PZsH6demrvPWrj5RsmuKiAhM29QY2u5WPX7u8uSRC9AQRkMYxDkRCXL3qmJB16BcS0P33dVVKogNhQXd7GJS8REHfGCIg7MwSEp2D5yZr2UUoWkHq1o14BqUghICEzb0Bjz5IPBGRpEBGQuEntowJis2IExIaSvM1QBOTSV36gXvr0zeo3H56TbzriCAiIH9hjr4DU7/W4aP4CHsPrJ21aR0FAlh/BQkACJtzQhm47dlXfAxWQ/hFNJSwuX/RMu6MCspwQFRBT1rRfd8lLKiDujBEQd2YlV0C0iCAgfnJm1igICAIyrF9jhf08LBtd33T+vR8eXPL39bN6CEj/gCAg/dnpnrEqIC6r1NUSBMSF2GJbBKQfN9teCIgtqe52Y6+AVLtHQPzkS9coCAgCgoAIPmcISH94CEh/dghIP3arFy5Qam5OnXov7puNbVY7FAHhCJZNNP23+d01qyZv5D77wYf+B3cYsRQBqZDc8Ke8Cd0hPZyaIiAICALi9JFZ2hgBEcAzdA0lKC5f9Ey7K+EIlomB5Lrr/SWSuXRfBERKUCkERM6wzwgIiFLPbov/iwMEpE+22vVBQLofw1tR/MbXN09f/WBHdhiteA+IME4IiBBgR3cEpJttjkewXLMBAVkk5iLGKe8BQUBcs9xPewQkjYBIo9fnBYa8B6Sd+tjeAyLNraH3R0CEEURAhABbuocSj2oqly96pt1RATER6r6OgCAgsgyy7809IPasulqWdgRLSg0BmU0w1wrImQP7ncK+6h98Tc2tXuPUh8ZKISDCLEBA+gEMLRldq0JA+sUsVS+fksIRLHkUqYDIGfYZgQrIMCsgfWL9te9eqN46cVqdi3hAPsXPxlwFpE/M6ONOAAFxZ7akBwLSDyAC0o9bvdcYjmDZUEBAllNKeQRr7q+eVG9t/GPeA2KTvB7bICDlCIjHtFkyVFc1BgEJRZ1xZxFAQIS5gYC4AUwpHtVKqYC4xSx1awQkLwGhApLmE4GAICDSzENApATp75MAAiKkiYC4AURA3Hh1tS6lAmIi5iIoKX7LZ1p/HzGmAmJLdbEd94C4M2vrwT0gfjjmMkolJSl+NnIEK5csSLMOBETIHQFxA4iAuPFCQMy8EBAzI58tOILlk6b9WFRAqIDYZ4t9SwTEnhUt/RJAQIQ8EZDZAHOQjbbVcQRLmPSZdUdA4gZEC4j+85+vuCXuxMLZqIAIAf62OxUQPxxzG+Urf6Kiv6SVCkhuWRB3PQiIkDcCgoAsrFohzKJ+3TmC1Y9bvZeLvMhn6x7BRYxTH8FCQEJnw/LxqYBQAfGZdc37QTiCtUj3nx097IT6n3zys+oTF8w79aExj+EV5wAColSulY5ZwXX5omdKkBjvAXnu+RfVz35+bNmbUBEQU3TM1xEQM6NmCyog7sx89EBAEBAfeVSNgYDMpvm7L/9L9bcfnLHG/f9d88e9BeTIG0fVbTseVUePHVcP7diqbrzhOut5h96QCogwgggIAhKqAnL45dfVLXftmWToN76+GQERflbbuiMg7lAREHdmPnogIAiIjzzqGuMr/2JOnXrvbOhppuPnegQrloCcOfO+euCR/WrT5z4zFY/6v/sa1ObrN6kH792q5udXRotLrIkQECHpUgVkaFWPepipgAiTvsDuMUTFJS9TH8HiPSDxPwQICAISOusQkPOEYwnIiXdOqTt3Pq62336TuvaaKydz6xMPn770k5P/rwTlkk+uW/YLyNC5EGN8BERIGQERAkzQ3eWLnml5HMEyERrHdQRkMY5UQNLkNAKCgITMPG5CX6QbQ0Aq+XjltSOTiTesX6ee2nuP2nj5hiVh1kJy6KVXR1kFQUCEn2gERAgwQXcEJAH0gU+JgCAgqVMYAUFAQuYgAhJXQPRsbRWQZowfe/rA5K+237olZPiTjI2ACLGXIiBDPnLVDDECIkx6uhsJ9BEWl7xMfQRLA+AxvMY08NoAAUFAvCZUbTB9QzpPwcpPQPT9II9950fqiT13q7VrVocKf7JxERAhegRECDBBd5cveqblcQTLRKjM6yUIyNAkhPeA+Pks8h4QPxxzG4UKSF4CouVj1+7vth7Lyi13+q4HAelL7rf9xiggutpx0aoVauWFK9TJd98XEsqvOwKSX0zGtiIEJL+IIiB+YoKA+OGY2ygISD4CUoJ8aNoIiPCnAAIiBJig+1AEpPk4Po3q+9/eOX1aBu8BSZA8gilNUuKSlzkcwaICIkiGHl05gsURrB5ps6xL8/0fVQOOYOUhIGM/dlVPSARE+Ikeo4DUkYzp3o9qXy5f9EzpEeMI1qw1ICCm6OR1fYwCMiQJoQLi5/NgWwHRN89ecdn6JS9Waz75R6+o/vSf6rGjB396aLLY5ovZnt0W7x0VfmjlNwoCYo5JjKdg6VW03YSuPzff++HBJYuc9YQs807yboGACOMzRgHhCJZ9UiAg9qxKb4mApM0ABMQPf5OA6MeG3r93f6tAmJ76U3/iT1tbBMRPDE2jzJIUUz/X66W/iNCV19jaIyDCiCIgQoAJulMBSQCdKWcSqMTEJS9zOYJFBSReYg/tCFZXBaT+4rWKoBaOXd/ap755x83TdyE0H0GKgPjJtzbB4AjWItt/dvSwE+h/8snPqk9cMO/Uh8bcAyLOgTEJSP24FTeh26UGFRA7TrSaTWDIAjKkR/FSAfHzKTRVQKpZbI5g1Y+WHHnjqNq1Z5/avXPbVECaL2FDQPzEEAHxw5FRZASogMj4KQRECDBBd5ffNJuWh4CYCHHdRGDIAlLtbQgigoCYMtHuukRAmjNowTjw4xcm7zk4cfKUevjJZ9Tu+7ZN33mAgNjFxHer0o9g+ebJeO0EEBBhZgxdQGbdZE4FxC4xEBA7TrRaTqB5T4iLGHMEyz2jEBB3Zm09fApI/diVnosKiJ8YSUdBQKQE6W9DAAGxodTRBgERAkzQ3eWLnml5CIiJENdnERiLgAylCoKA+PkshhKQtR9bzT0gfkJkPUpdNLgHxBobDT0RQECEIBEQIcAE3RGQBNCZ0orAwr9+UR3/5a+NbXOqgCAgxnB5aTCGm9D1Ow70n2uvuXLy3+YRK56C5SVVrAdBQKxR0TAAAQRECHVIAuLyTg+OYNklBhUQO060siMQW0DabhTWK62/BPPqqzZOzuivXbN6som5v3qydTO53wdCBcQuB02tTBWQ+mN49VjNG81v2/GoOnrs+GSaZm7xHhATffl13gMiZ8gIfgggIEKOCIgQYILuVEASQGdKKwKxBKTrXQ3NpxE1f0vdJiC5y4eGj4BYpaCxkUlAjAMIGvAULAG8GV0rIeEI1iKgV//8ww7Q55Zd+ztfXqFWXew/NmMfEQERRnhIAlJt1aYSQgXELjGogNhxotVSAm0vJXQRY19HsNoqIFo4fvbzY2r7rVsmi24KyawKSH2HOQoJAuLnU4iA+OGYyygIyPJI/PifnlW/ftc+Ql/95xdmKSBVRXHT5z6jbrzhOvsNRWqJgAhBD0VAbKSjjgIBsUsMBMSOE62GIyDNl78130htEpAc5UPTR0D8fAoRED8cY49ierIVFZDFiCAgS7Oz+W+Cr9xFQIQkERAhwATdXX7TbFoeAmIixPU2AjlXQJpVEVsByVU8Kv4IiJ/PIgLih2PsURAQe+IICAJiny09WtafP77x8g0zR9DHD+o3zemG9RvnhiIget0uVRAqIHZJhYDYcaJVNwEtJC5iHPIIFhWQPLN1aE/BCkGRe0D8UuUpWO08YwlI9cudzdf/t+oHP/o3k4czbL5+k3rw3q1qfn7l9Clxq3/nIvV//Nm/U9/4+ubJ0dj699L6Qx70bqoxX3ntyHRzD+3YOjmC1byfT49Tf/ln8yEQer6///c+q265a890rPr6pNlYXAWkDrgZuDaYzfPPzTYIiDQF4/d3+aJnWh0CYiLEdRsCOQmI9B6QXCshVEBsMtHchgqImdHyACbFAAAgAElEQVRQWiAgeQjIpy/95EQ69J8HHtmvqns2qoeFfP/bO6ePrm5WpPUTC3ft/q56au89asP6T0z6X/LJdRNRad4D0iUgC6tWLemr1/KTFw6rL266Rj3xr/5ssrbqvkBf+V2cgFTgXCogzbez1uEPSUDq6zZVQ6iA2H3EEBA7TrTqJpCTgPR5Clbb7nITEQTEz6cQAfHDMbdRvvIn+hnbc+rUe2ejLW1uTqlL1i6oN98+bTXnhnULVu2kjWJXQLbfflPru3Ge/3eH1KGXXp1WRPS+tHA89p0fTR+NXpeM/+q//H1V/77qIiAnTp5a0rfOkHtApBnV6O8iIF3PLc9VQEyCYcKJgJgInb+OgNhxKq1V2z0eJgYulTnpEayudzVU/8hVZXfb94A094eAmCLudp0jWEpxBMstZ2xb60oIN6Ev0kopIFowDvz4hYl0zBKQ6ro+pqX/VPftaQFpO1JVr6jUhaZ+BEsLSL0vAmL76enRzlZAmkPrQL/1i+NTI0VAesBP3MXli55pqQiIiVCZ13MXEElUTE/BqsZGQCSUl/dFQBAQvxm1OBoCspRsSgGpH5OiAhIq4xOP21dAmjft5Cogdbx9qiFUQOwSFAGx41RaKwTkfMRzkhCOYPn5FHIEyw9H0yif3/uBOrf8nXembr2vUwFZRJdKQJr3dzTv2dArrNps+eqXJjeWt90DUlU8qpvV7/hHfzhtWz++pX+hfvivX5sc52reA6KPbz178C/VH23+Ymslpnei1TpyD8gdN6uup2A1ISMgPtIu7RhUQNLyH9PsfURj1v5d8lJ6BEsSA9sKSG6VEAREEvXFvgiIH46mURCQ5YTGeg9I2xOr9O7bBET/fddTsOrXrtt0zQTi/3Ddfz19EaGWju/98ODk7+/7X/6h+g+H/x+1+75tau2a1cueoFU9dav+ZC2egmX65Fpcn1UB0QHX5+u0EeqA6KcA/MHvXTqVlObNOLlWQPpUPerYqIBYJBH3gNhBGnErBMQuuDlUQhAQu1iZWiEgJkL+r5ve4eFjRiogixRTVUB8xHFIYxRXAWk+51gHq/nc5bqA6PJW1zOQcxWQehL2kREExO5jzBEsO05jbYWAuEU2pYggIG6xmtUaAfHDsTlKXTI+9fEF9daJ0xzBakCKVQF59c8/VEo1z7/NzQz83/nyR9Sqi93zonnkyn2EYfcoTkB8hwsB8U00/HguR11Mq0FATITGf92XhLjk5ZCOYOkMSCkeVQYiIH4+iwiIH44IyOSpv1k+hjdMhBm1SQABEeZErgLSp+pRR0EFxC4xEBA7TmNuhYDYRTe1hCAgdnEytUJATITyuO56bIsjWHnEraRVICDCaCMgQoAJurv8ptm0PATERGj81xEQuxgjIHacZrXiMbw8htclgxAQF1q0TUEAARFSz1VAqm31rYRQAbFLDATEjtMYWvkSjVksXMR4aEew6ntOJSJUQPx8CqmA+OGYcpQ2OaECkjIiZc6NgAjjjoAIASbo7vJFz7Q8BMREaDzXEZDzsXR9DG9bBqSQEATEz2cRAfHDMeUoCEhK+sxdEUBAhLmAgAgBJuiOgCSAPoIpERB/AtJMhxhCgoD4+RAiIH44jnUUl6Nf3IQ+1iyw2xcCYsdpZqscBaTvsav6JjmCZZcYVEDsOA2pVWjRmMXCRYyHfAQrVUUEAfHzKURA/HAsfRQtKghI2VmAgAjjj4AIASbo7vJFz7Q8BMREaHjXEZDumPk4gjVrhpCVEATEz2cRAfHDsfRREJDSM0ApBESYA7kJiI/qh0ZCBcQuMRAQO045t0olHE0mLmI8tgpIxQIBmf1J4SlYPAUr55+jprW1Hc2iAmKiNu7rCIgwvgiIEGCC7i5f9EzLQ0BMhPK/joC4xShUBSSkfOgdUgFxi/Os1lRA/HAsbRQEpLSIm/eLgJgZdbbITUD0Yn1UQaiA2CUGAmLHKedWCIhbdBAQN16+WlMBoQLiK5dSjlMXESogKSORfm4ERBiDHAWk2pJERBAQu8RAQOw45dYqF+moc3GpzHEEyz2jqIC4M2vrQQXED8fSR+EekNIzgHtAxBmAgIgRRh/A5YueaXEIiIlQntcRkP5xCVUBaVuRz2NZCEj/mNd7IiB+OJY+CgJSegYgIOIMyElAJBWPJggqIHapgYDYccqtFQLSPyIxBaRapQ8RQUD6xxwB8cOOUc4TqI5hcQSr7IzgCJYw/giIEGCC7lRAEkBPOGVdNlYvXKD0w+dPvXc24Yrap3bJy7EewWqS8SEe1ZgIiJ+UpwLih2PJoyAgJUd/ce8IiDAPchKQ5lYkFREqIHaJQQXEjlPKVgiIX/opKiBtO3CVEwTETx4gIH44Mko7ga43qW9YtwC2ERFAQITBzFlA9Nb6SggCYpcYCIgdp5StEBC/9FMLiKt4UAHxG38ExC9PRltKAAEpJyMQEGGsERAhwATdXY66mJaHgJgIxb/edX8HR7Dk8UgtIH2rIVRA5LHXIyAgfjiOcZQueWjbL/eAjDEL7PeEgNizam2Zq4D0rXxUm6QCYpcYCIgdp5itEJCwtBGQsHxnjc57QHgPSJrM8z8r94D4ZzrEEREQYdQQECHABN2pgCSAHnFKBCQsbAQkLF8EZDbfZ7fl9/CINNkw7FkRkGHHz9fqERAhyVwFpG1bLlURKiB2iUEFxI5TqlZNGeEIljwSOQpItauu+0M4giWPvR6BI1h+OJY+Cu8BKT0DeA+IOAMQEDHC6ANQAYmOPNmECIh/9AiIf6Y2I3IEiyNYNnkylDYIyFAiFW6dVECEbBEQIcAE3RGQBNATTYmA+Aefq4CYno5FBcRPLlAB8cOx1FHqN6pzE3qpWXB+3wiIMP5DEpBqqzZHsTiCZZcYHMGy4xSzFfeAhKWdq4B07VrLCQLiJy8QED8cSx0FASk18sv3jYAIcwEBEQJM0J0KSALoEadEQMLCHoqANCsiCIifvEBA/HAsfRSOYJWeAVRAxBkwRAGxqYRQAbFLDSogdpxitkJAwtIeioC0Ufjg796ujp04ExZQoNG5B4R7QAKlVtJhv/bdC9Wbb5+2WgNvQrfCNJhGVECEoRqygDS3Xj+ahYDYJQYCYscpdKsu6ajPzVOw5JEYsoBUuzfdLyKn5H8EBAQB8Z9V6UdEQNLHINUKEBAheQRECDBBd45gJYAeeEoEJDDg2vAISDzW9ZkQEAQkTeb1m9XmrejchN6P7Vh6ISDCSI5JQFxQ2NzI7jJezLYISEzaceZCQOJw1rOMQUCatIZQEUFAEJB4n3L5TAiInOHYR0BAhBFGQIQAE3RHQBJATzhlXU44giUPBAIiZ9hnBAQEAemTN7n34QhW7hEKtz4ERMi2VAHpwpZ7dQQBESb9wLojIH4DNkYBqRPKtRqCgCAgfj/JaUbjMbxpuOc4KwIijAoC4g4wtaAgIO4xG3IPBMRv9MYuIBWt3EQEAUFA/H6S04yGgKThnuOsCIgwKgiIO0AExJ1ZW4+TN33Bz0AjG4XH8IYNaCkCkltVBAFBQMJ+stOMzhGsNNxzmBUBsYzCkTeOqoeffEbtvm+bWrtm9bQXAmIJ0LFZSEmhAuIYjIE1R0DCBqw0AcmlEoKAICBhP9lpRkdA0nDPYVYExBCFE++cUnfufFy98toRdfVVG9UTe+5GQCJkLgJihkwFxMyoKSPchG5mZmpRioDkIh5VPBAQBMT02Qx93ebJVi5r4DG8LrTG1xYBsYwpFRBLUAGa+ZYRKiABgpTpkAiI/8CUIiBt5FJKCQKCgPj/NLuNiIC48aJ1NwEExDJDEBBLUAGaISDtUKmAmJMNATEzcm2BgLgS89MeAUFA/GTS8lG0WKSoDlMBCRXRYYyLgFjGCQGxBJWgmaugUAFJEKTEU1YikuIfWdutu+Tlio/MqfVr522H9tquZAHRIFNVQRCQ8QtIVWH41McX1FsnTqtz57x+dDsHS/GzEQGJF98cZ0JALKOCgFiCGkCzPQ99qFYvXKiO//LX4tWuvXilWli1QjxOnwGogNhTQ0DsWZlali4gqSQEAUFATJ9NyXUEREKPvn0IICCW1BAQS1ADaIaADCBInpeIgPgDioB0swxVIUFAxisgzXsrqIC0f8Y2rFvw94OMkZITQEAsQ4CAWILKvJk+ruVy1MW0HSogJkL5Xu96XG+KVbvkJUewUkTIPGco+dAzIyAIiDkD+7egAtKfHT37EUBADNzqj+Gtmn7j65vV9lu3TP6X94D0S7xUvVIKyJkz76sHHtmvDv700GT7D+3Yqm684bqZKJ57/kV1/979S67Xc48jWLIsQkD68aMCYsfNt4wgIOMVkGZG6XdjcA/I8s8ZFRC7nz1DaYWACCOFgAgBRuxe3azu8ptm0/JcKiCPPX1gMpyW10pst99+k7r2mitbp9ECcuilV9WD925V8/Mrl7VBQEzR6b6OgPTjh4C4cfMlIghIOQLilmHnW0sfkUsFpA91+kgIICASelRAhPSG033Wk7ZsBUQLx65v7VPfvONmtfHyDZON14WkjQQCEj4/cpIQFzEOeQSrreq7Yf069dTeeya5i4D4zUtbQUFAEJCuzENA/H4uGS08AQREyJgKiBDgQLpLBUTfQ7Rrzz61e+e2qYCYBKN5BKt+/EpjowIiTx4EZDlDU3UOAZHnXX0EBMSe57Pbzto3pqWIgFRobCbnMbw2lMbbBgERxhYBEQIcQPeu94zYVkDaHmJgEpA6mupL4Zavfml63wgCIk8eBAQBkWdR/xFs5UPPQAWECkj/THPviYC4M6OHGwEExI3XstYIiBDgALr7EhDXCkgTjRaWn/382PQBCAhIuORJISa5HsGqH7/SxKmA+M87GxFBQBAQ/5kXZkRbeaECEob/UEZFQISRQkCEADPvbnrLum0FpM89IAhIuuQoWUDa8u7Aj19QT+y5W61dsxoB8ZSWNtJRnwoBQUA8pV7wYRCQ4IhHMQECIgwjAiIEmLC7SS5slmYrIHqsrqdgNY9Y6Uf2PnvwL9Ufbf7i5AlYbefyqYDYRKhfGwRkkVtTnqmA9Mspl15tcoKAICAuOZRz20pQqIDkHKXwa0NAhIwRECHAhN1jC0jXe0Da7vHQwvK9Hx6cEmq+NwQBCZ88MUUklyNYTaoISPg8q88wqzKCgCAgcTMxzGz16ggCEobxUEZFQISRQkCEABN2jy0gvreKgPgmuny8EgXk8MuvT0BU76dpPiyBCkj4vLOZwfUIl82YNm0+etGF6uKFC2yaem/DU7C8I40+IAISHXm2EyIgwtAgIEKACbsjIAnhD2TqEgVEP7Htth2PqqPHjk+idPVVG6f3f+j/R0DSJe8vfn+rOvvBh+kWoJRCQJLiH9Xkn9/7gbpk7YJ68+3TVvviTehWmAbTCAERhgoBEQJM2B0BSQg/86ljikeFItcjWM1QISDpkhcB4T0g6bLP/8wIiH+mQxoRARFGCwERAozYvRIOly96puW53IRuGsv1OkewXInZt0dAZrNCQOzzyGfL96+5TZ381VkqID6hMlZSAghIUvzJJ0dAhCFAQIQAI3ZHQCLCHvhUCAgCklMK6/s9uAmdm9BzyknbtXQ9kpeb0G0pjrMdAiKMKwIiBOihu+tRKiogHqAXOkRIMXHJyxUfmVPr184niQIVkCTYl0ya6gZ0vQjuAUkf/yGtAAEZUrTirhUBEfJGQIQAPXRHQDxAZAgrAggIN6FbJUoGjUJJCgKSQXBHuASblxdyE/q4Ao+ACOOJgAgBCrq7ikc1lctvmk3L4x4QE6FxXUdAEJDcMzqUeFT7RkByz4Bhrg8BGWbcJKtGQCT0lFIIiBCgh+6uIoKAeIDOEMsISOXEJS85gkUCNgmEFg8EhJyTEmhKBveASIkOuz8CIowfAiIE6KE7AuIBIkOICSAgYoQM4IlASBmhAuIpSAUOg4AUGPSOLSMgwnxAQIQAG91dZaLP7C6/aTaNzxEsE6HxX5eKR0XIJS+pgIw/r0LuUCIoCEjIyIx/bN6EPv4Y2+4QAbElNaMdAiIEiID0Bsh7QHqj89oRAfGKk8EiEEBAIkBmimUEqICQFHUCCIgwHxAQIUBD9xAVEZffNJt2RwXERGj81xGQ8cd4SDuUyIXNPqmA2FCiTRsBBIS8QEA85gAC4hFmpGoIAhIuZiWPLBURl7zkCFbJmdZv777EBAHpx7/UXrwHpNTIm/dNBcTMqLMFAiIE2NE9RPVDT+fyRc+0OyogJkLlXEdAyon10HbqSz70vm0F5LGnD6grLluvbrzhuiW4Dr/8urrlrj2Tv7v6qo3qiT13q7VrVk/+/8yZ99UDj+xXB396aPL/D+3YuqT/s9vODg198etFQIpPgZkAEBBhbiAgQoBKqVCiMWtlCIg8ZoywnAACQlbkTsCHiJgE5LnnX1T3793fKhBH3jiqdu3Zp3bv3KY2Xr5B6baHXnpVPXjvVjU/v1JpadF/tt+6RZ1455S6c+fjavvtN6lrr7ly8vcISO4Z1r6+WRLCY3iHGU9fq0ZAhCQRECFABKQ3QG5C740uWEeJhLiIMUewgoVw1APHEJAKYFsFRAvHz35+bCIY+k9dSNZ+bLXa9a196pt33DyRE/2nLiQIyHBTEwEZbuxCrhwBEdJFQIQAZ3QPWRVx+aJn2h1HsEyEyrqOgJQV7yHs1od01PdpqoB0CUhTKOpVjnUf++iS6ogep1khoQIyhIybvUZuQh92/HyvHgEREkVAhAARkN4AqYD0RhesIwISDC0DCwn4EhGpgNTvC2kKyMNPPqN237dtek8IAiIMembdEZDMApJ4OQiIMAAIiBAgAtIbIALSG120ji5C4lKZ4whWtBCOZqJcBEQDrY5gUQEZTXpZbQQBscJUTCMERBhqBEQIsKN7qGNYLl/0TLvjCJaJUNnXEZCy45/L7n3Jh96PpALCPSC5ZET8dbTdB8JN6PHjkNOMCIgwGgiIECAC0hsgFZDe6KJ1RECioWYizwRmSYtEQHgKlucgDWg4BGRAwYq0VARECBoBEQJsdA9V9ahPQwXEb8xKHs1FMEycXPKSI1gmmlzvIiCpiJgEpP4YXr2GDevXqaf23jN9shXvASkrN3kPSFnxdtktAuJCq6UtAiIEiID0BkgFpDc6bx0REG8oGSgxAVspMQlIyG3wFKyQdMOMjYCE4TqGUREQYRQRECHAGd1DVkJcftNs2h33gJgIjfs6AjLu+Ja8O+kRrBDsEJAQVMOOiYCE5Tvk0REQYfQQECFABKQ3QCogvdEF79hHTFzEmCNYwUM46glsqx1tEKiAjDo1rDbXJRVWA/y2ETehu9AaX9siBaTrDGozxPqmudt2PKqOHjs+vXT1VRvVE3vunjyrHAEJ86GgAmLmioCYGaVqgYCkIs+8LgT6iAgC4kJ4nG0RkHHGNfauihMQ01M42gRk1559avfObdOb6OptEBB5yoaUjbbVufym2bQ7jmCZCJV5HQEpM+4577qPbFAByTmiftf2lT9RSs3NqVPvnfU7cMdoVECioc5youIEpOs55Bsv37AsSE1haTZAQOR5jYD0Y0gFpB+30L36yIdek4sYcwQrdBTHNz4CMr6Y+twRAuKTJmPZEChOQB57+sCES9ubWK+95spWAakfwaofv9KNERCbNHNvE1JKXL7omVZOBcREqLzrCEh5MR/ijvsKCUew4kT783s/UOfOxZlLz7J64QIqIPFwM5MuuJ07FzPF0zPXAnLFZevVjTdcN1nMiXdOqTt3Pq62336TahOQ5op1/7d+cVw9eO9WNT+/EgERhjSkaMxaGgIiDBrdOwkgICRI7gT6yofeFwLiL7qz7qX41McX1FsnTiMgDdQb1i34g89IyQkUKSAuFZBmhPSRrIeffEbtvm8bN6F7SF8EpD9EjmD1Zxerp4uMuIgxR7BiRXBc80jEoyKBgPjLCQREqUvWLqg33z5tBRUBscI0mEbFCYjrPSAISJxcjikiLl/0TLvnCJaJUNnXEZCy45/77vsICQISLqqVkFABaWeMgITLvRQjFycgpqdgaUE58OMXpo/Z/ckLh9Uf/N6l0ydgNe8h4R4QP2mLgLhzpALizixWDxfxqNbkIsZUQGJFcjzz9JGNtt0jIOFyAgHpZouAhMu9FCMXJyAactd7QJoCUm+r+26+ftP0/g/9/wiIv7SNJSEuX/RMu6MCYiJU5nUEpMy4575rHxKCgKSPsq/3cNR3wk3o6eNa2gqKFBCfQUZA+tOMJRzNFSIg/WNGTzsCCIgdJ1rFJYCAxOU91NlCCE4bC94DMtQM8bNuBETIEQHpDxAB6c9O9+QIloxfzN42QuIixhzBihm98cyFgIwnliF3goCEpMvYFQEERJgLCIgQYK17LCFx+aJn2h1HsEyEuK4JICDkQQ4EEJAcojCuNUhkhQrIuHLBdTcIiCuxRnsERAgQAekNkApIb3TROyIg0ZEzoYFAXxnhHhBSq04AASEf+hJAQPqS+20/BEQIsKV76EoIFRD/MSt9RBvBMDFyyUuOYJloln29r1zYUENAbCjRpg8Bk8zwFKw+VPPtg4AIY4OACAE2uoeWDz2dyxc90+44gmUiVMZ1BKSMOA9tlyFEBAEZWhYMZ70IyHBi5WOlCIiQIgIiBIiA9AbIEaze6Lx3REC8I2VAjwR8iggC4jEwBQ+lZYN7QApOAKUUAiKMPwIiBDije8hKCBWQMDErfVSphLjkJUewSs82t/0jIG68aB2fgKn6oVfEEaz4cQk5IwIipIuACAEiIL0BUgHpjS5IRwQkCFYGnUHAp1S4QKYC4kKLtrYEEBBbUuNph4AIY4mACAEiIL0BIiC90QXpiIAEwcqglgRiCQkCYhkQmrUSqIsGR7DKThIERBh/BEQI0KG7r2NZLkddTMvjJnQToTKuS+VDU3LJS45glZFXLrtEQFxo0TYVAQQkFfn85kVAhDFBQIQAHbojIEthUQFxSJ7ATRGQwIAZfgmBWLLRhp0KCMnok8DXvnuhevPt01ZDcg+IFabBNEJAhKFCQIQADd19SUd9GpffNJt2RwXERKiM6whIGXHOaZepJAQBySkLhrWW5n0eHMEaVvx8rxYBERJFQIQAEZDeAKmA9EYn7uhDOJqLcBFjjmCJQ5j9AE3B+N01q9TJX51VZz/4MOnaEZCk+Ac9OQIy6PB5XzwCIkSKgAgBeujuWiVx+aJnWh4VEBOhcV5HQMYZ19x39Yvf34qA5B4k1udEgCNYTrhG1RgBEYYTAREC9NAdAfEAkSGcCIxdQA6//Lq65a49EyZXX7VRPbHnbrV2zerJ/8/91ZNOrGjcn0C9CkIFRKlnt53tD5OeWRJAQLIMS5RFISBCzAiIEKBFd1fBMA1JBcREiOsuBHzJiEtehjyCdeSNo2rXnn1q985tauPlG9Rzz7+oDr30qnrw3q1qfn4lAuKSHMK2CMhSgAiIMKEy6V4dxeIekEwCkmgZCIgQPAIiBCjs3kdOXL7omZbHESwTofFfH5uAaOH42c+Pqe23bpkErykkVEDkOd3nBnIqIFRA5JmXxwgISB5xSL0KBEQYAQRECFDYHQERAqS7mMDYBOSxpw9MmFQCcuKdU+rOnY+r7bffpK695koqIOKMUQoB6QeRCkg/bkPoxZvQhxAlv2tEQIQ8ERAhwADdTVJCBSQA9MKH9CEhLnkZ8giWFpArLluvbrzhuklUEZBwye0iIlRAqICEy8Q0I39+7wfqkrULvAckDf7ksyIgwhAgIEKAAbojIAGgMmQngbEJCBWQtAnfJiYICAKSNiv9z46A+Gc6pBEREGG0EBAhwMDd22TE5TfNpuVxD4iJUBnXxyQg3AMSL2epgLix5giWG6+cWrcdseIm9JwiFH8tCIiQOQIiBBihe1NCEJAI0AuZwod4VKhc8jLkESyeghU+eV3Eo1oNFRAqIOEzM9wMCEg4tkMdGQERRg4BEQKM0B0BiQC50CnGKCA6lLwHJE5Cu4gIAoKAxMnKdLOYbkTfsG4h3eKY2TsBBESIFAERAkzU/X9/ZIU6/stfi2fnCJYY4SAG8CkaszacSwXEFBAew2sitHjdRTBMoyIgCIgpR4Z+HQEZegTd1o+AuPFa1hoBEQJM1B0BSQR+oNMiIIuBQ0BmJ7FP4WjOgoAgIAP98almiQX3gAw1on7WjYAIOSIgQoAZdDc9NatriVRAMghghCUgIAiITZohIDaU+rfhJvT+7HLo2RQRBCSHqKRbAwIiZI+ACAFm2t1WShCQTAMYYFmhJYQjWAGClsmQPsSECggVkEzSufcyEJDe6EbZEQERhhUBEQLMtHsOAnLmzPvqgUf2q4M/PTSh9NCOrdOXw+n/P3nTFzKlN85lISDn48oRLPv89iEe1WwICAJin3nDaMl7QIYRp1CrRECEZBEQIcDE3W1FY9YyQ1ZA9Bup9Z/tt25Z9jZqBCR+4iAgCEgz63wKhimjERAExJQjQ7uOgAwtYn7Xi4AIeSIgQoCJu+cqICfeOaV2fWuf+uYdN6uNl2+YUKoLCQISNnFCy0bb6jmCFTamvkePKR967QgIAuI7h3Mcr+tJWDyGN8eI9V8TAtKf3aQnAiIEmLC7VD700kNVQJovg9Nz6TdUH3rpVfXgvVvV/PxKjmAFzB0EZDbcUo9gxRaOZgQQEAQk4I8866FNj8q1Hkgf55xT6pK1C+rNt09bdUNArDANphECIgwVAiIEmEF3iYiEFJCHn3xG7b5vm1q7ZvWEEgISL1kQEASkTiC1fFABOR8NnoIV72fgrJkQkPQxGMsKEBCLSOovfvfv3T9pufn6TdPfQOv/R0AsAGbeJFcB2bVnn9q9c9v0CBYC4i+RUgiGafUcwTIRin89B/Godk0FBAEJ9QnQUrF64YJJSeLUe2dDTbNsXCog0VBnORECYgjL4ZdfV49950fqiT13T34T3TyHj4BkmdfOi+orIaEqINwD4hxCpw4IiIbE7isAACAASURBVBOuJY1LPYKlIaQUEgQEAen/qe3uiYCEIsu4XQQQEEN+aOG44rL108efNoUEARnHByw3AdFUeQpWuNxCQPqzRUD6s5P0REDKFBCfR5668o8KiOTTSd8+BBCQDmrVexg2fe4zUwFp3hyMgPRJu7h9mnLhctTFtNJQFRA9L+8BMdGXXc9NQlzycsVH5tT6tfMyAD17lyIgKasdbaFBQBCQnh9Zq24IiBUmGnkkgIBYCMiWr35JXXvNlZOWCIjH7As0lKma4fJFz7TEkAJimpsXEZoIdV9HQPrxG6uA5CYczeggIOUIyNe+e6F668Rpde5cv89on14ISB9q9JEQQEAsBIQKiCTF4vdFQOIzH+KMCEi/qI1VQCoauYoIAlKGgOgjV5/6+AIC0vLjicfw9vuZnWsvBMQQGe4ByTV1z6/LJBttq6cCkndMQ6yuko0Uv+Wz3Y9LXnIEy5Zqd7tcZaNt1QgIAuIn69tHSfGzkadghYxo/mMjIIYY8RSsvJMYAck7PrmsDgHxF4mhVkDe2vjH6hNrVqljJ874gxFxJASkDAFpphQ3oS8SoQIS8QdOhKkQEAvIvAfEAlLPJn0EoudU024uv2k2zcU9ICZCeVxHQPzFYagC0iQwpOqHXjsCgoD4+xQvH4kKSEi6jN1GAAER5gVPweoPMIV86NUiIP1jNpSes+7vSPGPrC0zl7zkCJYt1cV3d2hmVEDsuc1q+dGLLlQX65fWJfjDm9DDQOc9IGG4Mmo3AQREmCEISH+ACEh/dronT8GazQ8BkeVWV++hVUCqSgcC4icnEBA/HMc8iu2xMe4BGXMWmPeGgJgZdbZAQPrdCC7ELuru8ptm00QcwTIRSnMdAQnHHQEJx7ZrZI5glXkEK022yWZFQGT8SumNgAgjjYAgIAurVgizqF93KiBUQPpljqzXkASkfp8HFRBZ3KveVED8cCxtlDYpoQJSWhYs3S8CIox/qQKS6viUMFyT7lRAfFDMewwqIOHik7OAdN1YjoD4yQkExA/H0kZBQEqLuHm/CIiZUWcLBEQIMEF3BCQB9AhT2rxYkJvQ5YHIRUBcn2KFgMhjr0dAQPxwLHmUSkaogJScBUohIML4j1VAHvlfz6mVF65QJ999X0gov+4ISH4x8bEiBMQHRfMYuQhIc6UmIUFAzLG1aYGA2FCiTRcBBIT80AQQEGEeDFVATEeoLlq1AgGxyA1uQreAFKkJAhIHdGoBMYnGLAoIiJ/8QED8cCx9FC0hVEDKzgIERBh/BEQIMEF3KiAJoEeekntAwgFHQMKx7RqZp2DxFKw0mRd+VtunZvEm9PCxiDkDAiKkPVQBqbY9qxJCBcQuMaiA2HGK3QoBCUc8toD0rXg0CVAB8ZMTVED8cGSURQIISJnZgIAI446ACAEm6E4FJAH0yFMiIOGAIyDh2FIB6WbLm9DT5F6IWTmCFYLqsMZEQITxGqqAcA/Iher4L38tjL5SVEDECIMO0BQRnoIlxx1bQOorllRDqIDIY69HoALih2PpoyAgpWcAN6GLMyBnATFJRtfmOYJllxoIiB2nVK0QEP/kYwqIRDiaO0dA/OQCAuKHI6MsJWBzDIt7QMaVNVRAhPFEQIQAE3TnCFYC6ImmRED8g0dA/DO1GZGb0LkJ3SZPhtKGCshQIhVunQiIkG1uAiKpetRRUAGxSwwqIHacYrbqehwvR7DkkYglID6rH3rXVEDksdcjUAHxw7H0URCQ0jOAI1jiDEBAxAijD0AFJDryqBMiIGFxxxAQ3/KBgPjLCQTEH0tGWiTAEazysoEKiDDmuQlItR1pJYQKiF1iUAGx4xSzFQISlnZIAQkhHhUNKiB+8gIB8cORUZYSQEDKywgERBjzHAVEKh8aCQJilxgIiB2nFK3aRIQjWPJI+BaQkNJR3y0CIo+9HgEB8cORUWYTmCUj3IQ+rqxBQITxRECEABN05whWAugJpkRAwkBHQMJwNY3KTejchG7KkbFcR0DGEsnufSAgwjjnKCDVliSVECogdolBBcSOU4pWCEgY6r4FRK8yRhWECoiffKAC4odjqaPU5WJuTqlL1i6oN98+bYWDCogVpsE0QkCEoUJAhAATdKcCkgB6RlOu+MEL6tR7ZzNa0fmluOSl/jK9fu18kj34EpAY0lEHhID4SRcExA/H0kfhKVilZwBPwRJnQG4CIql61GFQAbFLDSogdpxyaoWAyKLhS0BiVT6q3SIgsrhXvREQPxxLHwUBKT0DEBBxBiAgYoTRB3D5TbNpcQiIiVB+1xEQWUx8CEjs6ofeMQIiizsC4ocfoywS+PzeDziCVXBCcARLGHwERAgwQXcEJAH0TKZc8f1/r9TcHEewBPGQCkgK+UBABAFvdJVUQE68c0rdufNx9cprR6ajbli/Tj219x618fIN6syZ99UDj+xXB396aHL9oR1b1Y03XDdt++y2/I5O+iNb3kgISHkxr+8YARHGPzcB0dvxcQyLI1h2iUEFxI5TLq0QEHkkEBA5wz4jjOEpWJWAbL/9JnXtNVcuw/DY0wcmf7f91i2qrS0C0idz8uzDEaw84xJzVQiIkDYCIgSYoDsVkATQM5kSAZEHwlVAUlU8mjvlCJY89noEHxWQNgHRwrHrW/vUN++4eVIN0X/qQqL/HwHxE8McRkFAcohC2jUgIEL+OQqIjyoIFRC7xKACYscp11Zdb02PvWYXMR7KU7BykQ8dSwTET0b7EJDqCFb9+NWRN46qXXv2qd07t00F5LnnX1SHXnpVPXjvVjU/vxIB8RPCrEfpeiM6j+HNOnTOi0NAnJEt7ZCrgDS35XosCwGxSwwExI5Trq0QEPfIuFRAEBB3vrN6jOEIVnNvWjAO/PgF9cSeu9WJk6fUw08+o3bft02tXbN60hQB8Zc/OY7EPSA5RiXemhAQIWsERAgwQXeX3zSbloeAmAjlfR0BcY8PAuLOzEePMQpI/diVZkQFxEemDGcMBGQ4sQqxUgRESDVXAXGteDQxUAGxSwwExI7TUFqlFBIXMR7KESwd91yqIBzB8vMplBzBaq6gLiBrP7aae0D8hCjZKF3Hp9oWxZvQk4Uqi4kREGEYEBAhwATdXb7omZaHgJgIDes6AqKmTx+a9ahU2wpILuJRZSAC4uezKBGQwy+/PllE9QSs5hErnoLlJ0apRkFAUpEf5rwIiDBuuQpIfVt9qiFUQOwSAwGx4zTEVrFlxEWMQ1ZATI9KRUDSZPMYjmDpG81v2/GoOnrs+ATi1VdtnNz/Ud3zwXtA0uSWZFZX6ajPRQVEQn74fREQYQxzFpA+4lHhQEDsEgMBseM0xFYISPu7GmwEJLfqh84/KiB+PoWSCoh0BTyGV0pwef9KIFYvXBD9Ja0IiP94DmnEIgVEl33v37t/EqfN12+aPuKvLXDN39g0f2uDgAwp3c+v1eU3zabdISAmQsO9XrqAtD0qVUfTRkB0u9wkBAHx81lEQPxwzGUUBCSXSJS3juIERJ9Bfew7P5qWfZsvOmqmQNuzyettchaQ5l5cKiJUQOx+GCAgdpzG3MqXqLiIccgjWM1Y1R+Vqo/KdAlIbtJR3wsC4udTiID44dhnFMlxJ9N8VEBMhLjum0BxAqKF44rL1qsbb7huwrIpJAjIeQIIiN1HDQGx4zTmVkMRkOb5+mZMvv/tndObg+vXmm+oRkDSZPMY7gGRkiv9CBYCsiBNIfpnRKAoAan+Ad70uc9MBcRU4TDdNDeECohL5aPKTQTE7lOKgNhxGnOroQhI3xi4CEh9jtyqIVRA+mbA0n5UQPxwbI5Sl4tPfXxBvXXitDp3LsxcbaNSAYnHmpnOEyhSQLZ89UvT3/SZBKSZKLqC8tYvjk/vG0FAhvdRcjnqYtodAmIiVO51VzFxycuQR7BMj0qlApImp6mAKDXmCggCYv5cbVhHBcRMaTgtRiMgbTeLV2GoHvW3sGqVeuCR/cqlAtIMpZ7n4SefUbvv2zZ5dGCOAtKn4tHcJxUQuw8xAmLHqcRWQxUQU9UXAUmTzQjIuAVEZ1UlIVRA2j9jCEianz2hZh2NgNgCcr0HZIgC0lxzHyFBQOwyCgGx41Riq6EKiClWbQKS23Grtj1wBMsUWbvrHMGy45SileQeEY5gpYhY2XMWJyCmp2A1n/jykxcOqz/4vUvVxss3TDKl+dSsHCsgCEj3h9rlqIvpxwMCYiLE9YqASUhc8jLkESxTxGZVQHKXEATEFFm76wiIHacUrRCQFNSZsy+B4gREg+p6D0hTQLSw3HLXninf5ntDhiAg1eJdKiFUQOw+UgiIHSdaKTVmAcldPnT+ISB+PoUIiB+OuYzCe0ByiUR56yhSQHyGGQHxSTPOWC6/aTatCAExEeL62CsgQ5APBMTf5xAB8ccyh5EQkByiUOYaEBBh3HMWEJeKRxMDFRC7xEBA7DiV2MpU8WgycRHjnI5gISBxspub0Md/E3qcTDo/S/O4FveAxKTPXJoAAiLMg5wFZNbWbMQEAbFLDATEjlOJrRCQvKLOESw/8aAC4odjLqNQAcklEuWtAwERxhwBEQJM0N3lN82m5SEgJkLlXi9BQIZS/dBZiID4+SwiIH445jIKApJLJMpbBwIijPkQBaS+5VnVECogdomBgNhxotVSAm1y4iLGuRzBQkDiZTZHsDiC5Tvb6sewOILlmy7jmQggICZChusIiBBggu4uX/RMy0NATIS43kYAAYmfF1RA/DCnAuKHYw6jICA5RKHcNSAgwtgjIEKACbojIAmgM+USAghI/IRAQPwwR0D8cMxxlK/8izl16r2z0ZY2N6fUJWsX1Jtvn7aakzehW2EaTCMERBgqBEQIMEF3BCQBdKZ0ImC6f4QjWE44J40REHdmbT0QED8ccxwFAckxKuNdEwIijC0CIgSYoDsCkgA6UzoRGIKADOn+DwTEKf06GyMg/limHInH8Kakz9yaAAIizIOhC4jeftuN6NyEbpcY3ANix4lWbgSGICB6R0OSECogbjk4qzUC4odj7qM0BSXEejmCFYLqcMZEQISxQkCEABN0pwKSADpT9iIwS0Q4guWOEwFxZ9bWAwHxwzH3URCQ3CM0/PUhIMIYjkFA6giqaggVELvEoAJix4lW/QjkLCBDqn5o+ghIvxxs9kJA/HBMOUqbXPAY3pQRKXNuBEQYdwRECDBBdyogCaAz5TICTblwycscKiAISNyk5j0gvAfEV8YhIL5IMo6EAAIioaeUQkCEABN0d/miZ1oeFRATIa7PIoCAxM0NKiB+eFMB8cMxx1F4ClaOURnvmhAQYWzHJiBtOGa9LV2ILll3BCQZeiauEUBA4qYDAuKHNwLih2OOoyAgOUZlvGtCQISxRUCEABN0R0ASQGfKCYGup1u55CVHsNwTCgFxZ9bWAwHxwzHHURCQHKMy3jUhIMLYliAgTURDr4i4fNEzpYfLEawzZ95XDzyyXx386aHJsA/t2KpuvOG6mVM89/yL6v69+5dc/8bXN6vtt26Z/N3Jm75gWh7XMyMwFgF5a+Mfq998eC4zut3LQUD8hAsB8cMxp1H0PSHchJ5TRMpYCwIijHOJAtKGbEhSkkpAHnv6wASdFogT75xSd+58XG2//SZ17TVXtmahFpBDL72qHrx3q5qfX7msDQIi/PAm6D4GAbn0lR+olz59MwISOX+4CZ2b0EOlHAISiizjdhFAQIT5gYCcB4iAdCeSFo5d39qnvnnHzWrj5RsmjetC0tYbARF+OCN2N7040GYpLmKc8ggWAmITTf9tEBAExH9WnR8RAQlFlnERkIA5ULKADEk66ing8kXPlDq2R7COvHFU7dqzT+3euW0qICbBaB7Bqh+/0uuiAmKKTrzrCEg81n1n4ghWX3JL+3EEyw/HnEZBQHKKRjlroQIijDUCIgSYoHsqAXn4yWfU7vu2qbVrVk92bRKQOprqyNaWr35pet8IApIgeWZMWZKAzP3Vk4p7QOLnHhUQKiChs46b0EMTZvw6AQREmA8lC8gsdLlXRnwLyJM/eE5974cHW3FUN5r3qYA0B9TC8rOfH+MmdOFnVtrdh2y0rcElL1MewdJrP3biDPeASBPJsT8CgoA4psyy5m0vIKwacRO6lC79XQkgIK7EGu0RkKVAcpcPvVqXL3qm9LA9gtXnHhAExEQ/zfXSBYQKSJq8Q0AQEGnmISBSgvT3SQABEdJEQBCQhVUrrLKo6ylYzSNW+pG9zx78S/VHm784eQJW21OzOIJlhd17o9IFhJvQvaeU1YAICAJilSgOjepCQgXEARxNvRBAQIQYEZD+AFNVS1JUQDSlrveAtN3joYWlfrSr+d4QBMQ991Z8/98rNTenTr131r1z4B4ueckRLPdgcBO6O7O2HtyE7odjDqMgIDlEodw1ICDC2CMg/QGWJiD9SbX3REDciSIg7szaenAPiB+OLqNQAaEC4pIvrm2/8icq+i9n5uaUumTtgnrz7dNWy92wbsGqHY2GQQABEcYJAXEHmEo8qpW6/KbZtDvbe0BM4/S5joC4U0NA3JkhIH6YSUdBQBAQaQ519UdAQtJl7DYCCIgwLxAQd4AIiDuzth4ISDvHrns0Upxzto22ixhzBMuW6mI7jmC5M2vrwREsPxxzGoX3gOQUjXLWgoAIY42A9AOYUkJcvuiZdkcFxEQo/nUEJDxzjmCFZ9ycgQoIFRDfWcc9IL6JMp4LAQTEhVZLWwRECLDWPZaUICD+YpbjSAhI+KggIOEZIyDLGT+7Lb+HR8TPBH8zIiD+WDKSOwEExJ3Zkh4IiBAgAtIbYClHsHw+9pYjWL3TbUlHBMQPR5dRqIBQATHlS9d7Pkx9U/xs5CZ0U1TGfR0BEcYXAbEHGKvCYVoRFRATobyuIyDL48E9IO45yj0g7szaenAPiB+OIUZBQEJQZcxQBBAQIVkExB4gAmLPyqYlFRAbSkvbpPgtn+0qXcQYAbGlutgOAXFnhoD4YWY7SiUQn/r4gnrrxGl17pxtT3m7FD8bqYDI4zbkERAQy+gdeeOoevjJZ9Tu+7aptWtWT3shIJYALZvFkBSXL3qmZXMTuolQ+3WfVQ2XFaT4R9Z2fS55iYDYUkVA3El196ACcp6PpNpgigkC0k6I94CYMmdY1xEQQ7yqN1S/8toRdfVVG9UTe+5GQHrkeAyxsF2Wyxc905gIiIkQAmJLyCUvERBbqgiIOykExIYZAmJDqbsNFRA5wyGPgIBYRo8KiCWoGc0QEBm/tt5DPoJFBWR5RBEQ/5+R+ogcwfLDt6QKyPXfVmrlijl18ldxn75FBYQKiJ9Pa96jICCW8UFALEEhIDJQDr1zEpC6UKz76Er17unfqF+f/Y3DbuI05QiWH848BcsPR5dReApW/KdgISAuGerelgqIO7Mx9UBALKOJgFiCQkBkoBx6IyAOsH7bFAFxZ9bWAwHxw9FlFAQkjoDUj1ZdNH8BFRCXJHVsi4A4AhtZ82IFRAvFbTseVUePHV8W0rZ7PRCQ5Zmf07Eql8+ly1EX07il3APicmSKCogpa9qvu+Ql94C4M+YIljuzth5jP4KFgMQ7boaA+PlMDnWUYgXENWClC8hQZaMtzi5f9Ex5goAsJ4SAmLIGAelHSNYLAZHxq3qPXUBmUQp503lzTu4BaY8CT8Hy8xnOZRQExDISCMgHlqTyb4aAuMeICog7M9ceLnlJBcSVrlIIiDszKiAcwfKTNe2jUAEJSTf/sREQQ4zqj+Gtmn7j65vV9lu3TP536O8BmVXZuGjVCrXywhXq5Lvv55/Fjit0+aJnGnqoFRAXoTAxaF6nAuJK7Hx7l7xEQNwZIyDuzBAQBMRP1iAgITkOdWwERBg5BEQIMEF3ly96puUhIMsJISCmrGm/7pKXCIg7YwTEnVmJAtLc8w1/ymN4/WTO8lGogIQiO4xxERBhnHIWEMl9G1RA7BIDAUFA7DLF3AoBMTOStEBAJPQW+5Z2DwgC4idv2kZBQMKxHcLICIgwSjkJiEQ4mhgQELvEGJqAhDx6VRGjAmKXO81WKQTksacPqCsuW69uvOG6Jcs5/PLr6pa79kz+ru2pgDyGt1+MJb14DG+cx/CaYhTjZnRuQm+PAjehm7JzWNcREGG8EBAhwATdXb7omZaHgFABMeWI7XWXvJQewXru+RfV/Xv3T5b20I6tSwREP3Bj1559avfObWrj5RuUbnvopVfVg/duVfPzKyd9EBDbqPprh4DEE5BKMngPiL/8pQISluUQR0dAhFELLSA+qxouW6UCYkcLAUFA7DLF3CqmgFSraauAaOH42c+PTR+00RQSBMQcyxAtEBAEJEReVWOmeEkrR7BCRjT/sREQYYwQECHABN1dvuiZlpezgMQ4btXGhyNYpqxpv+6Sl9IKSJeAaCnRf6on/VVPAtx++03q2muupALSL7ziXghIPAGpB4t7QMSpO3MABCQc2yGMjIAIo+RTQFJVO9oQUAGxSwwEhAqIXaaYW+UkIPX7QhAQc+xitEBAEJCQeUYFJCRdxm4jgIAI86KPgOQkGrO2j4DYJQYCgoDYZYq5lQ8B0dWL7/3wYOtkzXs9dKO2I1hUQMyxStECAYkjIPWbzLkHJGymUwEJyzf30REQYYQQECHABN1dvuiZlpejgKQ6elWx4giWKWvar7vkZcgjWNwD0i9+oXshIAhIyByjAhKSLmNTAQmQAyYBGUK1ow0LFRC7ZEFAqIDYZYq5VS4CwlOwzLFK0QIBiSMgs2Ib4/G71dw8hrc9CjyGN8VPnnBzUgERskVAhAATdHf5omdaHgKCgJhyxPa6S15KKyD1x/Dq9W1Yv049tfeeyWN39R/eA2IbtXjtEJA0AsJN6OFynCNY4dgOYWQERBilWQIy1MpHhYMKiF1i5CIgqY9d1WlxBMsud5qtYgpIvxUu9uI9IFKC7v0REATEPWvse3AEy54VLf0QQECEHJsCMnTxQEDcEgIBoQLiljGzWyMgvki2j6OrRp9Ys2ryEsUh/kFAwgtI85gVN6GH/aRQAQnLN/fRERBhhBAQIcAE3V2+6JmWh4AgIKYcsb3ukpfSI1i2a5rVjgqIlKB7fwQEAXHPGvseVEDsWdHSDwEERMixEpCxVD6ogLglRA4CktPxK02PI1huOVS1RkD6cbPtRQXEllR3u49edKG6eOECP4M5jvLstrOOPeTNuQdEznDWCFRAwrEdwsgIiDBKCIgQYILuLl/0TMtDQJYTQkBMWdN+3SUvqYC4M0ZA3Jm19UBA/HDsGoWnYLXT4SlY4XMv5gwIiJC2FpCxVT80Em5Ct0sMBAQBscsUcysExMxI0gIBkdBb7FuCgFT3gnAPiJ+coQISluNQR0dAhJFDQIQAE3R3+aJnWl5qAcnt+JXmRQXElDVUQPoRkvVCQGT8qt4lCEidFEew/ORN2ygcwQrHdggjIyDCKCEgQoAJuiMgYaEjIP34uuQlR7DcGSMg7szaeiAgfjh2jcIRrHY6HMEKn3sxZ0BAPNA+evy0h1HyGoIjWHbxoAKynBMCYpc7zVYISD9utr0QEFtS3e1KEpDrv63UyhVz6uSv4t78joAgIH4+rXmPgoB4iA8C4gFixCFcvuiZloWAICCmHLG97pKXVEBsqS62Q0DcmZVeAUFA/OTMrFE4ghWWb+6jIyAeIoSAeIAYcQiXL3qmZSEgCIgpR2yvu+QlAmJLFQFxJ0UFpCKAgPjOnqXjISBh+eY+OgLiIUIIiAeIEYdw+aJnWlZKAXn39Afql+/FPRpg4qGvcwTLhtLyNi55iYC4M6YC4s6MCghHsPxkTfsoCEhIuvmPjYB4iBEC4gFixCFcvuiZloWAUAEx5YjtdZe8REBsqVIBcSdFBYQKiO+sQUDiEB3WLAiIh3ghIB4gRhzC5YueaVkICAJiyhHb6y55iYDYUkVA3EkhICZm1XtCTO36Xucm9HZyPAWrb0bl2Q8B8RAXBMQDxIhDuHzRMy0LAUFATDlie90lLxEQW6oIiDupdAJy5sz76oFH9quDPz00WcRDO7aqG2+4brqgZ7flceQUAfGTVRzB8sNxqKMgIB4ih4B4gBhxCJcveqZlISAIiClHbK+75CUCYksVAXEnlU5AHnv6wGTy7bduUSfeOaXu3Pm42n77Teraa66c/H0KAeFFhL4zaHE8BCQc2yGMjIB4iBIC4gFixCFcvuiZloWAICCmHLG97pKXCIgtVQTEnVQaAdHCsetb+9Q377hZbbx8w2QRdSFBQHxHcul4qxcuUGpuTp2K+GATBCRsTHMfHQHxECEExAPEiEO4fNEzLQsBQUBMOWJ73SUvERBbqgiIO6k0AnLkjaNq1559avfObVMBee75F9Whl15VD967Vc3Pr4xeAeExvL6zZ+l4CEhYvrmPjoB4iBAC4gFixCFcvuiZloWAICCmHLG97pKXCIgtVQTEnVQ6AXn4yWfU7vu2qbVrVk8W4UtA+t6zcdH8BbwJ3XcC1cZDQALCHcDQCIiHICEgHiBGHMLli55pWQgIAmLKEdvrLnmJgNhSRUDcSaUTkFAVEATEnAUcwTIzooVfAgiIX56MBgEIQAACEICAIwGbe0Ach6Q5BCCQMQEEJOPgsDQIQAACEIBAKQRMT8EqhQP7hEAJBBCQEqLMHiEAAQhAAAKZEzC9ByTz5bM8CEDAgQAC4gCLphCAAAQgAAEIQAACEICAjAAC0pOffjrH/Xv3T3pvvn7T9DGBPYeL2k2Xub/3w4NL5qy/cbZrb7n+hkqv+Wc/PzZ5gVX9T/Uyq1deOzL56+9/e+f0pVb6/4e2V9N+QiaSfkzmbTseVUePHZ9Oc/VVG9UTe+6ePLXGlBuHX35d3XLXnknfej/pmnU+X3HZ+iVvTNZjds1nWqsvzrPycoifwZx/5tXXVuXTN76+efrzwJR7KfbWds+DXrs0N1PsRfoZ7urv67NYn6PJOMW/DfpnwOG/fm3681Ov0CSB8AAACxhJREFUwbRXSWzrP3Pqnw3Tv4OmNc2KXbNfc07TuJK9hsxHxvZHAAHpwVL/Y/bYd340/cHRfFlSjyGjdular2lvuZ3RrX+xaP6Aq/6R2fS5z0y+nDafMz+0vZr2EzqJ2p7TX5+zKzeafZuP1+yz9vo/UHWB1mOZ5utaqw/OXXmp1ze0z6Dps9Infj77dOWTKRdi763+5XfD+nXqqb33TN970cyN5tvATbkZey8+Y9g2lmm/fefXXP/lM/9G3fk//+Hk/SKa267d353GwsRR+u9gJQNtv8Dp++9VF4u+P2/68m/2M/2/67/NfeNOv7wIICA94tH8jWvzh1WPIaN26fph1LU3vchdhjfVRt1IbbK23zTrH2r158o3fwgOba+m/YRm3yUgpifYNONjkhmXvbRVQLrmW/ux1Z157JNzVwVE77FZsau+gNYrOvWfL6k+g7n/zOsSEFPupdpb22fG9Dky5Waqvbh8Xl3amvbrMlZX26bohfy3ocrHv//3PrvkF5mmvfaNrf75ceDHL8w8pdE17omTpzr/DZ3FtMmzKdah9uorHxgnDgEExJFz80us7u7zy5Tjcno1bx7/qH57bNrb5MuP4U21vRbkoVPbF702MazkS//m64FH9qvqt03NOOa41679tH2R9YB1yRDNI1j1396Z3mL8xL/6s8lY1Trb/oHqu942AWlKdn2+dR/7aGce/81/OrLki0HzH0+Xddoewcr5M2j6ubDx8g0uSIK0bR7BqldDu3Lhs//Fxs6fAyH31iYbps9RV26afqaF3EuQoP72GGX9tIHks9i1xjr3Des/EezfhrooN2Mp+feqK7ZtxxOro8imz/bxk7/s/bOwmlfP9ftXXLrklz6h9hoqDxk3DAEExJFr9YHd8tUvTe8lGJqA1Ldcfancvesfq+of41l70/1Mb6p1xOmt+SwBaf7mpykgQ9pr22+yUh7/03O/9Yvjk9+sHT32t525oQWk/lv9GAIyaz4tIF15rL8YzMobV9GbJSBD+gwO7WdelVv6s62PXjYFtZ57pp95Ib+0zxKQvrlZCchY/m3Sn5EYP/NmHQ/y/W9Dcy/NL+Fde5XEtq3CUR03q2Rr1l61gPT9WVh9L9Jx/JvXjqjmPVl9/20O+Zn09oWEgawIICBWmBYbmX5jMMQPR/UD6oYvbwr2mx9HzM7NqYAsvfneGWCPDvUyui7Vd1XHqIB0xyfnz+AQf+bVfx5QAdmndu/ctuQ+kx4f9yRdQld9q9y+5JPrptVZU75rEH1OArRVIvRYVSX5//3Zf55ZbZBUt5oCUt+f6d/8vhWQplw3OVMBSfJxym5SBKRHSPqexewxVZQu9f2EPPsacjPcA3JdSLytY9cFZPKPcsf9QaZz+JLFD/EekOZ+c/8MDu1nXj3fTLmXam/cA2L+1JvuFTCPMLtFm3xUrWP8O9j8Em7aa988beZ/s6IZ4h6Q5l401/rxs2bF3OX+TP3ERf6MgwAC0iOOpidk9BgyWhf9j97z//Y/qn944/WTOV2fPlH/baLPYzRSAG0CYnqChymOue3VtB8pQ1P/n7xwWP3B7106/U1q8zfLXbxMTyIyzd11vU1ATPN1rdUn57a8HOJn0PRZkcRP2lfH69mDf6n+aPMXJ080av5cMuVCqr3NegyvJDdT7UUaw1n9fX4W63O0VTnq100cffzb0JzDtFfTmmYxrB+zvvaaKyfH2ur31XSNa1rTrDmbxyCbsmcat+9eQ+Uh44YhgID05DrUZ1RXH/yDPz003fmQ341Rf9xptaH6fiTPGm+yaj7qtWfqiLqZ9iMa3NC5ybr5/hsTr3p/H+8BaR5paD7StGs+01qlnLvycqifwZx/5s16sEaV0qbci7m3tvjXP0vS3Iy5l5A/b6qxpZ/FtjU2H6hRtanfp9DF0RQjGy5tx5BMe+0b23r+tz36uWtc05pM4lO9N4r3gNhkRVltEJCy4s1uIQABCEAAAhCAAAQgkJQAApIUP5NDAAIQgAAEIAABCECgLAIISFnxZrcQgAAEIAABCEAAAhBISgABSYqfySEAAQhAAAIQgAAEIFAWAQSkrHizWwhAAAIQgAAEIAABCCQlgIAkxc/kEIAABCAAAQhAAAIQKIsAAlJWvNktBCAAAQhAAAIQgAAEkhJAQJLiZ3IIQAACEIAABCAAAQiURQABKSve7BYCEIAABCAAAQhAAAJJCSAgSfEzOQQgAAEIQAACEIAABMoigICUFW92CwEIQAACEIAABCAAgaQEEJCk+JkcAhCAAAQgAAEIQAACZRFAQMqKN7uFAAQgAAEIQAACEIBAUgIISFL8TA4BCEAAAhCAAAQgAIGyCCAgZcWb3UIAAhCAAAQgAAEIQCApAQQkKX4mhwAEIAABCEAAAhCAQFkEEJCy4s1uIQABCEAAAhCAAAQgkJQAApIUP5NDAAIQgAAEIAABCECgLAIISFnxZrcQgAAEIAABCEAAAhBISgABSYqfySEAAQhAAAIQgAAEIFAWAQSkrHizWwhAAAIQgAAEIAABCCQlgIAkxc/kEIAABCAAAQhAAAIQKIsAAlJWvNktBCAAAQhAAAIQgAAEkhJAQJLiZ3IIQAACEIAABCAAAQiURQABKSve7BYCEIAABCAAAQhAAAJJCSAgSfEzOQQgAAEIQAACEIAABMoigICUFW92CwEIQAACEIAABCAAgaQEEJCk+JkcAhCAAAQgAAEIQAACZRFAQMqKN7uFAAQgAAEIQAACEIBAUgIISFL8TA4BCEAAAhCAAAQgAIGyCCAgZcWb3UIAAhCAAAQgAAEIQCApAQQkKX4mhwAEIAABCEAAAhCAQFkEEJCy4s1uIQABCEAAAhCAAAQgkJQAApIUP5NDAAIQgAAEIAABCECgLAIISFnxZrcQgAAEIAABCEAAAhBISgABSYqfySEAAQhAAAIQgAAEIFAWAQSkrHizWwhAAAIQgAAEIAABCCQlgIAkxc/kEIAABCAAAQhAAAIQKIsAAlJWvNktBCAAAQhAAAIQgAAEkhJAQJLiZ3IIQAACEIAABCAAAQiURQABKSve7BYCEIAABCAAAQhAAAJJCSAgSfEzOQQgAAEIQAACEIAABMoigICUFW92CwEIQAACEIAABCAAgaQEEJCk+JkcAhCAAAQgAAEIQAACZRFAQMqKN7uFAAQgAAEIQAACEIBAUgIISFL8TA4BCEAAAhCAAAQgAIGyCCAgZcWb3UIAAhCAAAQgAAEIQCApAQQkKX4mhwAEIAABCEAAAhCAQFkEEJCy4s1uIQABCEAAAhCAAAQgkJQAApIUP5NDAAIQgAAEIAABCECgLAIISFnxZrcQgAAEIAABCEAAAhBISgABSYqfySEAAQhAAAIQgAAEIFAWAQSkrHizWwhAAAIQgAAEIAABCCQlgIAkxc/kEIAABCAAAQhAAAIQKIsAAlJWvNktBCAAAQhAAAIQgAAEkhJAQJLiZ3IIQAACEIAABCAAAQiURQABKSve7BYCEIAABCAAAQhAAAJJCSAgSfEzOQQgAAEIQAACEIAABMoigICUFW92CwEIQAACEIAABCAAgaQEEJCk+JkcAhCAAAQgAAEIQAACZRFAQMqKN7uFAAQgAAEIQAACEIBAUgIISFL8TA4BCEAAAhCAAAQgAIGyCCAgZcWb3UIAAhCAAAQgAAEIQCApAQQkKX4mhwAEIAABCEAAAhCAQFkEEJCy4s1uIQABCEAAAhCAAAQgkJQAApIUP5NDAAIQgAAEIAABCECgLAIISFnxZrcQgAAEIAABCEAAAhBISuD/Bz0dUSCJaAJCAAAAAElFTkSuQmCC)"
      ],
      "metadata": {
        "id": "mGYJRAJbQY-q"
      }
    },
    {
      "cell_type": "markdown",
      "metadata": {
        "id": "8KwGlwHq9_FZ"
      },
      "source": [
        "Удаление выбросов в стобце `f2`"
      ]
    },
    {
      "cell_type": "code",
      "execution_count": null,
      "metadata": {
        "id": "9_6kgr3mjAS3"
      },
      "outputs": [],
      "source": [
        "# remove outliers\n",
        "df_0_copy = df_0.copy()\n",
        "df_0 = df_0[df_0['f2'].between(df_0['f2'].quantile(.005), df_0['f2'].quantile(.995))]"
      ]
    },
    {
      "cell_type": "code",
      "execution_count": null,
      "metadata": {
        "id": "6Y-DC-OSk5k1"
      },
      "outputs": [],
      "source": [
        "df_1_copy = df_1.copy()\n",
        "myfunc.df_plots(df_1, ['f0','f1', 'f2', 'product'], df_1['region'][0],cols=4)\n",
        "myfunc.df_plots(df_1, ['f0','f1', 'f2', 'product'], df_1['region'][0], 'Histogram', cols=4)"
      ]
    },
    {
      "cell_type": "markdown",
      "source": [
        "![newplot (2).png](data:image/png;base64,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)"
      ],
      "metadata": {
        "id": "Oi9TBosDQ28w"
      }
    },
    {
      "cell_type": "markdown",
      "source": [
        "![newplot (3).png](data:image/png;base64,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)"
      ],
      "metadata": {
        "id": "3xz1AaYoQ2tB"
      }
    },
    {
      "cell_type": "markdown",
      "metadata": {
        "id": "va39a46qxJtm"
      },
      "source": [
        "В данном регионе данные в столбцах `f2` и `product` выглядят ошибочными, после анализа корреляции будет сделан вывод что можно с ними сделать"
      ]
    },
    {
      "cell_type": "code",
      "execution_count": null,
      "metadata": {
        "colab": {
          "background_save": true
        },
        "id": "WhUen5c55Z-B"
      },
      "outputs": [],
      "source": [
        "myfunc.df_plots(df_2, ['f0','f1', 'f2', 'product'], df_2['region'][0],cols=4)\n",
        "myfunc.df_plots(df_2, ['f0','f1', 'f2', 'product'], df_2['region'][0], 'Histogram', cols=4)"
      ]
    },
    {
      "cell_type": "markdown",
      "source": [
        "![newplot (4).png](data:image/png;base64,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)"
      ],
      "metadata": {
        "id": "K6cdjNxHRBIo"
      }
    },
    {
      "cell_type": "markdown",
      "source": [
        "![newplot (5).png](data:image/png;base64,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)"
      ],
      "metadata": {
        "id": "LZSiwl7kRA9h"
      }
    },
    {
      "cell_type": "markdown",
      "metadata": {
        "id": "KzpgAGrA-KnY"
      },
      "source": [
        "Удаление выбросов в стобцах"
      ]
    },
    {
      "cell_type": "code",
      "execution_count": null,
      "metadata": {
        "colab": {
          "background_save": true
        },
        "id": "JVPz13ug5kv6"
      },
      "outputs": [],
      "source": [
        "# remove outliers\n",
        "df_2_copy = df_2.copy()\n",
        "df_2 = df_2[df_2['f0'].between(df_2['f0'].quantile(.005), df_2['f0'].quantile(.995))]\n",
        "df_2 = df_2[df_2['f1'].between(df_2['f1'].quantile(.005), df_2['f1'].quantile(.995))]\n",
        "df_2 = df_2[df_2['f2'].between(df_2['f2'].quantile(.005), df_2['f2'].quantile(.995))]"
      ]
    },
    {
      "cell_type": "markdown",
      "metadata": {
        "id": "Si2_zwnu8tGp"
      },
      "source": [
        "Анализ корреляции"
      ]
    },
    {
      "cell_type": "code",
      "execution_count": null,
      "metadata": {
        "colab": {
          "background_save": true,
          "base_uri": "https://localhost:8080/",
          "height": 244
        },
        "id": "nOEZ56Sq8mBw",
        "outputId": "87563d67-7db4-42cf-85b2-970a2b517180"
      },
      "outputs": [
        {
          "name": "stderr",
          "output_type": "stream",
          "text": [
            "/usr/local/lib/python3.7/dist-packages/ipykernel_launcher.py:1: FutureWarning:\n",
            "\n",
            "this method is deprecated in favour of `Styler.format(precision=..)`\n",
            "\n"
          ]
        },
        {
          "data": {
            "text/html": [
              "<style type=\"text/css\">\n",
              "#T_f32e3_row0_col0, #T_f32e3_row1_col1, #T_f32e3_row2_col2, #T_f32e3_row3_col3 {\n",
              "  background-color: #b40426;\n",
              "  color: #f1f1f1;\n",
              "}\n",
              "#T_f32e3_row0_col1, #T_f32e3_row0_col2, #T_f32e3_row1_col0, #T_f32e3_row1_col3 {\n",
              "  background-color: #3b4cc0;\n",
              "  color: #f1f1f1;\n",
              "}\n",
              "#T_f32e3_row0_col3 {\n",
              "  background-color: #98b9ff;\n",
              "  color: #000000;\n",
              "}\n",
              "#T_f32e3_row1_col2 {\n",
              "  background-color: #3c4ec2;\n",
              "  color: #f1f1f1;\n",
              "}\n",
              "#T_f32e3_row2_col0 {\n",
              "  background-color: #9fbfff;\n",
              "  color: #000000;\n",
              "}\n",
              "#T_f32e3_row2_col1 {\n",
              "  background-color: #a1c0ff;\n",
              "  color: #000000;\n",
              "}\n",
              "#T_f32e3_row2_col3 {\n",
              "  background-color: #ebd3c6;\n",
              "  color: #000000;\n",
              "}\n",
              "#T_f32e3_row3_col0 {\n",
              "  background-color: #c1d4f4;\n",
              "  color: #000000;\n",
              "}\n",
              "#T_f32e3_row3_col1 {\n",
              "  background-color: #7295f4;\n",
              "  color: #f1f1f1;\n",
              "}\n",
              "#T_f32e3_row3_col2 {\n",
              "  background-color: #d7dce3;\n",
              "  color: #000000;\n",
              "}\n",
              "</style>\n",
              "<table id=\"T_f32e3_\" class=\"dataframe\">\n",
              "  <thead>\n",
              "    <tr>\n",
              "      <th class=\"blank level0\" >&nbsp;</th>\n",
              "      <th class=\"col_heading level0 col0\" >f0</th>\n",
              "      <th class=\"col_heading level0 col1\" >f1</th>\n",
              "      <th class=\"col_heading level0 col2\" >f2</th>\n",
              "      <th class=\"col_heading level0 col3\" >product</th>\n",
              "    </tr>\n",
              "  </thead>\n",
              "  <tbody>\n",
              "    <tr>\n",
              "      <th id=\"T_f32e3_level0_row0\" class=\"row_heading level0 row0\" >f0</th>\n",
              "      <td id=\"T_f32e3_row0_col0\" class=\"data row0 col0\" >1.00</td>\n",
              "      <td id=\"T_f32e3_row0_col1\" class=\"data row0 col1\" >-0.44</td>\n",
              "      <td id=\"T_f32e3_row0_col2\" class=\"data row0 col2\" >-0.00</td>\n",
              "      <td id=\"T_f32e3_row0_col3\" class=\"data row0 col3\" >0.14</td>\n",
              "    </tr>\n",
              "    <tr>\n",
              "      <th id=\"T_f32e3_level0_row1\" class=\"row_heading level0 row1\" >f1</th>\n",
              "      <td id=\"T_f32e3_row1_col0\" class=\"data row1 col0\" >-0.44</td>\n",
              "      <td id=\"T_f32e3_row1_col1\" class=\"data row1 col1\" >1.00</td>\n",
              "      <td id=\"T_f32e3_row1_col2\" class=\"data row1 col2\" >0.00</td>\n",
              "      <td id=\"T_f32e3_row1_col3\" class=\"data row1 col3\" >-0.19</td>\n",
              "    </tr>\n",
              "    <tr>\n",
              "      <th id=\"T_f32e3_level0_row2\" class=\"row_heading level0 row2\" >f2</th>\n",
              "      <td id=\"T_f32e3_row2_col0\" class=\"data row2 col0\" >-0.00</td>\n",
              "      <td id=\"T_f32e3_row2_col1\" class=\"data row2 col1\" >0.00</td>\n",
              "      <td id=\"T_f32e3_row2_col2\" class=\"data row2 col2\" >1.00</td>\n",
              "      <td id=\"T_f32e3_row2_col3\" class=\"data row2 col3\" >0.48</td>\n",
              "    </tr>\n",
              "    <tr>\n",
              "      <th id=\"T_f32e3_level0_row3\" class=\"row_heading level0 row3\" >product</th>\n",
              "      <td id=\"T_f32e3_row3_col0\" class=\"data row3 col0\" >0.14</td>\n",
              "      <td id=\"T_f32e3_row3_col1\" class=\"data row3 col1\" >-0.19</td>\n",
              "      <td id=\"T_f32e3_row3_col2\" class=\"data row3 col2\" >0.48</td>\n",
              "      <td id=\"T_f32e3_row3_col3\" class=\"data row3 col3\" >1.00</td>\n",
              "    </tr>\n",
              "  </tbody>\n",
              "</table>\n"
            ],
            "text/plain": [
              "<pandas.io.formats.style.Styler at 0x7fded0499a50>"
            ]
          },
          "execution_count": null,
          "metadata": {},
          "output_type": "execute_result"
        }
      ],
      "source": [
        "df_0.corr().style.background_gradient(cmap='coolwarm').set_precision(2)"
      ]
    },
    {
      "cell_type": "code",
      "execution_count": null,
      "metadata": {
        "colab": {
          "base_uri": "https://localhost:8080/",
          "height": 244
        },
        "id": "XyCvgXEb9Gdg",
        "outputId": "c4cb68f3-9b9f-45b5-c248-007c44d2b097"
      },
      "outputs": [
        {
          "name": "stderr",
          "output_type": "stream",
          "text": [
            "/usr/local/lib/python3.7/dist-packages/ipykernel_launcher.py:1: FutureWarning:\n",
            "\n",
            "this method is deprecated in favour of `Styler.format(precision=..)`\n",
            "\n"
          ]
        },
        {
          "data": {
            "text/html": [
              "<style type=\"text/css\">\n",
              "#T_5115f_row0_col0, #T_5115f_row1_col1, #T_5115f_row2_col2, #T_5115f_row2_col3, #T_5115f_row3_col2, #T_5115f_row3_col3 {\n",
              "  background-color: #b40426;\n",
              "  color: #f1f1f1;\n",
              "}\n",
              "#T_5115f_row0_col1 {\n",
              "  background-color: #779af7;\n",
              "  color: #f1f1f1;\n",
              "}\n",
              "#T_5115f_row0_col2, #T_5115f_row0_col3, #T_5115f_row1_col2, #T_5115f_row3_col0, #T_5115f_row3_col1 {\n",
              "  background-color: #3b4cc0;\n",
              "  color: #f1f1f1;\n",
              "}\n",
              "#T_5115f_row1_col0 {\n",
              "  background-color: #7da0f9;\n",
              "  color: #f1f1f1;\n",
              "}\n",
              "#T_5115f_row1_col3 {\n",
              "  background-color: #4055c8;\n",
              "  color: #f1f1f1;\n",
              "}\n",
              "#T_5115f_row2_col0 {\n",
              "  background-color: #4358cb;\n",
              "  color: #f1f1f1;\n",
              "}\n",
              "#T_5115f_row2_col1 {\n",
              "  background-color: #3c4ec2;\n",
              "  color: #f1f1f1;\n",
              "}\n",
              "</style>\n",
              "<table id=\"T_5115f_\" class=\"dataframe\">\n",
              "  <thead>\n",
              "    <tr>\n",
              "      <th class=\"blank level0\" >&nbsp;</th>\n",
              "      <th class=\"col_heading level0 col0\" >f0</th>\n",
              "      <th class=\"col_heading level0 col1\" >f1</th>\n",
              "      <th class=\"col_heading level0 col2\" >f2</th>\n",
              "      <th class=\"col_heading level0 col3\" >product</th>\n",
              "    </tr>\n",
              "  </thead>\n",
              "  <tbody>\n",
              "    <tr>\n",
              "      <th id=\"T_5115f_level0_row0\" class=\"row_heading level0 row0\" >f0</th>\n",
              "      <td id=\"T_5115f_row0_col0\" class=\"data row0 col0\" >1.00</td>\n",
              "      <td id=\"T_5115f_row0_col1\" class=\"data row0 col1\" >0.18</td>\n",
              "      <td id=\"T_5115f_row0_col2\" class=\"data row0 col2\" >-0.00</td>\n",
              "      <td id=\"T_5115f_row0_col3\" class=\"data row0 col3\" >-0.03</td>\n",
              "    </tr>\n",
              "    <tr>\n",
              "      <th id=\"T_5115f_level0_row1\" class=\"row_heading level0 row1\" >f1</th>\n",
              "      <td id=\"T_5115f_row1_col0\" class=\"data row1 col0\" >0.18</td>\n",
              "      <td id=\"T_5115f_row1_col1\" class=\"data row1 col1\" >1.00</td>\n",
              "      <td id=\"T_5115f_row1_col2\" class=\"data row1 col2\" >-0.00</td>\n",
              "      <td id=\"T_5115f_row1_col3\" class=\"data row1 col3\" >-0.01</td>\n",
              "    </tr>\n",
              "    <tr>\n",
              "      <th id=\"T_5115f_level0_row2\" class=\"row_heading level0 row2\" >f2</th>\n",
              "      <td id=\"T_5115f_row2_col0\" class=\"data row2 col0\" >-0.00</td>\n",
              "      <td id=\"T_5115f_row2_col1\" class=\"data row2 col1\" >-0.00</td>\n",
              "      <td id=\"T_5115f_row2_col2\" class=\"data row2 col2\" >1.00</td>\n",
              "      <td id=\"T_5115f_row2_col3\" class=\"data row2 col3\" >1.00</td>\n",
              "    </tr>\n",
              "    <tr>\n",
              "      <th id=\"T_5115f_level0_row3\" class=\"row_heading level0 row3\" >product</th>\n",
              "      <td id=\"T_5115f_row3_col0\" class=\"data row3 col0\" >-0.03</td>\n",
              "      <td id=\"T_5115f_row3_col1\" class=\"data row3 col1\" >-0.01</td>\n",
              "      <td id=\"T_5115f_row3_col2\" class=\"data row3 col2\" >1.00</td>\n",
              "      <td id=\"T_5115f_row3_col3\" class=\"data row3 col3\" >1.00</td>\n",
              "    </tr>\n",
              "  </tbody>\n",
              "</table>\n"
            ],
            "text/plain": [
              "<pandas.io.formats.style.Styler at 0x7fded058ba10>"
            ]
          },
          "execution_count": 14,
          "metadata": {},
          "output_type": "execute_result"
        }
      ],
      "source": [
        "df_1.corr().style.background_gradient(cmap='coolwarm').set_precision(2)"
      ]
    },
    {
      "cell_type": "code",
      "execution_count": null,
      "metadata": {
        "colab": {
          "base_uri": "https://localhost:8080/",
          "height": 244
        },
        "id": "6DTYD2Hg9Mev",
        "outputId": "c1831316-0900-4c21-b8f9-3e8e17921d50"
      },
      "outputs": [
        {
          "name": "stderr",
          "output_type": "stream",
          "text": [
            "/usr/local/lib/python3.7/dist-packages/ipykernel_launcher.py:1: FutureWarning:\n",
            "\n",
            "this method is deprecated in favour of `Styler.format(precision=..)`\n",
            "\n"
          ]
        },
        {
          "data": {
            "text/html": [
              "<style type=\"text/css\">\n",
              "#T_d314d_row0_col0, #T_d314d_row1_col1, #T_d314d_row2_col2, #T_d314d_row3_col3 {\n",
              "  background-color: #b40426;\n",
              "  color: #f1f1f1;\n",
              "}\n",
              "#T_d314d_row0_col1, #T_d314d_row0_col2, #T_d314d_row0_col3, #T_d314d_row1_col0, #T_d314d_row1_col2, #T_d314d_row1_col3, #T_d314d_row2_col0, #T_d314d_row2_col1, #T_d314d_row3_col0, #T_d314d_row3_col1 {\n",
              "  background-color: #3b4cc0;\n",
              "  color: #f1f1f1;\n",
              "}\n",
              "#T_d314d_row2_col3 {\n",
              "  background-color: #ccd9ed;\n",
              "  color: #000000;\n",
              "}\n",
              "#T_d314d_row3_col2 {\n",
              "  background-color: #cbd8ee;\n",
              "  color: #000000;\n",
              "}\n",
              "</style>\n",
              "<table id=\"T_d314d_\" class=\"dataframe\">\n",
              "  <thead>\n",
              "    <tr>\n",
              "      <th class=\"blank level0\" >&nbsp;</th>\n",
              "      <th class=\"col_heading level0 col0\" >f0</th>\n",
              "      <th class=\"col_heading level0 col1\" >f1</th>\n",
              "      <th class=\"col_heading level0 col2\" >f2</th>\n",
              "      <th class=\"col_heading level0 col3\" >product</th>\n",
              "    </tr>\n",
              "  </thead>\n",
              "  <tbody>\n",
              "    <tr>\n",
              "      <th id=\"T_d314d_level0_row0\" class=\"row_heading level0 row0\" >f0</th>\n",
              "      <td id=\"T_d314d_row0_col0\" class=\"data row0 col0\" >1.00</td>\n",
              "      <td id=\"T_d314d_row0_col1\" class=\"data row0 col1\" >0.00</td>\n",
              "      <td id=\"T_d314d_row0_col2\" class=\"data row0 col2\" >0.00</td>\n",
              "      <td id=\"T_d314d_row0_col3\" class=\"data row0 col3\" >-0.00</td>\n",
              "    </tr>\n",
              "    <tr>\n",
              "      <th id=\"T_d314d_level0_row1\" class=\"row_heading level0 row1\" >f1</th>\n",
              "      <td id=\"T_d314d_row1_col0\" class=\"data row1 col0\" >0.00</td>\n",
              "      <td id=\"T_d314d_row1_col1\" class=\"data row1 col1\" >1.00</td>\n",
              "      <td id=\"T_d314d_row1_col2\" class=\"data row1 col2\" >0.00</td>\n",
              "      <td id=\"T_d314d_row1_col3\" class=\"data row1 col3\" >0.00</td>\n",
              "    </tr>\n",
              "    <tr>\n",
              "      <th id=\"T_d314d_level0_row2\" class=\"row_heading level0 row2\" >f2</th>\n",
              "      <td id=\"T_d314d_row2_col0\" class=\"data row2 col0\" >0.00</td>\n",
              "      <td id=\"T_d314d_row2_col1\" class=\"data row2 col1\" >0.00</td>\n",
              "      <td id=\"T_d314d_row2_col2\" class=\"data row2 col2\" >1.00</td>\n",
              "      <td id=\"T_d314d_row2_col3\" class=\"data row2 col3\" >0.44</td>\n",
              "    </tr>\n",
              "    <tr>\n",
              "      <th id=\"T_d314d_level0_row3\" class=\"row_heading level0 row3\" >product</th>\n",
              "      <td id=\"T_d314d_row3_col0\" class=\"data row3 col0\" >-0.00</td>\n",
              "      <td id=\"T_d314d_row3_col1\" class=\"data row3 col1\" >0.00</td>\n",
              "      <td id=\"T_d314d_row3_col2\" class=\"data row3 col2\" >0.44</td>\n",
              "      <td id=\"T_d314d_row3_col3\" class=\"data row3 col3\" >1.00</td>\n",
              "    </tr>\n",
              "  </tbody>\n",
              "</table>\n"
            ],
            "text/plain": [
              "<pandas.io.formats.style.Styler at 0x7fded058af90>"
            ]
          },
          "execution_count": 15,
          "metadata": {},
          "output_type": "execute_result"
        }
      ],
      "source": [
        "df_2.corr().style.background_gradient(cmap='coolwarm').set_precision(2)"
      ]
    },
    {
      "cell_type": "markdown",
      "metadata": {
        "id": "Hvqajig3yFI1"
      },
      "source": [
        "В регионах geo_0 и geo_2 корреляция `f2` к `product` имеет близкие значения, при этом у geo_1 корреляция 1, что вызывает как вопросы о том верные ли значения в `f2` и верно ли моделью рассчитаны значения `product`. Возможности исправить значения `f2` в geo_1 нет, соответственно этот регион не будет рассматриваться в дальнейшем анализе."
      ]
    },
    {
      "cell_type": "markdown",
      "metadata": {
        "id": "fSIIcf__AiIx"
      },
      "source": [
        "Анализ пропусков, нулей и дубликатов"
      ]
    },
    {
      "cell_type": "code",
      "execution_count": null,
      "metadata": {
        "colab": {
          "base_uri": "https://localhost:8080/"
        },
        "id": "hbmWmKIHKbRF",
        "outputId": "2fb733ea-3912-41f2-daa0-ad474d441877"
      },
      "outputs": [
        {
          "name": "stdout",
          "output_type": "stream",
          "text": [
            "<class 'pandas.core.frame.DataFrame'>\n",
            "RangeIndex: 300000 entries, 0 to 299999\n",
            "Data columns (total 6 columns):\n",
            " #   Column   Non-Null Count   Dtype  \n",
            "---  ------   --------------   -----  \n",
            " 0   id       300000 non-null  object \n",
            " 1   f0       300000 non-null  float64\n",
            " 2   f1       300000 non-null  float64\n",
            " 3   f2       300000 non-null  float64\n",
            " 4   product  300000 non-null  float64\n",
            " 5   region   300000 non-null  object \n",
            "dtypes: float64(4), object(2)\n",
            "memory usage: 13.7+ MB\n"
          ]
        }
      ],
      "source": [
        "df.info()"
      ]
    },
    {
      "cell_type": "code",
      "execution_count": null,
      "metadata": {
        "colab": {
          "base_uri": "https://localhost:8080/",
          "height": 300
        },
        "id": "ydoJrD_MJr11",
        "outputId": "8a12ceb7-87b9-435e-804a-36b9c7105a02"
      },
      "outputs": [
        {
          "data": {
            "text/html": [
              "\n",
              "  <div id=\"df-1408cef4-b23a-4042-9198-105d496caa31\">\n",
              "    <div class=\"colab-df-container\">\n",
              "      <div>\n",
              "<style scoped>\n",
              "    .dataframe tbody tr th:only-of-type {\n",
              "        vertical-align: middle;\n",
              "    }\n",
              "\n",
              "    .dataframe tbody tr th {\n",
              "        vertical-align: top;\n",
              "    }\n",
              "\n",
              "    .dataframe thead th {\n",
              "        text-align: right;\n",
              "    }\n",
              "</style>\n",
              "<table border=\"1\" class=\"dataframe\">\n",
              "  <thead>\n",
              "    <tr style=\"text-align: right;\">\n",
              "      <th></th>\n",
              "      <th>f0</th>\n",
              "      <th>f1</th>\n",
              "      <th>f2</th>\n",
              "      <th>product</th>\n",
              "    </tr>\n",
              "  </thead>\n",
              "  <tbody>\n",
              "    <tr>\n",
              "      <th>count</th>\n",
              "      <td>300000.000000</td>\n",
              "      <td>300000.000000</td>\n",
              "      <td>300000.000000</td>\n",
              "      <td>300000.000000</td>\n",
              "    </tr>\n",
              "    <tr>\n",
              "      <th>mean</th>\n",
              "      <td>0.547913</td>\n",
              "      <td>-1.516172</td>\n",
              "      <td>2.497439</td>\n",
              "      <td>85.441667</td>\n",
              "    </tr>\n",
              "    <tr>\n",
              "      <th>std</th>\n",
              "      <td>5.316634</td>\n",
              "      <td>3.900220</td>\n",
              "      <td>2.916502</td>\n",
              "      <td>46.519494</td>\n",
              "    </tr>\n",
              "    <tr>\n",
              "      <th>min</th>\n",
              "      <td>-31.609576</td>\n",
              "      <td>-26.358598</td>\n",
              "      <td>-12.088328</td>\n",
              "      <td>0.000000</td>\n",
              "    </tr>\n",
              "    <tr>\n",
              "      <th>25%</th>\n",
              "      <td>-1.003037</td>\n",
              "      <td>-2.478939</td>\n",
              "      <td>0.648213</td>\n",
              "      <td>52.666629</td>\n",
              "    </tr>\n",
              "    <tr>\n",
              "      <th>50%</th>\n",
              "      <td>0.347934</td>\n",
              "      <td>-0.229632</td>\n",
              "      <td>2.491215</td>\n",
              "      <td>84.038886</td>\n",
              "    </tr>\n",
              "    <tr>\n",
              "      <th>75%</th>\n",
              "      <td>1.755365</td>\n",
              "      <td>0.678562</td>\n",
              "      <td>4.344943</td>\n",
              "      <td>124.174086</td>\n",
              "    </tr>\n",
              "    <tr>\n",
              "      <th>max</th>\n",
              "      <td>29.421755</td>\n",
              "      <td>18.734063</td>\n",
              "      <td>16.739402</td>\n",
              "      <td>190.029838</td>\n",
              "    </tr>\n",
              "  </tbody>\n",
              "</table>\n",
              "</div>\n",
              "      <button class=\"colab-df-convert\" onclick=\"convertToInteractive('df-1408cef4-b23a-4042-9198-105d496caa31')\"\n",
              "              title=\"Convert this dataframe to an interactive table.\"\n",
              "              style=\"display:none;\">\n",
              "        \n",
              "  <svg xmlns=\"http://www.w3.org/2000/svg\" height=\"24px\"viewBox=\"0 0 24 24\"\n",
              "       width=\"24px\">\n",
              "    <path d=\"M0 0h24v24H0V0z\" fill=\"none\"/>\n",
              "    <path d=\"M18.56 5.44l.94 2.06.94-2.06 2.06-.94-2.06-.94-.94-2.06-.94 2.06-2.06.94zm-11 1L8.5 8.5l.94-2.06 2.06-.94-2.06-.94L8.5 2.5l-.94 2.06-2.06.94zm10 10l.94 2.06.94-2.06 2.06-.94-2.06-.94-.94-2.06-.94 2.06-2.06.94z\"/><path d=\"M17.41 7.96l-1.37-1.37c-.4-.4-.92-.59-1.43-.59-.52 0-1.04.2-1.43.59L10.3 9.45l-7.72 7.72c-.78.78-.78 2.05 0 2.83L4 21.41c.39.39.9.59 1.41.59.51 0 1.02-.2 1.41-.59l7.78-7.78 2.81-2.81c.8-.78.8-2.07 0-2.86zM5.41 20L4 18.59l7.72-7.72 1.47 1.35L5.41 20z\"/>\n",
              "  </svg>\n",
              "      </button>\n",
              "      \n",
              "  <style>\n",
              "    .colab-df-container {\n",
              "      display:flex;\n",
              "      flex-wrap:wrap;\n",
              "      gap: 12px;\n",
              "    }\n",
              "\n",
              "    .colab-df-convert {\n",
              "      background-color: #E8F0FE;\n",
              "      border: none;\n",
              "      border-radius: 50%;\n",
              "      cursor: pointer;\n",
              "      display: none;\n",
              "      fill: #1967D2;\n",
              "      height: 32px;\n",
              "      padding: 0 0 0 0;\n",
              "      width: 32px;\n",
              "    }\n",
              "\n",
              "    .colab-df-convert:hover {\n",
              "      background-color: #E2EBFA;\n",
              "      box-shadow: 0px 1px 2px rgba(60, 64, 67, 0.3), 0px 1px 3px 1px rgba(60, 64, 67, 0.15);\n",
              "      fill: #174EA6;\n",
              "    }\n",
              "\n",
              "    [theme=dark] .colab-df-convert {\n",
              "      background-color: #3B4455;\n",
              "      fill: #D2E3FC;\n",
              "    }\n",
              "\n",
              "    [theme=dark] .colab-df-convert:hover {\n",
              "      background-color: #434B5C;\n",
              "      box-shadow: 0px 1px 3px 1px rgba(0, 0, 0, 0.15);\n",
              "      filter: drop-shadow(0px 1px 2px rgba(0, 0, 0, 0.3));\n",
              "      fill: #FFFFFF;\n",
              "    }\n",
              "  </style>\n",
              "\n",
              "      <script>\n",
              "        const buttonEl =\n",
              "          document.querySelector('#df-1408cef4-b23a-4042-9198-105d496caa31 button.colab-df-convert');\n",
              "        buttonEl.style.display =\n",
              "          google.colab.kernel.accessAllowed ? 'block' : 'none';\n",
              "\n",
              "        async function convertToInteractive(key) {\n",
              "          const element = document.querySelector('#df-1408cef4-b23a-4042-9198-105d496caa31');\n",
              "          const dataTable =\n",
              "            await google.colab.kernel.invokeFunction('convertToInteractive',\n",
              "                                                     [key], {});\n",
              "          if (!dataTable) return;\n",
              "\n",
              "          const docLinkHtml = 'Like what you see? Visit the ' +\n",
              "            '<a target=\"_blank\" href=https://colab.research.google.com/notebooks/data_table.ipynb>data table notebook</a>'\n",
              "            + ' to learn more about interactive tables.';\n",
              "          element.innerHTML = '';\n",
              "          dataTable['output_type'] = 'display_data';\n",
              "          await google.colab.output.renderOutput(dataTable, element);\n",
              "          const docLink = document.createElement('div');\n",
              "          docLink.innerHTML = docLinkHtml;\n",
              "          element.appendChild(docLink);\n",
              "        }\n",
              "      </script>\n",
              "    </div>\n",
              "  </div>\n",
              "  "
            ],
            "text/plain": [
              "                  f0             f1             f2        product\n",
              "count  300000.000000  300000.000000  300000.000000  300000.000000\n",
              "mean        0.547913      -1.516172       2.497439      85.441667\n",
              "std         5.316634       3.900220       2.916502      46.519494\n",
              "min       -31.609576     -26.358598     -12.088328       0.000000\n",
              "25%        -1.003037      -2.478939       0.648213      52.666629\n",
              "50%         0.347934      -0.229632       2.491215      84.038886\n",
              "75%         1.755365       0.678562       4.344943     124.174086\n",
              "max        29.421755      18.734063      16.739402     190.029838"
            ]
          },
          "execution_count": 17,
          "metadata": {},
          "output_type": "execute_result"
        }
      ],
      "source": [
        "df.describe()"
      ]
    },
    {
      "cell_type": "code",
      "execution_count": null,
      "metadata": {
        "colab": {
          "background_save": true,
          "base_uri": "https://localhost:8080/"
        },
        "id": "iQvrNOEIJinF",
        "outputId": "cfeb9d78-f725-48b1-aeb2-b980945f6733"
      },
      "outputs": [
        {
          "data": {
            "text/plain": [
              "0"
            ]
          },
          "execution_count": null,
          "metadata": {},
          "output_type": "execute_result"
        }
      ],
      "source": [
        "df.duplicated().sum()"
      ]
    },
    {
      "cell_type": "code",
      "execution_count": null,
      "metadata": {
        "colab": {
          "background_save": true,
          "base_uri": "https://localhost:8080/"
        },
        "id": "b7gpp_IPa2rE",
        "outputId": "c4e3aaee-9a25-442b-e0e4-ac7c32905636"
      },
      "outputs": [
        {
          "data": {
            "text/plain": [
              "geo_1    8235\n",
              "geo_0       1\n",
              "geo_2       1\n",
              "Name: region, dtype: int64"
            ]
          },
          "execution_count": null,
          "metadata": {},
          "output_type": "execute_result"
        }
      ],
      "source": [
        "df[df['product'] == 0]['region'].value_counts()"
      ]
    },
    {
      "cell_type": "markdown",
      "metadata": {
        "id": "4Up2udwP9SuZ"
      },
      "source": [
        "## Вывод"
      ]
    },
    {
      "cell_type": "markdown",
      "metadata": {
        "id": "GL0exdvu9aGI"
      },
      "source": [
        "- Данные загружены, а также для удобства дальнейшего анализа объединены в один датафрейм.\n",
        "- В регионах geo_0 и geo_2 корреляция f2 к product имеет близкие значения, при этом у geo_1 корреляция 1, что вызывает как вопросы о том верные ли значения в f2 и верно ли моделью рассчитаны значения product. Возможности исправить значения f2 в geo_1 нет, соответственно этот регион не будет рассматриваться в дальнейшем анализе.\n",
        "- были удалены выбросы и проведен анализ коррелиции\n",
        "- дубликаты не найдень, были найдены нули в данных, так как корреляция признаков в каждом региона разная, то будут построены 2 модели для заполнения нулей"
      ]
    },
    {
      "cell_type": "markdown",
      "metadata": {
        "id": "XMCNMlmeSQSx"
      },
      "source": [
        "## Обучение и проверка модели"
      ]
    },
    {
      "cell_type": "markdown",
      "metadata": {
        "id": "6jjj5ot7_NYi"
      },
      "source": [
        "~Разделение данных на выборки и обучение моделей~"
      ]
    },
    {
      "cell_type": "code",
      "execution_count": null,
      "metadata": {
        "colab": {
          "background_save": true
        },
        "id": "ns4z6OIeCzoP"
      },
      "outputs": [],
      "source": [
        "def split_df(df, list_dpop_cols_names, target_col_name, cv=False):\n",
        "  '''Function receives DataFrame, split it to train (60%), valid (20%), test (20%) data,\n",
        "  also receives list of names columns to drop and target column name.\n",
        "  Returns data as dict,\n",
        "  Function also print the splitted data shape\n",
        "  If cv=True function returns dict with train 75% and test 25% data\n",
        "  - imports:\n",
        "  from sklearn.model_selection import train_test_split'''\n",
        "  list_dpop_cols_names.append(target_col_name)\n",
        "  X = df.drop(list_dpop_cols_names, axis=1)\n",
        "  y = df[target_col_name]\n",
        "  X_train, X_valid, y_train, y_valid = train_test_split(X, y, test_size=0.20, random_state=123456)\n",
        "  X_train, X_test, y_train, y_test = train_test_split(X_train, y_train, test_size=0.25, random_state=123456)\n",
        "  \n",
        "  if cv:\n",
        "    X_train, X_test, y_train, y_test = train_test_split(X, y, train_size=0.75, random_state=123456)\n",
        "    print('X_train:',X_train.shape,'X_test:', X_test.shape)\n",
        "    return {'X_train': X_train, 'y_train': y_train, 'X_test': X_test, 'y_test': y_test}\n",
        "  else:\n",
        "    print('X_train:',X_train.shape,'X_valid:',X_valid.shape,'X_test:', X_test.shape)\n",
        "    return {'X_train': X_train, 'y_train': y_train, 'X_valid': X_valid, 'y_valid': y_valid, 'X_test': X_test, 'y_test': y_test}\n",
        "\n",
        "myfunc.split_df = split_df"
      ]
    },
    {
      "cell_type": "markdown",
      "metadata": {
        "id": "grUqszN3SQSy"
      },
      "source": [
        "## Подготовка к расчёту прибыли"
      ]
    },
    {
      "cell_type": "markdown",
      "metadata": {
        "id": "EYqn1Kq7_6HY"
      },
      "source": [
        "Создание переменных и присвоение им значений соответствующих условию задачи"
      ]
    },
    {
      "cell_type": "code",
      "execution_count": null,
      "metadata": {
        "colab": {
          "background_save": true
        },
        "id": "lN_g_9Lq8hoY"
      },
      "outputs": [],
      "source": [
        "TOTAL_DOTS = 500\n",
        "TOTAL_BEST_DOTS = 200\n",
        "BUDJET_MRD_RUB = 10\n",
        "PROFIT_FROM_1_PRODUCT_MRD = 0.00045\n",
        "PROBABILITY_LOSS_PERCENT = 2.5"
      ]
    },
    {
      "cell_type": "markdown",
      "metadata": {
        "id": "anEnU3JrCd2c"
      },
      "source": [
        "Функция для расчета прибыли"
      ]
    },
    {
      "cell_type": "code",
      "execution_count": null,
      "metadata": {
        "colab": {
          "background_save": true
        },
        "id": "M_uSHv24Cd2c"
      },
      "outputs": [],
      "source": [
        "def profit_count (df, head_count, profit_from_1_product_mrd, budjet_mrd_rub):\n",
        "    df = df.sort_values(by='product', ascending=False).reset_index(drop=True)\n",
        "    df_head = df.head(head_count)\n",
        "    total_product = df_head['product'].sum()\n",
        "    profit = total_product * profit_from_1_product_mrd - budjet_mrd_rub\n",
        "    return profit"
      ]
    },
    {
      "cell_type": "markdown",
      "metadata": {
        "id": "ZlLGPzr7ATQg"
      },
      "source": [
        "Функция для бутстреп"
      ]
    },
    {
      "cell_type": "code",
      "execution_count": null,
      "metadata": {
        "colab": {
          "background_save": true
        },
        "id": "oGezn4b419Yp"
      },
      "outputs": [],
      "source": [
        "def bootstrap_count(df, sample_count, head_count, profit_from_1_product_mrd, budjet_mrd_rub, bootstrap_size):\n",
        "  '''Function receives DataFrame, value to select sample, value select head rows\n",
        "  and commercial data. \n",
        "  Function \"bootstrap_size\" times takes sample, sort, take head and\n",
        "  counts the sum (it uses another function profit_count()).\n",
        "  Returns list of sums. And also prints mean sum, persent negative amount and\n",
        "  95% confidence interval.\n",
        "  - imports:\n",
        "  from scipy import stats as st'''\n",
        "  state = np.random.RandomState(12345)\n",
        "  values = []\n",
        "  for i in range(bootstrap_size):\n",
        "    df_subsample_500 = df.sample(n=sample_count, replace=True, random_state=state)\n",
        "    profit = profit_count(df_subsample_500, head_count, profit_from_1_product_mrd, budjet_mrd_rub)\n",
        "    values.append(profit)\n",
        "\n",
        "  values = pd.Series(values)\n",
        "  values_below_zero = len([i for i in values if i < 0]) / values.count()\n",
        "  #values_below_zero = values[values < 0].count() / values.count()\n",
        "  print(\"Средняя выручка млрд: {:.3}\".format(values.mean()))\n",
        "  print(\"Риск убытков: {:.1%}\".format(values_below_zero))\n",
        "\n",
        "  confidence_interval = st.t.interval(alpha=0.95,\n",
        "                                      df=(len(values) - 1),\n",
        "                                      loc=values.mean(),\n",
        "                                      scale=values.sem()\n",
        "                                      )\n",
        "  confidence_interval = tuple(map(lambda x: isinstance(x, float) and round(x, 2) or x, confidence_interval)) # rounding\n",
        "  print(\"95% доверительный интервал истинного среднего:\", confidence_interval)\n",
        "    \n",
        "  confidence_interval_predict = (values.quantile(0.025), values.quantile(0.975))\n",
        "  confidence_interval_predict = tuple(map(lambda x: isinstance(x, float) and round(x, 2) or x, confidence_interval_predict)) # rounding\n",
        "  print(\"95% доверительный интервал прогноза:\", confidence_interval_predict)\n",
        "  return values\n",
        "\n",
        "myfunc.bootstrap_count = bootstrap_count"
      ]
    },
    {
      "cell_type": "markdown",
      "metadata": {
        "id": "6fNT4bvdAa4g"
      },
      "source": [
        "## Вывод"
      ]
    },
    {
      "cell_type": "markdown",
      "metadata": {
        "id": "Zb0ADIzFAcvJ"
      },
      "source": [
        "Созданы функция и переменные для расчета прибыли"
      ]
    },
    {
      "cell_type": "markdown",
      "metadata": {
        "id": "r_KKqMskSQSz"
      },
      "source": [
        "## Расчёт прибыли и рисков "
      ]
    },
    {
      "cell_type": "markdown",
      "metadata": {
        "id": "ckRodFSMCd2f"
      },
      "source": [
        "Рассчет достаточный объём сырья для безубыточной разработки новой скважины.\n"
      ]
    },
    {
      "cell_type": "code",
      "execution_count": null,
      "metadata": {
        "colab": {
          "background_save": true,
          "base_uri": "https://localhost:8080/"
        },
        "id": "r0uOd-3GCd2f",
        "outputId": "3480b29c-d637-4f20-daf2-b5fa729c757d"
      },
      "outputs": [
        {
          "name": "stdout",
          "output_type": "stream",
          "text": [
            "Для безубыточной разработки скважины, средний запас в ней должен быть: 111.11\n"
          ]
        }
      ],
      "source": [
        "mean_stock = round(BUDJET_MRD_RUB / (TOTAL_BEST_DOTS * PROFIT_FROM_1_PRODUCT_MRD), 2)\n",
        "print('Для безубыточной разработки скважины, средний запас в ней должен быть:', mean_stock)"
      ]
    },
    {
      "cell_type": "markdown",
      "metadata": {
        "id": "Amn3U4_vCd2f"
      },
      "source": [
        "Средний запас в скважине по регионам:"
      ]
    },
    {
      "cell_type": "code",
      "execution_count": null,
      "metadata": {
        "colab": {
          "background_save": true,
          "base_uri": "https://localhost:8080/",
          "height": 175
        },
        "id": "SLgkDGsQCd2f",
        "outputId": "18191f63-b630-44fa-af83-5b3f280ac09c"
      },
      "outputs": [
        {
          "data": {
            "text/html": [
              "\n",
              "  <div id=\"df-dc53321c-7a60-4b1d-af7a-f5d216498ff6\">\n",
              "    <div class=\"colab-df-container\">\n",
              "      <div>\n",
              "<style scoped>\n",
              "    .dataframe tbody tr th:only-of-type {\n",
              "        vertical-align: middle;\n",
              "    }\n",
              "\n",
              "    .dataframe tbody tr th {\n",
              "        vertical-align: top;\n",
              "    }\n",
              "\n",
              "    .dataframe thead th {\n",
              "        text-align: right;\n",
              "    }\n",
              "</style>\n",
              "<table border=\"1\" class=\"dataframe\">\n",
              "  <thead>\n",
              "    <tr style=\"text-align: right;\">\n",
              "      <th></th>\n",
              "      <th>product</th>\n",
              "      <th>mean_stock</th>\n",
              "      <th>proportion</th>\n",
              "    </tr>\n",
              "    <tr>\n",
              "      <th>region</th>\n",
              "      <th></th>\n",
              "      <th></th>\n",
              "      <th></th>\n",
              "    </tr>\n",
              "  </thead>\n",
              "  <tbody>\n",
              "    <tr>\n",
              "      <th>geo_0</th>\n",
              "      <td>92.500</td>\n",
              "      <td>111.11</td>\n",
              "      <td>0.83</td>\n",
              "    </tr>\n",
              "    <tr>\n",
              "      <th>geo_1</th>\n",
              "      <td>68.825</td>\n",
              "      <td>111.11</td>\n",
              "      <td>0.62</td>\n",
              "    </tr>\n",
              "    <tr>\n",
              "      <th>geo_2</th>\n",
              "      <td>95.000</td>\n",
              "      <td>111.11</td>\n",
              "      <td>0.86</td>\n",
              "    </tr>\n",
              "  </tbody>\n",
              "</table>\n",
              "</div>\n",
              "      <button class=\"colab-df-convert\" onclick=\"convertToInteractive('df-dc53321c-7a60-4b1d-af7a-f5d216498ff6')\"\n",
              "              title=\"Convert this dataframe to an interactive table.\"\n",
              "              style=\"display:none;\">\n",
              "        \n",
              "  <svg xmlns=\"http://www.w3.org/2000/svg\" height=\"24px\"viewBox=\"0 0 24 24\"\n",
              "       width=\"24px\">\n",
              "    <path d=\"M0 0h24v24H0V0z\" fill=\"none\"/>\n",
              "    <path d=\"M18.56 5.44l.94 2.06.94-2.06 2.06-.94-2.06-.94-.94-2.06-.94 2.06-2.06.94zm-11 1L8.5 8.5l.94-2.06 2.06-.94-2.06-.94L8.5 2.5l-.94 2.06-2.06.94zm10 10l.94 2.06.94-2.06 2.06-.94-2.06-.94-.94-2.06-.94 2.06-2.06.94z\"/><path d=\"M17.41 7.96l-1.37-1.37c-.4-.4-.92-.59-1.43-.59-.52 0-1.04.2-1.43.59L10.3 9.45l-7.72 7.72c-.78.78-.78 2.05 0 2.83L4 21.41c.39.39.9.59 1.41.59.51 0 1.02-.2 1.41-.59l7.78-7.78 2.81-2.81c.8-.78.8-2.07 0-2.86zM5.41 20L4 18.59l7.72-7.72 1.47 1.35L5.41 20z\"/>\n",
              "  </svg>\n",
              "      </button>\n",
              "      \n",
              "  <style>\n",
              "    .colab-df-container {\n",
              "      display:flex;\n",
              "      flex-wrap:wrap;\n",
              "      gap: 12px;\n",
              "    }\n",
              "\n",
              "    .colab-df-convert {\n",
              "      background-color: #E8F0FE;\n",
              "      border: none;\n",
              "      border-radius: 50%;\n",
              "      cursor: pointer;\n",
              "      display: none;\n",
              "      fill: #1967D2;\n",
              "      height: 32px;\n",
              "      padding: 0 0 0 0;\n",
              "      width: 32px;\n",
              "    }\n",
              "\n",
              "    .colab-df-convert:hover {\n",
              "      background-color: #E2EBFA;\n",
              "      box-shadow: 0px 1px 2px rgba(60, 64, 67, 0.3), 0px 1px 3px 1px rgba(60, 64, 67, 0.15);\n",
              "      fill: #174EA6;\n",
              "    }\n",
              "\n",
              "    [theme=dark] .colab-df-convert {\n",
              "      background-color: #3B4455;\n",
              "      fill: #D2E3FC;\n",
              "    }\n",
              "\n",
              "    [theme=dark] .colab-df-convert:hover {\n",
              "      background-color: #434B5C;\n",
              "      box-shadow: 0px 1px 3px 1px rgba(0, 0, 0, 0.15);\n",
              "      filter: drop-shadow(0px 1px 2px rgba(0, 0, 0, 0.3));\n",
              "      fill: #FFFFFF;\n",
              "    }\n",
              "  </style>\n",
              "\n",
              "      <script>\n",
              "        const buttonEl =\n",
              "          document.querySelector('#df-dc53321c-7a60-4b1d-af7a-f5d216498ff6 button.colab-df-convert');\n",
              "        buttonEl.style.display =\n",
              "          google.colab.kernel.accessAllowed ? 'block' : 'none';\n",
              "\n",
              "        async function convertToInteractive(key) {\n",
              "          const element = document.querySelector('#df-dc53321c-7a60-4b1d-af7a-f5d216498ff6');\n",
              "          const dataTable =\n",
              "            await google.colab.kernel.invokeFunction('convertToInteractive',\n",
              "                                                     [key], {});\n",
              "          if (!dataTable) return;\n",
              "\n",
              "          const docLinkHtml = 'Like what you see? Visit the ' +\n",
              "            '<a target=\"_blank\" href=https://colab.research.google.com/notebooks/data_table.ipynb>data table notebook</a>'\n",
              "            + ' to learn more about interactive tables.';\n",
              "          element.innerHTML = '';\n",
              "          dataTable['output_type'] = 'display_data';\n",
              "          await google.colab.output.renderOutput(dataTable, element);\n",
              "          const docLink = document.createElement('div');\n",
              "          docLink.innerHTML = docLinkHtml;\n",
              "          element.appendChild(docLink);\n",
              "        }\n",
              "      </script>\n",
              "    </div>\n",
              "  </div>\n",
              "  "
            ],
            "text/plain": [
              "        product  mean_stock  proportion\n",
              "region                                 \n",
              "geo_0    92.500      111.11        0.83\n",
              "geo_1    68.825      111.11        0.62\n",
              "geo_2    95.000      111.11        0.86"
            ]
          },
          "execution_count": null,
          "metadata": {},
          "output_type": "execute_result"
        }
      ],
      "source": [
        "df_mean_stock = pd.pivot_table(df,\n",
        "                               values='product',\n",
        "                               index='region',\n",
        "                               aggfunc='mean')\n",
        "df_mean_stock['mean_stock'] = mean_stock\n",
        "df_mean_stock['proportion'] = round(df_mean_stock['product'] / mean_stock, 2)\n",
        "df_mean_stock"
      ]
    },
    {
      "cell_type": "markdown",
      "metadata": {
        "id": "x83C3xidCd2g"
      },
      "source": [
        "Вывод: средние запасы скважин ниже безубыточного уровня"
      ]
    },
    {
      "cell_type": "markdown",
      "metadata": {
        "id": "RIEJHnHhAh4A"
      },
      "source": [
        "Расчет прибыли по региону geo_0"
      ]
    },
    {
      "cell_type": "code",
      "execution_count": null,
      "metadata": {
        "colab": {
          "background_save": true,
          "base_uri": "https://localhost:8080/",
          "height": 352
        },
        "id": "YMNeX47ZDXME",
        "outputId": "25f595db-868d-4b3b-f616-21801d979b56"
      },
      "outputs": [
        {
          "name": "stdout",
          "output_type": "stream",
          "text": [
            "Средняя выручка млрд: 2.39\n",
            "Риск убытков: 0.0%\n",
            "95% доверительный интервал истинного среднего: (2.38, 2.41)\n",
            "95% доверительный интервал прогноза: (2.02, 2.79)\n"
          ]
        },
        {
          "data": {
            "text/plain": [
              "<matplotlib.axes._subplots.AxesSubplot at 0x7fdece7cdf90>"
            ]
          },
          "execution_count": null,
          "metadata": {},
          "output_type": "execute_result"
        },
        {
          "data": {
            "image/png": "[encoded data removed]",
            "text/plain": [
              "<Figure size 432x288 with 1 Axes>"
            ]
          },
          "metadata": {},
          "output_type": "display_data"
        }
      ],
      "source": [
        "values = myfunc.bootstrap_count(df_0_copy, TOTAL_DOTS, TOTAL_BEST_DOTS, PROFIT_FROM_1_PRODUCT_MRD, BUDJET_MRD_RUB, 1000)\n",
        "values.hist()"
      ]
    },
    {
      "cell_type": "markdown",
      "metadata": {
        "id": "4Xx8fMVhCd2g"
      },
      "source": [
        "Расчет прибыли по региону geo_1"
      ]
    },
    {
      "cell_type": "code",
      "execution_count": null,
      "metadata": {
        "colab": {
          "background_save": true,
          "base_uri": "https://localhost:8080/",
          "height": 352
        },
        "id": "ps2bwadtCd2g",
        "outputId": "c3b06b4d-a10c-4aaf-ada2-936ee12958b3"
      },
      "outputs": [
        {
          "name": "stdout",
          "output_type": "stream",
          "text": [
            "Средняя выручка млрд: 0.45\n",
            "Риск убытков: 1.4%\n",
            "95% доверительный интервал истинного среднего: (0.44, 0.46)\n",
            "95% доверительный интервал прогноза: (0.04, 0.83)\n"
          ]
        },
        {
          "data": {
            "text/plain": [
              "<matplotlib.axes._subplots.AxesSubplot at 0x7fded0771dd0>"
            ]
          },
          "execution_count": null,
          "metadata": {},
          "output_type": "execute_result"
        },
        {
          "data": {
            "image/png": "[encoded data removed]",
            "text/plain": [
              "<Figure size 432x288 with 1 Axes>"
            ]
          },
          "metadata": {},
          "output_type": "display_data"
        }
      ],
      "source": [
        "values = myfunc.bootstrap_count(df_1_copy, TOTAL_DOTS, TOTAL_BEST_DOTS, PROFIT_FROM_1_PRODUCT_MRD, BUDJET_MRD_RUB, 1000)\n",
        "values.hist()"
      ]
    },
    {
      "cell_type": "markdown",
      "metadata": {
        "id": "jHwPtBZYAoNX"
      },
      "source": [
        "Расчет прибыли по региону geo_2"
      ]
    },
    {
      "cell_type": "code",
      "execution_count": null,
      "metadata": {
        "colab": {
          "background_save": true,
          "base_uri": "https://localhost:8080/",
          "height": 352
        },
        "id": "AVZo15qrvLnc",
        "outputId": "b0b749d8-d67d-4e93-a831-27b8ff823ce0"
      },
      "outputs": [
        {
          "name": "stdout",
          "output_type": "stream",
          "text": [
            "Средняя выручка млрд: 2.63\n",
            "Риск убытков: 0.0%\n",
            "95% доверительный интервал истинного среднего: (2.62, 2.65)\n",
            "95% доверительный интервал прогноза: (2.23, 3.06)\n"
          ]
        },
        {
          "data": {
            "text/plain": [
              "<matplotlib.axes._subplots.AxesSubplot at 0x7fded06e7d90>"
            ]
          },
          "execution_count": null,
          "metadata": {},
          "output_type": "execute_result"
        },
        {
          "data": {
            "image/png": "[encoded data removed]",
            "text/plain": [
              "<Figure size 432x288 with 1 Axes>"
            ]
          },
          "metadata": {},
          "output_type": "display_data"
        }
      ],
      "source": [
        "values = myfunc.bootstrap_count(df_2_copy, TOTAL_DOTS, TOTAL_BEST_DOTS, PROFIT_FROM_1_PRODUCT_MRD, BUDJET_MRD_RUB, 1000)\n",
        "values.hist()"
      ]
    },
    {
      "cell_type": "markdown",
      "metadata": {
        "id": "E7_F6q7MAqf4"
      },
      "source": [
        "## Вывод"
      ]
    },
    {
      "cell_type": "markdown",
      "metadata": {
        "id": "xTN0ime5AsFI"
      },
      "source": [
        "Средняя выручка в регионе geo_2 выше, чем в geo_1, доверительный интервал также выше в geo_2. Процент отрицательной выручки в обоих регионах отсутствует."
      ]
    },
    {
      "cell_type": "markdown",
      "metadata": {
        "id": "maATTMi_BNnn"
      },
      "source": [
        "# Общий вывод"
      ]
    },
    {
      "cell_type": "markdown",
      "metadata": {
        "id": "y4DHkKGKBf13"
      },
      "source": [
        "- В регионах geo_0 и geo_2 корреляция f2 к `product` имеет близкие значения, при этом у geo_1 корреляция 1, что вызывает как вопросы о том верные ли значения в f2 и верно ли моделью рассчитаны значения product. Возможности исправить значения f2 в geo_1 нет, соответственно этот регион не рассматривался в анализе.\n",
        "- дубликаты не найдень, были найдены нули в данных, так как корреляция признаков в каждом региона разная, то были построены 2 модели и нулевые значения в столбце `product` заполнены предсказанными значениями\n",
        "- Средняя выручка в регионе geo_2 выше, чем в geo_1, доверительный интервал также выше в geo_2. Процент отрицательной выручки в обоих регионах отсутствует."
      ]
    },
    {
      "cell_type": "markdown",
      "metadata": {
        "id": "BWlbTiZ2Cd2m"
      },
      "source": [
        "Разделение выборок на обучающую и тестовую"
      ]
    },
    {
      "cell_type": "code",
      "execution_count": null,
      "metadata": {
        "colab": {
          "background_save": true,
          "base_uri": "https://localhost:8080/"
        },
        "id": "r9B5fY2qCd2m",
        "outputId": "42b08588-33aa-4c09-ae33-19a93d0a2ad8"
      },
      "outputs": [
        {
          "name": "stdout",
          "output_type": "stream",
          "text": [
            "X_train: (75000, 3) X_test: (25000, 3)\n",
            "X_train: (75000, 3) X_test: (25000, 3)\n",
            "X_train: (75000, 3) X_test: (25000, 3)\n"
          ]
        }
      ],
      "source": [
        "df_0_splitted = myfunc.split_df(df_0_copy, ['id', 'region'],'product' , True)\n",
        "df_1_splitted = myfunc.split_df(df_1_copy, ['id', 'region'],'product' , True)\n",
        "df_2_splitted = myfunc.split_df(df_2_copy, ['id', 'region'],'product' , True)"
      ]
    },
    {
      "cell_type": "markdown",
      "metadata": {
        "id": "_wqEsnjyCd2m"
      },
      "source": [
        "Создание и обучение моделей"
      ]
    },
    {
      "cell_type": "code",
      "execution_count": null,
      "metadata": {
        "colab": {
          "background_save": true
        },
        "id": "75LHwDC-Cd2n"
      },
      "outputs": [],
      "source": [
        "model_df_0 = LinearRegression().fit(df_0_splitted['X_train'], df_0_splitted['y_train'])\n",
        "model_df_1 = LinearRegression().fit(df_1_splitted['X_train'], df_1_splitted['y_train'])\n",
        "model_df_2 = LinearRegression().fit(df_2_splitted['X_train'], df_2_splitted['y_train'])"
      ]
    },
    {
      "cell_type": "markdown",
      "metadata": {
        "id": "zlwNjgMJCd2n"
      },
      "source": [
        "Присвоение переменным результатов предсказаний модели"
      ]
    },
    {
      "cell_type": "code",
      "execution_count": null,
      "metadata": {
        "colab": {
          "background_save": true,
          "base_uri": "https://localhost:8080/"
        },
        "id": "3emLv6E2Cd2n",
        "outputId": "55e013f1-fed6-4f77-b349-a257d16ce118"
      },
      "outputs": [
        {
          "name": "stdout",
          "output_type": "stream",
          "text": [
            "R2 df_0 = 0.2762145023595348\n",
            "R2 df_1 = -6.694082162576396\n",
            "R2 df_2 = 0.1964535016292327\n"
          ]
        }
      ],
      "source": [
        "predictions_0 = model_df_0.predict(df_0_splitted['X_test'])\n",
        "prediction_df_0 = pd.DataFrame(predictions_0, columns =['product'])\n",
        "print(\"R2 df_0 =\", r2_score(df_0_splitted['y_test'], predictions_0))\n",
        "predictions_1 = model_df_0.predict(df_1_splitted['X_test'])\n",
        "prediction_df_1 = pd.DataFrame(predictions_1, columns =['product'])\n",
        "print(\"R2 df_1 =\", r2_score(df_1_splitted['y_test'], predictions_1))\n",
        "predictions_2 = model_df_2.predict(df_2_splitted['X_test'])\n",
        "prediction_df_2 = pd.DataFrame(predictions_2, columns =['product'])\n",
        "print(\"R2 df_2 =\", r2_score(df_2_splitted['y_test'], predictions_2))"
      ]
    },
    {
      "cell_type": "markdown",
      "metadata": {
        "id": "jKJeAmWECd2n"
      },
      "source": [
        "Показатель R2  у модели df_1 очень низкий, попробую обучить модель убрав нулевые строки"
      ]
    },
    {
      "cell_type": "code",
      "execution_count": null,
      "metadata": {
        "colab": {
          "background_save": true,
          "base_uri": "https://localhost:8080/"
        },
        "id": "RPOWmEJpCd2n",
        "outputId": "2d45c43b-0710-4b3c-c4b7-67e0ccd354ef"
      },
      "outputs": [
        {
          "name": "stdout",
          "output_type": "stream",
          "text": [
            "X_train: (68823, 3) X_test: (22942, 3)\n",
            "R2 df_1 = 0.9996240224383129\n"
          ]
        }
      ],
      "source": [
        "df_1_no_zeros = df_1_copy[df_1_copy['product'] != 0]\n",
        "df_1_splitted_no_zeros = myfunc.split_df(df_1_no_zeros, ['id', 'region'],'product' , True)\n",
        "\n",
        "model_df_1_no_zeros = LinearRegression().fit(df_1_splitted_no_zeros['X_train'], df_1_splitted_no_zeros['y_train'])\n",
        "\n",
        "prediction_1_no_zeros = model_df_1.predict(df_1_splitted['X_test'])\n",
        "prediction_df_1_no_zeros = pd.DataFrame(prediction_1_no_zeros, columns =['product'])\n",
        "print(\"R2 df_1 =\", r2_score(df_1_splitted['y_test'], prediction_1_no_zeros))"
      ]
    },
    {
      "cell_type": "markdown",
      "metadata": {
        "id": "GFdUiNYYCd2n"
      },
      "source": [
        "Без нулевых строк показатель почти идеальный, оно и понятно - корреляция f2 и product равна 1"
      ]
    },
    {
      "cell_type": "markdown",
      "metadata": {
        "id": "FHaibZlRCd2o"
      },
      "source": [
        "<div class=\"alert alert-block alert-info\">\n",
        "<b>Комментарий студента V3:</b><br>\n",
        "Далее, как я и говорил, регион geo_2  я бы вообще не рассматривал из-за явно ошибочных данных в f2. Но раз надо рассмотреть, то рассмотрю 2 модели, которые созданы чуть вышел\n",
        "</div>"
      ]
    },
    {
      "cell_type": "markdown",
      "metadata": {
        "id": "8jb0KzS-Cd2o"
      },
      "source": [
        "Расчет прибыли по региону geo_0"
      ]
    },
    {
      "cell_type": "code",
      "execution_count": null,
      "metadata": {
        "colab": {
          "background_save": true,
          "base_uri": "https://localhost:8080/",
          "height": 352
        },
        "id": "DRuA7KDLCd2o",
        "outputId": "3bcb7953-2e83-45c3-f7c4-6d8feab4408e"
      },
      "outputs": [
        {
          "name": "stdout",
          "output_type": "stream",
          "text": [
            "Средняя выручка млрд: 0.353\n",
            "Риск убытков: 0.1%\n",
            "95% доверительный интервал истинного среднего: (0.35, 0.36)\n",
            "95% доверительный интервал прогноза: (0.14, 0.59)\n"
          ]
        },
        {
          "data": {
            "text/plain": [
              "<matplotlib.axes._subplots.AxesSubplot at 0x7fded05ede90>"
            ]
          },
          "execution_count": null,
          "metadata": {},
          "output_type": "execute_result"
        },
        {
          "data": {
            "image/png": "[encoded data removed]",
            "text/plain": [
              "<Figure size 432x288 with 1 Axes>"
            ]
          },
          "metadata": {},
          "output_type": "display_data"
        }
      ],
      "source": [
        "values = myfunc.bootstrap_count(prediction_df_0, TOTAL_DOTS, TOTAL_BEST_DOTS, PROFIT_FROM_1_PRODUCT_MRD, BUDJET_MRD_RUB, 1000)\n",
        "values.hist()"
      ]
    },
    {
      "cell_type": "markdown",
      "metadata": {
        "id": "4DjKPSufCd2o"
      },
      "source": [
        "Расчет прибыли по региону geo_0"
      ]
    },
    {
      "cell_type": "code",
      "execution_count": null,
      "metadata": {
        "colab": {
          "background_save": true,
          "base_uri": "https://localhost:8080/",
          "height": 352
        },
        "id": "yoRloSsjCd2o",
        "outputId": "efca6b53-d51c-4130-a654-82b2ec8f20ed"
      },
      "outputs": [
        {
          "name": "stdout",
          "output_type": "stream",
          "text": [
            "Средняя выручка млрд: 11.5\n",
            "Риск убытков: 0.0%\n",
            "95% доверительный интервал истинного среднего: (11.5, 11.54)\n",
            "95% доверительный интервал прогноза: (10.8, 12.25)\n"
          ]
        },
        {
          "data": {
            "text/plain": [
              "<matplotlib.axes._subplots.AxesSubplot at 0x7fdece94c190>"
            ]
          },
          "execution_count": null,
          "metadata": {},
          "output_type": "execute_result"
        },
        {
          "data": {
            "image/png": "[encoded data removed]",
            "text/plain": [
              "<Figure size 432x288 with 1 Axes>"
            ]
          },
          "metadata": {},
          "output_type": "display_data"
        }
      ],
      "source": [
        "values = myfunc.bootstrap_count(prediction_df_1, TOTAL_DOTS, TOTAL_BEST_DOTS, PROFIT_FROM_1_PRODUCT_MRD, BUDJET_MRD_RUB, 1000)\n",
        "values.hist()"
      ]
    },
    {
      "cell_type": "markdown",
      "metadata": {
        "id": "L4EyE7LYCd2o"
      },
      "source": [
        "Расчет прибыли по региону geo_0 на предсказаниях модели, обученной по выборке без нулей"
      ]
    },
    {
      "cell_type": "code",
      "execution_count": null,
      "metadata": {
        "colab": {
          "background_save": true,
          "base_uri": "https://localhost:8080/",
          "height": 352
        },
        "id": "2NYkuQC2Cd2p",
        "outputId": "502bd00b-c515-4487-cb68-011aa64fffaf"
      },
      "outputs": [
        {
          "name": "stdout",
          "output_type": "stream",
          "text": [
            "Средняя выручка млрд: 0.461\n",
            "Риск убытков: 0.8%\n",
            "95% доверительный интервал истинного среднего: (0.45, 0.47)\n",
            "95% доверительный интервал прогноза: (0.09, 0.88)\n"
          ]
        },
        {
          "data": {
            "text/plain": [
              "<matplotlib.axes._subplots.AxesSubplot at 0x7fded070a610>"
            ]
          },
          "execution_count": null,
          "metadata": {},
          "output_type": "execute_result"
        },
        {
          "data": {
            "image/png": "[encoded data removed]",
            "text/plain": [
              "<Figure size 432x288 with 1 Axes>"
            ]
          },
          "metadata": {},
          "output_type": "display_data"
        }
      ],
      "source": [
        "values = myfunc.bootstrap_count(prediction_df_1_no_zeros, TOTAL_DOTS, TOTAL_BEST_DOTS, PROFIT_FROM_1_PRODUCT_MRD, BUDJET_MRD_RUB, 1000)\n",
        "values.hist()"
      ]
    },
    {
      "cell_type": "code",
      "execution_count": null,
      "metadata": {
        "colab": {
          "background_save": true,
          "base_uri": "https://localhost:8080/",
          "height": 352
        },
        "id": "HFVxnMA8Cd2p",
        "outputId": "431f75ee-bb62-4103-a7b0-7603b50f0b47"
      },
      "outputs": [
        {
          "name": "stdout",
          "output_type": "stream",
          "text": [
            "Средняя выручка млрд: 0.268\n",
            "Риск убытков: 0.5%\n",
            "95% доверительный интервал истинного среднего: (0.26, 0.27)\n",
            "95% доверительный интервал прогноза: (0.07, 0.46)\n"
          ]
        },
        {
          "data": {
            "text/plain": [
              "<matplotlib.axes._subplots.AxesSubplot at 0x7fdec3ac3d50>"
            ]
          },
          "execution_count": null,
          "metadata": {},
          "output_type": "execute_result"
        },
        {
          "data": {
            "image/png": "[encoded data removed]",
            "text/plain": [
              "<Figure size 432x288 with 1 Axes>"
            ]
          },
          "metadata": {},
          "output_type": "display_data"
        }
      ],
      "source": [
        "values = myfunc.bootstrap_count(prediction_df_2, TOTAL_DOTS, TOTAL_BEST_DOTS, PROFIT_FROM_1_PRODUCT_MRD, BUDJET_MRD_RUB, 1000)\n",
        "values.hist()"
      ]
    },
    {
      "cell_type": "markdown",
      "metadata": {
        "id": "U03YcFysCd2p"
      },
      "source": [
        "# Итоговый вывод"
      ]
    },
    {
      "cell_type": "markdown",
      "metadata": {
        "id": "E19SpisQCd2p"
      },
      "source": [
        "Средняя выручка в регионе geo_1 выше, чем в остальных, как на модели которая была обучена на данных без нулевых строк, так и на модели обученной на всех данных. Но так как модель обученная на всех строках показывает низкое значение метрики R2, то использовать эти данные не рекомендуется."
      ]
    }
  ],
  "metadata": {
    "ExecuteTimeLog": [
      {
        "duration": 5,
        "start_time": "2022-01-30T22:55:08.225Z"
      },
      {
        "duration": 447,
        "start_time": "2022-01-30T22:55:09.163Z"
      },
      {
        "duration": 19,
        "start_time": "2022-01-30T22:55:11.508Z"
      },
      {
        "duration": 16,
        "start_time": "2022-01-30T22:55:12.125Z"
      },
      {
        "duration": 15,
        "start_time": "2022-01-30T22:55:12.728Z"
      },
      {
        "duration": 82,
        "start_time": "2022-01-30T22:55:13.426Z"
      },
      {
        "duration": 8,
        "start_time": "2022-01-30T22:55:15.734Z"
      },
      {
        "duration": 5073,
        "start_time": "2022-01-30T22:55:18.647Z"
      },
      {
        "duration": 25,
        "start_time": "2022-01-30T22:55:34.624Z"
      },
      {
        "duration": 58,
        "start_time": "2022-01-30T22:55:39.205Z"
      },
      {
        "duration": 39,
        "start_time": "2022-01-30T22:56:14.195Z"
      },
      {
        "duration": 89,
        "start_time": "2022-01-30T22:56:15.013Z"
      },
      {
        "duration": 268,
        "start_time": "2022-01-30T22:56:15.568Z"
      },
      {
        "duration": 13,
        "start_time": "2022-01-30T22:56:16.528Z"
      },
      {
        "duration": 8,
        "start_time": "2022-01-30T22:56:22.762Z"
      },
      {
        "duration": 19,
        "start_time": "2022-01-30T22:56:24.959Z"
      },
      {
        "duration": 75,
        "start_time": "2022-01-30T22:56:26.018Z"
      },
      {
        "duration": 23,
        "start_time": "2022-01-30T22:56:27.244Z"
      },
      {
        "duration": 110,
        "start_time": "2022-01-30T22:56:28.651Z"
      },
      {
        "duration": 7,
        "start_time": "2022-01-30T22:56:29.359Z"
      },
      {
        "duration": 17,
        "start_time": "2022-01-30T22:56:30.151Z"
      },
      {
        "duration": 21,
        "start_time": "2022-01-30T22:56:31.053Z"
      },
      {
        "duration": 4,
        "start_time": "2022-01-30T22:57:01.841Z"
      },
      {
        "duration": 9,
        "start_time": "2022-01-30T22:57:03.543Z"
      },
      {
        "duration": 2581,
        "start_time": "2022-01-30T22:57:09.383Z"
      },
      {
        "duration": 2486,
        "start_time": "2022-01-30T22:57:12.035Z"
      },
      {
        "duration": 8,
        "start_time": "2022-01-31T14:01:48.989Z"
      },
      {
        "duration": 667,
        "start_time": "2022-01-31T14:01:49.000Z"
      },
      {
        "duration": 19,
        "start_time": "2022-01-31T14:01:49.671Z"
      },
      {
        "duration": 53,
        "start_time": "2022-01-31T14:01:49.694Z"
      },
      {
        "duration": 21,
        "start_time": "2022-01-31T14:01:49.750Z"
      },
      {
        "duration": 111,
        "start_time": "2022-01-31T14:01:49.774Z"
      },
      {
        "duration": 9,
        "start_time": "2022-01-31T14:01:49.888Z"
      },
      {
        "duration": 41,
        "start_time": "2022-01-31T14:01:49.901Z"
      },
      {
        "duration": 10647,
        "start_time": "2022-01-31T14:01:49.945Z"
      },
      {
        "duration": 12131,
        "start_time": "2022-01-31T14:02:00.596Z"
      },
      {
        "duration": 118,
        "start_time": "2022-01-31T14:02:12.733Z"
      },
      {
        "duration": 81,
        "start_time": "2022-01-31T14:02:12.853Z"
      },
      {
        "duration": 29,
        "start_time": "2022-01-31T14:02:12.937Z"
      },
      {
        "duration": 85,
        "start_time": "2022-01-31T14:02:12.968Z"
      },
      {
        "duration": 98,
        "start_time": "2022-01-31T14:02:13.056Z"
      },
      {
        "duration": 187,
        "start_time": "2022-01-31T14:02:13.156Z"
      },
      {
        "duration": 728,
        "start_time": "2022-01-31T14:02:13.346Z"
      },
      {
        "duration": 12,
        "start_time": "2022-01-31T14:02:14.132Z"
      },
      {
        "duration": 8,
        "start_time": "2022-01-31T14:02:14.147Z"
      },
      {
        "duration": 80,
        "start_time": "2022-01-31T14:02:14.157Z"
      },
      {
        "duration": 127,
        "start_time": "2022-01-31T14:02:14.239Z"
      },
      {
        "duration": 76,
        "start_time": "2022-01-31T14:02:14.369Z"
      },
      {
        "duration": 186,
        "start_time": "2022-01-31T14:02:14.451Z"
      },
      {
        "duration": 194,
        "start_time": "2022-01-31T14:02:14.640Z"
      },
      {
        "duration": 103,
        "start_time": "2022-01-31T14:02:14.836Z"
      },
      {
        "duration": 117,
        "start_time": "2022-01-31T14:02:14.945Z"
      },
      {
        "duration": 4,
        "start_time": "2022-01-31T14:02:15.064Z"
      },
      {
        "duration": 63,
        "start_time": "2022-01-31T14:02:15.070Z"
      },
      {
        "duration": 10,
        "start_time": "2022-01-31T14:02:15.135Z"
      },
      {
        "duration": 2614,
        "start_time": "2022-01-31T14:02:59.497Z"
      },
      {
        "duration": 8,
        "start_time": "2022-01-31T14:10:30.989Z"
      },
      {
        "duration": 3,
        "start_time": "2022-01-31T14:10:31.888Z"
      },
      {
        "duration": 3,
        "start_time": "2022-01-31T14:10:32.336Z"
      },
      {
        "duration": 3,
        "start_time": "2022-01-31T14:10:32.841Z"
      },
      {
        "duration": 3,
        "start_time": "2022-01-31T14:10:33.224Z"
      },
      {
        "duration": 3,
        "start_time": "2022-01-31T14:10:34.025Z"
      },
      {
        "duration": 3,
        "start_time": "2022-01-31T14:10:34.841Z"
      },
      {
        "duration": 3,
        "start_time": "2022-01-31T14:10:35.896Z"
      },
      {
        "duration": 395,
        "start_time": "2022-01-31T14:12:33.421Z"
      },
      {
        "duration": 11581,
        "start_time": "2022-01-31T14:13:02.910Z"
      },
      {
        "duration": 2712,
        "start_time": "2022-01-31T14:13:47.320Z"
      },
      {
        "duration": 1812,
        "start_time": "2022-01-31T18:17:10.869Z"
      },
      {
        "duration": 465,
        "start_time": "2022-01-31T18:17:12.684Z"
      },
      {
        "duration": 28,
        "start_time": "2022-01-31T18:17:13.153Z"
      },
      {
        "duration": 18,
        "start_time": "2022-01-31T18:17:13.184Z"
      },
      {
        "duration": 48,
        "start_time": "2022-01-31T18:17:13.204Z"
      },
      {
        "duration": 111,
        "start_time": "2022-01-31T18:17:13.254Z"
      },
      {
        "duration": 9,
        "start_time": "2022-01-31T18:17:13.368Z"
      },
      {
        "duration": 37,
        "start_time": "2022-01-31T18:17:13.379Z"
      },
      {
        "duration": 10220,
        "start_time": "2022-01-31T18:17:13.421Z"
      },
      {
        "duration": 10450,
        "start_time": "2022-01-31T18:17:23.648Z"
      },
      {
        "duration": 100,
        "start_time": "2022-01-31T18:17:34.101Z"
      },
      {
        "duration": 1314,
        "start_time": "2022-01-31T18:17:34.249Z"
      },
      {
        "duration": 84,
        "start_time": "2022-01-31T18:17:35.566Z"
      },
      {
        "duration": 29,
        "start_time": "2022-01-31T18:17:35.653Z"
      },
      {
        "duration": 96,
        "start_time": "2022-01-31T18:17:35.685Z"
      },
      {
        "duration": 204,
        "start_time": "2022-01-31T18:17:35.784Z"
      },
      {
        "duration": 358,
        "start_time": "2022-01-31T18:17:35.990Z"
      },
      {
        "duration": 12,
        "start_time": "2022-01-31T18:17:36.351Z"
      },
      {
        "duration": 9,
        "start_time": "2022-01-31T18:17:36.365Z"
      },
      {
        "duration": 6,
        "start_time": "2022-01-31T18:17:36.376Z"
      },
      {
        "duration": 7,
        "start_time": "2022-01-31T18:17:36.384Z"
      },
      {
        "duration": 6,
        "start_time": "2022-01-31T18:17:36.394Z"
      },
      {
        "duration": 46,
        "start_time": "2022-01-31T18:17:36.402Z"
      },
      {
        "duration": 7,
        "start_time": "2022-01-31T18:17:36.451Z"
      },
      {
        "duration": 5,
        "start_time": "2022-01-31T18:17:36.460Z"
      },
      {
        "duration": 6,
        "start_time": "2022-01-31T18:17:36.468Z"
      },
      {
        "duration": 5,
        "start_time": "2022-01-31T18:17:36.479Z"
      },
      {
        "duration": 8,
        "start_time": "2022-01-31T18:17:36.486Z"
      },
      {
        "duration": 10,
        "start_time": "2022-01-31T18:17:36.496Z"
      },
      {
        "duration": 6,
        "start_time": "2022-01-31T18:17:40.735Z"
      },
      {
        "duration": 5,
        "start_time": "2022-01-31T18:17:51.759Z"
      },
      {
        "duration": 4,
        "start_time": "2022-01-31T18:18:48.720Z"
      },
      {
        "duration": 21,
        "start_time": "2022-01-31T18:22:08.893Z"
      },
      {
        "duration": 649,
        "start_time": "2022-01-31T18:23:12.644Z"
      },
      {
        "duration": 359,
        "start_time": "2022-01-31T18:23:20.140Z"
      },
      {
        "duration": 310,
        "start_time": "2022-01-31T18:23:36.568Z"
      },
      {
        "duration": 105,
        "start_time": "2022-01-31T18:23:53.901Z"
      },
      {
        "duration": 38,
        "start_time": "2022-01-31T18:27:48.134Z"
      },
      {
        "duration": 39,
        "start_time": "2022-01-31T18:28:39.958Z"
      },
      {
        "duration": 37,
        "start_time": "2022-01-31T18:28:51.243Z"
      },
      {
        "duration": 37,
        "start_time": "2022-01-31T18:29:25.318Z"
      },
      {
        "duration": 43,
        "start_time": "2022-01-31T18:29:31.319Z"
      },
      {
        "duration": 5,
        "start_time": "2022-01-31T18:29:49.423Z"
      },
      {
        "duration": 44,
        "start_time": "2022-01-31T18:29:51.502Z"
      },
      {
        "duration": 45,
        "start_time": "2022-01-31T18:30:12.175Z"
      },
      {
        "duration": 5880,
        "start_time": "2022-01-31T18:31:22.174Z"
      },
      {
        "duration": 5639,
        "start_time": "2022-01-31T18:31:38.727Z"
      },
      {
        "duration": 50,
        "start_time": "2022-01-31T18:31:59.584Z"
      },
      {
        "duration": 65,
        "start_time": "2022-01-31T18:32:17.296Z"
      },
      {
        "duration": 7,
        "start_time": "2022-01-31T18:37:22.006Z"
      },
      {
        "duration": 481,
        "start_time": "2022-01-31T18:37:22.781Z"
      },
      {
        "duration": 15,
        "start_time": "2022-01-31T18:37:24.789Z"
      },
      {
        "duration": 16,
        "start_time": "2022-01-31T18:37:26.222Z"
      },
      {
        "duration": 19,
        "start_time": "2022-01-31T18:37:27.492Z"
      },
      {
        "duration": 76,
        "start_time": "2022-01-31T18:37:28.836Z"
      },
      {
        "duration": 9,
        "start_time": "2022-01-31T18:37:30.622Z"
      },
      {
        "duration": 10572,
        "start_time": "2022-01-31T18:37:41.517Z"
      },
      {
        "duration": 26,
        "start_time": "2022-01-31T18:38:01.221Z"
      },
      {
        "duration": 9732,
        "start_time": "2022-01-31T18:38:02.357Z"
      },
      {
        "duration": 65,
        "start_time": "2022-01-31T18:38:54.649Z"
      },
      {
        "duration": 65,
        "start_time": "2022-01-31T18:38:54.719Z"
      },
      {
        "duration": 29,
        "start_time": "2022-01-31T18:38:56.581Z"
      },
      {
        "duration": 28,
        "start_time": "2022-01-31T18:39:08.508Z"
      },
      {
        "duration": 40,
        "start_time": "2022-01-31T18:39:11.613Z"
      },
      {
        "duration": 83,
        "start_time": "2022-01-31T18:39:12.471Z"
      },
      {
        "duration": 296,
        "start_time": "2022-01-31T18:39:13.309Z"
      },
      {
        "duration": 13,
        "start_time": "2022-01-31T18:39:15.030Z"
      },
      {
        "duration": 9,
        "start_time": "2022-01-31T18:39:31.125Z"
      },
      {
        "duration": 3,
        "start_time": "2022-01-31T18:39:31.805Z"
      },
      {
        "duration": 4,
        "start_time": "2022-01-31T18:39:32.284Z"
      },
      {
        "duration": 3,
        "start_time": "2022-01-31T18:39:32.645Z"
      },
      {
        "duration": 4,
        "start_time": "2022-01-31T18:39:33.180Z"
      },
      {
        "duration": 3,
        "start_time": "2022-01-31T18:39:33.468Z"
      },
      {
        "duration": 4,
        "start_time": "2022-01-31T18:39:33.828Z"
      },
      {
        "duration": 4,
        "start_time": "2022-01-31T18:39:34.811Z"
      },
      {
        "duration": 4,
        "start_time": "2022-01-31T18:39:38.380Z"
      },
      {
        "duration": 5,
        "start_time": "2022-01-31T18:39:39.655Z"
      },
      {
        "duration": 10,
        "start_time": "2022-01-31T18:39:40.934Z"
      },
      {
        "duration": 6,
        "start_time": "2022-01-31T18:39:56.469Z"
      },
      {
        "duration": 48,
        "start_time": "2022-01-31T18:40:01.749Z"
      },
      {
        "duration": 3323,
        "start_time": "2022-01-31T18:40:10.157Z"
      },
      {
        "duration": 2454,
        "start_time": "2022-01-31T18:40:39.356Z"
      },
      {
        "duration": 2445,
        "start_time": "2022-01-31T18:40:49.843Z"
      },
      {
        "duration": 1574,
        "start_time": "2022-01-31T19:41:21.120Z"
      },
      {
        "duration": 374,
        "start_time": "2022-01-31T19:41:22.696Z"
      },
      {
        "duration": 17,
        "start_time": "2022-01-31T19:41:23.073Z"
      },
      {
        "duration": 11,
        "start_time": "2022-01-31T19:41:23.157Z"
      },
      {
        "duration": 10,
        "start_time": "2022-01-31T19:41:23.297Z"
      },
      {
        "duration": 74,
        "start_time": "2022-01-31T19:41:23.589Z"
      },
      {
        "duration": 6,
        "start_time": "2022-01-31T19:41:23.897Z"
      },
      {
        "duration": 5356,
        "start_time": "2022-01-31T19:41:24.057Z"
      },
      {
        "duration": 17,
        "start_time": "2022-01-31T19:41:57.660Z"
      },
      {
        "duration": 44,
        "start_time": "2022-01-31T19:42:05.607Z"
      },
      {
        "duration": 1497,
        "start_time": "2022-01-31T19:42:06.856Z"
      },
      {
        "duration": 60,
        "start_time": "2022-01-31T19:42:11.981Z"
      },
      {
        "duration": 82,
        "start_time": "2022-01-31T19:42:12.733Z"
      },
      {
        "duration": 148,
        "start_time": "2022-01-31T19:42:13.301Z"
      },
      {
        "duration": 11,
        "start_time": "2022-01-31T19:42:13.991Z"
      },
      {
        "duration": 6,
        "start_time": "2022-01-31T19:42:21.315Z"
      },
      {
        "duration": 3,
        "start_time": "2022-01-31T19:42:24.800Z"
      },
      {
        "duration": 4,
        "start_time": "2022-01-31T19:42:25.957Z"
      },
      {
        "duration": 8,
        "start_time": "2022-01-31T19:42:27.159Z"
      },
      {
        "duration": 3,
        "start_time": "2022-01-31T19:42:46.320Z"
      },
      {
        "duration": 41,
        "start_time": "2022-01-31T19:42:47.519Z"
      },
      {
        "duration": 1522,
        "start_time": "2022-01-31T19:42:51.040Z"
      },
      {
        "duration": 196,
        "start_time": "2022-01-31T19:42:59.602Z"
      },
      {
        "duration": 1522,
        "start_time": "2022-01-31T19:44:53.968Z"
      },
      {
        "duration": 385,
        "start_time": "2022-01-31T20:04:34.945Z"
      },
      {
        "duration": 314,
        "start_time": "2022-01-31T20:04:43.230Z"
      },
      {
        "duration": 178,
        "start_time": "2022-01-31T20:04:53.790Z"
      },
      {
        "duration": 180,
        "start_time": "2022-01-31T20:04:55.145Z"
      },
      {
        "duration": 3,
        "start_time": "2022-01-31T20:06:47.137Z"
      },
      {
        "duration": 3,
        "start_time": "2022-01-31T20:06:47.902Z"
      },
      {
        "duration": 151,
        "start_time": "2022-01-31T20:06:49.258Z"
      },
      {
        "duration": 782,
        "start_time": "2022-01-31T20:06:51.483Z"
      },
      {
        "duration": 182,
        "start_time": "2022-01-31T20:08:38.843Z"
      },
      {
        "duration": 7,
        "start_time": "2022-01-31T20:09:20.065Z"
      },
      {
        "duration": 6,
        "start_time": "2022-01-31T20:09:32.365Z"
      },
      {
        "duration": 162,
        "start_time": "2022-01-31T20:09:56.504Z"
      },
      {
        "duration": 3,
        "start_time": "2022-01-31T20:09:57.235Z"
      },
      {
        "duration": 173,
        "start_time": "2022-01-31T20:09:58.262Z"
      },
      {
        "duration": 162,
        "start_time": "2022-01-31T20:10:15.418Z"
      },
      {
        "duration": 3,
        "start_time": "2022-01-31T20:10:15.991Z"
      },
      {
        "duration": 3564,
        "start_time": "2022-01-31T20:10:16.739Z"
      },
      {
        "duration": 3566,
        "start_time": "2022-01-31T20:10:56.638Z"
      },
      {
        "duration": 3322,
        "start_time": "2022-01-31T20:11:06.061Z"
      },
      {
        "duration": 3,
        "start_time": "2022-01-31T20:11:25.097Z"
      },
      {
        "duration": 3,
        "start_time": "2022-01-31T20:11:28.130Z"
      },
      {
        "duration": 3,
        "start_time": "2022-01-31T20:11:28.971Z"
      },
      {
        "duration": 243,
        "start_time": "2022-01-31T20:11:30.315Z"
      },
      {
        "duration": 4,
        "start_time": "2022-01-31T20:11:31.555Z"
      },
      {
        "duration": 3374,
        "start_time": "2022-01-31T20:11:32.277Z"
      },
      {
        "duration": 4,
        "start_time": "2022-01-31T20:15:16.660Z"
      },
      {
        "duration": 5,
        "start_time": "2022-01-31T20:15:24.126Z"
      },
      {
        "duration": 125,
        "start_time": "2022-01-31T20:18:36.423Z"
      },
      {
        "duration": 21,
        "start_time": "2022-01-31T20:18:38.158Z"
      },
      {
        "duration": 3,
        "start_time": "2022-01-31T20:18:39.855Z"
      },
      {
        "duration": 3332,
        "start_time": "2022-01-31T20:18:41.536Z"
      },
      {
        "duration": 5,
        "start_time": "2022-01-31T20:18:59.952Z"
      },
      {
        "duration": 5033,
        "start_time": "2022-01-31T20:22:07.137Z"
      },
      {
        "duration": 4,
        "start_time": "2022-01-31T20:25:23.321Z"
      },
      {
        "duration": 3372,
        "start_time": "2022-01-31T20:25:24.875Z"
      },
      {
        "duration": 139,
        "start_time": "2022-01-31T20:28:08.707Z"
      },
      {
        "duration": 178,
        "start_time": "2022-01-31T20:28:09.220Z"
      },
      {
        "duration": 4,
        "start_time": "2022-01-31T20:28:14.580Z"
      },
      {
        "duration": 3,
        "start_time": "2022-01-31T20:28:16.211Z"
      },
      {
        "duration": 132,
        "start_time": "2022-01-31T20:28:16.872Z"
      },
      {
        "duration": 26,
        "start_time": "2022-01-31T20:28:17.445Z"
      },
      {
        "duration": 3,
        "start_time": "2022-01-31T20:28:26.007Z"
      },
      {
        "duration": 4,
        "start_time": "2022-01-31T20:28:28.592Z"
      },
      {
        "duration": 3166,
        "start_time": "2022-01-31T20:28:31.494Z"
      },
      {
        "duration": 3,
        "start_time": "2022-01-31T20:29:05.232Z"
      },
      {
        "duration": 3,
        "start_time": "2022-01-31T20:29:06.298Z"
      },
      {
        "duration": 125,
        "start_time": "2022-01-31T20:29:07.291Z"
      },
      {
        "duration": 4,
        "start_time": "2022-01-31T20:29:11.090Z"
      },
      {
        "duration": 3054,
        "start_time": "2022-01-31T20:29:13.825Z"
      },
      {
        "duration": 4,
        "start_time": "2022-01-31T20:29:41.815Z"
      },
      {
        "duration": 4,
        "start_time": "2022-01-31T20:29:42.586Z"
      },
      {
        "duration": 132,
        "start_time": "2022-01-31T20:29:43.787Z"
      },
      {
        "duration": 21,
        "start_time": "2022-01-31T20:29:44.539Z"
      },
      {
        "duration": 3,
        "start_time": "2022-01-31T20:29:45.176Z"
      },
      {
        "duration": 3118,
        "start_time": "2022-01-31T20:29:45.867Z"
      },
      {
        "duration": 1506,
        "start_time": "2022-01-31T20:31:15.469Z"
      },
      {
        "duration": 316,
        "start_time": "2022-02-01T16:31:05.633Z"
      },
      {
        "duration": 1364,
        "start_time": "2022-02-01T16:31:51.683Z"
      },
      {
        "duration": 334,
        "start_time": "2022-02-01T16:31:53.048Z"
      },
      {
        "duration": 15,
        "start_time": "2022-02-01T16:31:53.384Z"
      },
      {
        "duration": 9,
        "start_time": "2022-02-01T16:31:53.401Z"
      },
      {
        "duration": 10,
        "start_time": "2022-02-01T16:31:53.427Z"
      },
      {
        "duration": 64,
        "start_time": "2022-02-01T16:31:53.439Z"
      },
      {
        "duration": 5,
        "start_time": "2022-02-01T16:31:53.505Z"
      },
      {
        "duration": 7215,
        "start_time": "2022-02-01T16:31:53.512Z"
      },
      {
        "duration": 24,
        "start_time": "2022-02-01T16:32:00.730Z"
      },
      {
        "duration": 9495,
        "start_time": "2022-02-01T16:32:00.756Z"
      },
      {
        "duration": 9269,
        "start_time": "2022-02-01T16:32:10.253Z"
      },
      {
        "duration": 104,
        "start_time": "2022-02-01T16:32:19.523Z"
      },
      {
        "duration": 812,
        "start_time": "2022-02-01T16:32:19.629Z"
      },
      {
        "duration": 19,
        "start_time": "2022-02-01T16:32:20.443Z"
      },
      {
        "duration": 80,
        "start_time": "2022-02-01T16:32:20.463Z"
      },
      {
        "duration": 83,
        "start_time": "2022-02-01T16:32:20.545Z"
      },
      {
        "duration": 98,
        "start_time": "2022-02-01T16:32:20.630Z"
      },
      {
        "duration": 225,
        "start_time": "2022-02-01T16:32:20.730Z"
      },
      {
        "duration": 10,
        "start_time": "2022-02-01T16:32:20.957Z"
      },
      {
        "duration": 6,
        "start_time": "2022-02-01T16:32:20.969Z"
      },
      {
        "duration": 13,
        "start_time": "2022-02-01T16:32:20.977Z"
      },
      {
        "duration": 10,
        "start_time": "2022-02-01T16:32:20.991Z"
      },
      {
        "duration": 6,
        "start_time": "2022-02-01T16:32:21.004Z"
      },
      {
        "duration": 13,
        "start_time": "2022-02-01T16:32:21.011Z"
      },
      {
        "duration": 11,
        "start_time": "2022-02-01T16:32:21.025Z"
      },
      {
        "duration": 7,
        "start_time": "2022-02-01T16:32:21.037Z"
      },
      {
        "duration": 7,
        "start_time": "2022-02-01T16:32:21.045Z"
      },
      {
        "duration": 7,
        "start_time": "2022-02-01T16:32:21.054Z"
      },
      {
        "duration": 14,
        "start_time": "2022-02-01T16:32:21.062Z"
      },
      {
        "duration": 12,
        "start_time": "2022-02-01T16:32:21.078Z"
      },
      {
        "duration": 14,
        "start_time": "2022-02-01T16:32:21.092Z"
      },
      {
        "duration": 65,
        "start_time": "2022-02-01T16:32:21.107Z"
      },
      {
        "duration": 1439,
        "start_time": "2022-02-01T16:32:21.173Z"
      },
      {
        "duration": 1429,
        "start_time": "2022-02-01T16:32:22.614Z"
      },
      {
        "duration": 1565,
        "start_time": "2022-02-01T16:32:24.044Z"
      },
      {
        "duration": 83,
        "start_time": "2022-02-01T16:32:25.611Z"
      },
      {
        "duration": 573,
        "start_time": "2022-02-01T16:32:25.696Z"
      },
      {
        "duration": 325,
        "start_time": "2022-02-01T16:32:44.518Z"
      },
      {
        "duration": 343,
        "start_time": "2022-02-01T16:32:55.665Z"
      },
      {
        "duration": 17,
        "start_time": "2022-02-01T16:33:08.740Z"
      },
      {
        "duration": 15,
        "start_time": "2022-02-01T16:33:11.499Z"
      },
      {
        "duration": 371,
        "start_time": "2022-02-01T16:42:22.834Z"
      },
      {
        "duration": 386,
        "start_time": "2022-02-01T16:42:38.358Z"
      },
      {
        "duration": 20,
        "start_time": "2022-02-01T16:43:05.925Z"
      },
      {
        "duration": 825,
        "start_time": "2022-02-01T16:43:18.789Z"
      },
      {
        "duration": 12,
        "start_time": "2022-02-01T16:43:37.740Z"
      },
      {
        "duration": 819,
        "start_time": "2022-02-01T16:43:43.431Z"
      },
      {
        "duration": 8,
        "start_time": "2022-02-01T16:43:59.355Z"
      },
      {
        "duration": 11,
        "start_time": "2022-02-01T16:45:00.186Z"
      },
      {
        "duration": 7,
        "start_time": "2022-02-01T16:45:01.866Z"
      },
      {
        "duration": 1021,
        "start_time": "2022-02-01T16:45:05.307Z"
      },
      {
        "duration": 24,
        "start_time": "2022-02-01T16:45:40.906Z"
      },
      {
        "duration": 1038,
        "start_time": "2022-02-01T16:46:14.305Z"
      },
      {
        "duration": 1225,
        "start_time": "2022-02-01T16:46:18.890Z"
      },
      {
        "duration": 1148,
        "start_time": "2022-02-01T16:46:55.971Z"
      },
      {
        "duration": 94,
        "start_time": "2022-02-01T16:47:42.747Z"
      },
      {
        "duration": 6,
        "start_time": "2022-02-01T16:47:59.324Z"
      },
      {
        "duration": 1435,
        "start_time": "2022-02-01T16:48:57.754Z"
      },
      {
        "duration": 1031,
        "start_time": "2022-02-01T16:49:18.890Z"
      },
      {
        "duration": 6,
        "start_time": "2022-02-01T16:49:47.673Z"
      },
      {
        "duration": 1047,
        "start_time": "2022-02-01T16:49:58.058Z"
      },
      {
        "duration": 6,
        "start_time": "2022-02-01T16:51:25.931Z"
      },
      {
        "duration": 74,
        "start_time": "2022-02-01T16:51:35.322Z"
      },
      {
        "duration": 17,
        "start_time": "2022-02-01T16:51:36.282Z"
      },
      {
        "duration": 13,
        "start_time": "2022-02-01T16:51:37.035Z"
      },
      {
        "duration": 1026,
        "start_time": "2022-02-01T16:51:37.963Z"
      },
      {
        "duration": 1046,
        "start_time": "2022-02-01T16:51:44.315Z"
      },
      {
        "duration": 1023,
        "start_time": "2022-02-01T16:51:52.475Z"
      },
      {
        "duration": 72,
        "start_time": "2022-02-01T16:53:00.692Z"
      },
      {
        "duration": 17,
        "start_time": "2022-02-01T16:53:03.044Z"
      },
      {
        "duration": 17,
        "start_time": "2022-02-01T16:53:03.598Z"
      },
      {
        "duration": 1051,
        "start_time": "2022-02-01T16:53:04.518Z"
      },
      {
        "duration": 1018,
        "start_time": "2022-02-01T16:53:07.356Z"
      },
      {
        "duration": 1035,
        "start_time": "2022-02-01T16:53:10.035Z"
      },
      {
        "duration": 2,
        "start_time": "2022-02-01T16:59:36.082Z"
      },
      {
        "duration": 41,
        "start_time": "2022-02-01T16:59:42.515Z"
      },
      {
        "duration": 35,
        "start_time": "2022-02-01T17:02:05.886Z"
      },
      {
        "duration": 51,
        "start_time": "2022-02-01T17:07:49.788Z"
      },
      {
        "duration": 18,
        "start_time": "2022-02-01T17:07:58.240Z"
      },
      {
        "duration": 14,
        "start_time": "2022-02-01T17:07:59.521Z"
      },
      {
        "duration": 39,
        "start_time": "2022-02-01T17:08:00.928Z"
      },
      {
        "duration": 70,
        "start_time": "2022-02-01T17:09:00.138Z"
      },
      {
        "duration": 17,
        "start_time": "2022-02-01T17:09:01.400Z"
      },
      {
        "duration": 14,
        "start_time": "2022-02-01T17:09:02.426Z"
      },
      {
        "duration": 86,
        "start_time": "2022-02-01T17:09:06.442Z"
      },
      {
        "duration": 1035,
        "start_time": "2022-02-01T17:09:35.163Z"
      },
      {
        "duration": 1366,
        "start_time": "2022-02-01T17:09:55.615Z"
      },
      {
        "duration": 342,
        "start_time": "2022-02-01T17:09:56.983Z"
      },
      {
        "duration": 16,
        "start_time": "2022-02-01T17:09:57.327Z"
      },
      {
        "duration": 10,
        "start_time": "2022-02-01T17:09:57.345Z"
      },
      {
        "duration": 10,
        "start_time": "2022-02-01T17:09:57.357Z"
      },
      {
        "duration": 86,
        "start_time": "2022-02-01T17:09:57.368Z"
      },
      {
        "duration": 6,
        "start_time": "2022-02-01T17:09:57.456Z"
      },
      {
        "duration": 6224,
        "start_time": "2022-02-01T17:09:57.464Z"
      },
      {
        "duration": 48,
        "start_time": "2022-02-01T17:10:03.690Z"
      },
      {
        "duration": 5915,
        "start_time": "2022-02-01T17:10:03.739Z"
      },
      {
        "duration": 6221,
        "start_time": "2022-02-01T17:10:09.656Z"
      },
      {
        "duration": 71,
        "start_time": "2022-02-01T17:10:15.880Z"
      },
      {
        "duration": 774,
        "start_time": "2022-02-01T17:10:15.953Z"
      },
      {
        "duration": 19,
        "start_time": "2022-02-01T17:10:16.729Z"
      },
      {
        "duration": 18,
        "start_time": "2022-02-01T17:10:16.749Z"
      },
      {
        "duration": 85,
        "start_time": "2022-02-01T17:10:16.768Z"
      },
      {
        "duration": 116,
        "start_time": "2022-02-01T17:10:16.855Z"
      },
      {
        "duration": 139,
        "start_time": "2022-02-01T17:10:16.972Z"
      },
      {
        "duration": 14,
        "start_time": "2022-02-01T17:10:17.113Z"
      },
      {
        "duration": 5,
        "start_time": "2022-02-01T17:10:17.128Z"
      },
      {
        "duration": 5,
        "start_time": "2022-02-01T17:10:17.134Z"
      },
      {
        "duration": 4,
        "start_time": "2022-02-01T17:10:17.140Z"
      },
      {
        "duration": 3,
        "start_time": "2022-02-01T17:10:17.147Z"
      },
      {
        "duration": 6,
        "start_time": "2022-02-01T17:10:17.151Z"
      },
      {
        "duration": 5,
        "start_time": "2022-02-01T17:10:17.158Z"
      },
      {
        "duration": 5,
        "start_time": "2022-02-01T17:10:17.164Z"
      },
      {
        "duration": 4,
        "start_time": "2022-02-01T17:10:17.170Z"
      },
      {
        "duration": 6,
        "start_time": "2022-02-01T17:10:17.176Z"
      },
      {
        "duration": 5,
        "start_time": "2022-02-01T17:10:17.183Z"
      },
      {
        "duration": 6,
        "start_time": "2022-02-01T17:10:17.190Z"
      },
      {
        "duration": 6,
        "start_time": "2022-02-01T17:10:17.197Z"
      },
      {
        "duration": 56,
        "start_time": "2022-02-01T17:10:17.205Z"
      },
      {
        "duration": 1403,
        "start_time": "2022-02-01T17:10:17.262Z"
      },
      {
        "duration": 1412,
        "start_time": "2022-02-01T17:10:18.667Z"
      },
      {
        "duration": 1415,
        "start_time": "2022-02-01T17:10:20.081Z"
      },
      {
        "duration": 75,
        "start_time": "2022-02-01T17:10:21.497Z"
      },
      {
        "duration": 153,
        "start_time": "2022-02-01T17:10:21.574Z"
      },
      {
        "duration": 99,
        "start_time": "2022-02-01T17:10:21.729Z"
      },
      {
        "duration": 203,
        "start_time": "2022-02-01T17:10:21.831Z"
      },
      {
        "duration": 1184,
        "start_time": "2022-02-01T17:10:22.036Z"
      },
      {
        "duration": 1069,
        "start_time": "2022-02-01T17:10:23.226Z"
      },
      {
        "duration": 1181,
        "start_time": "2022-02-01T17:10:24.297Z"
      },
      {
        "duration": 1054,
        "start_time": "2022-02-01T17:10:25.480Z"
      },
      {
        "duration": 101,
        "start_time": "2022-02-01T17:10:26.535Z"
      },
      {
        "duration": -60523,
        "start_time": "2022-02-01T17:11:27.161Z"
      },
      {
        "duration": -60526,
        "start_time": "2022-02-01T17:11:27.164Z"
      },
      {
        "duration": -60528,
        "start_time": "2022-02-01T17:11:27.167Z"
      },
      {
        "duration": -60530,
        "start_time": "2022-02-01T17:11:27.170Z"
      },
      {
        "duration": -60533,
        "start_time": "2022-02-01T17:11:27.174Z"
      },
      {
        "duration": -60534,
        "start_time": "2022-02-01T17:11:27.177Z"
      }
    ],
    "colab": {
      "collapsed_sections": [],
      "name": "8-geo-location-v3.ipynb",
      "provenance": []
    },
    "kernelspec": {
      "display_name": "Python 3",
      "language": "python",
      "name": "python3"
    },
    "language_info": {
      "codemirror_mode": {
        "name": "ipython",
        "version": 3
      },
      "file_extension": ".py",
      "mimetype": "text/x-python",
      "name": "python",
      "nbconvert_exporter": "python",
      "pygments_lexer": "ipython3",
      "version": "3.7.8"
    },
    "toc": {
      "base_numbering": 1,
      "nav_menu": {},
      "number_sections": true,
      "sideBar": true,
      "skip_h1_title": true,
      "title_cell": "Table of Contents",
      "title_sidebar": "Contents",
      "toc_cell": false,
      "toc_position": {},
      "toc_section_display": true,
      "toc_window_display": false
    }
  },
  "nbformat": 4,
  "nbformat_minor": 0
}